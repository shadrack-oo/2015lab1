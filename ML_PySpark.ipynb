{
  "nbformat": 4,
  "nbformat_minor": 0,
  "metadata": {
    "colab": {
      "provenance": [],
      "toc_visible": true,
      "include_colab_link": true
    },
    "kernelspec": {
      "name": "python3",
      "display_name": "Python 3"
    },
    "language_info": {
      "name": "python"
    }
  },
  "cells": [
    {
      "cell_type": "markdown",
      "metadata": {
        "id": "view-in-github",
        "colab_type": "text"
      },
      "source": [
        "<a href=\"https://colab.research.google.com/github/shadrack-oo/2015lab1/blob/master/ML_PySpark.ipynb\" target=\"_parent\"><img src=\"https://colab.research.google.com/assets/colab-badge.svg\" alt=\"Open In Colab\"/></a>"
      ]
    },
    {
      "cell_type": "markdown",
      "source": [
        "#**PySpark Lab Continued**\n",
        "\n",
        "This lab has 5 challenges. Please complete each challenge within the code. Some challenges MUST be completed to run the remainder of the code. Contact me if you have questions. \n",
        "\n",
        "Submit your final lab as *lastName*_Lab8.ipynb. "
      ],
      "metadata": {
        "id": "kZVGV-VcC189"
      }
    },
    {
      "cell_type": "code",
      "execution_count": null,
      "metadata": {
        "id": "feYBjeNVjlbX",
        "colab": {
          "base_uri": "https://localhost:8080/"
        },
        "outputId": "f292db45-b259-4d5b-fa27-f7b5ed848d90"
      },
      "outputs": [
        {
          "output_type": "stream",
          "name": "stdout",
          "text": [
            "Mounted at /content/drive\n"
          ]
        }
      ],
      "source": [
        "from google.colab import drive\n",
        "drive.mount('/content/drive')"
      ]
    },
    {
      "cell_type": "code",
      "source": [
        "!apt-get install openjdk-8-jdk-headless -qq > /dev/null"
      ],
      "metadata": {
        "id": "orftoNwtjv0t"
      },
      "execution_count": null,
      "outputs": []
    },
    {
      "cell_type": "code",
      "source": [
        "!update-alternatives --set java /usr/lib/jvm/java-8-openjdk-amd64/jre/bin/java\n",
        "!java -version"
      ],
      "metadata": {
        "colab": {
          "base_uri": "https://localhost:8080/"
        },
        "id": "Gv8w6vfU725F",
        "outputId": "81874808-9623-4184-cb9b-d703bf18d2e7"
      },
      "execution_count": null,
      "outputs": [
        {
          "output_type": "stream",
          "name": "stdout",
          "text": [
            "update-alternatives: using /usr/lib/jvm/java-8-openjdk-amd64/jre/bin/java to provide /usr/bin/java (java) in manual mode\n",
            "openjdk version \"1.8.0_342\"\n",
            "OpenJDK Runtime Environment (build 1.8.0_342-8u342-b07-0ubuntu1~18.04-b07)\n",
            "OpenJDK 64-Bit Server VM (build 25.342-b07, mixed mode)\n"
          ]
        }
      ]
    },
    {
      "cell_type": "code",
      "source": [
        "!wget https://dlcdn.apache.org/spark/spark-3.3.0/spark-3.3.0-bin-hadoop3.tgz"
      ],
      "metadata": {
        "colab": {
          "base_uri": "https://localhost:8080/"
        },
        "id": "zodxfgt8jz6x",
        "outputId": "05a32571-79ee-4e86-a6c8-c9f1d526342c"
      },
      "execution_count": null,
      "outputs": [
        {
          "output_type": "stream",
          "name": "stdout",
          "text": [
            "--2022-10-04 16:43:43--  https://dlcdn.apache.org/spark/spark-3.3.0/spark-3.3.0-bin-hadoop3.tgz\n",
            "Resolving dlcdn.apache.org (dlcdn.apache.org)... 151.101.2.132, 2a04:4e42::644\n",
            "Connecting to dlcdn.apache.org (dlcdn.apache.org)|151.101.2.132|:443... connected.\n",
            "HTTP request sent, awaiting response... 200 OK\n",
            "Length: 299321244 (285M) [application/x-gzip]\n",
            "Saving to: ‘spark-3.3.0-bin-hadoop3.tgz’\n",
            "\n",
            "spark-3.3.0-bin-had 100%[===================>] 285.45M   265MB/s    in 1.1s    \n",
            "\n",
            "2022-10-04 16:43:44 (265 MB/s) - ‘spark-3.3.0-bin-hadoop3.tgz’ saved [299321244/299321244]\n",
            "\n"
          ]
        }
      ]
    },
    {
      "cell_type": "code",
      "source": [
        "!tar xvf spark-3.3.0-bin-hadoop3.tgz"
      ],
      "metadata": {
        "colab": {
          "base_uri": "https://localhost:8080/"
        },
        "id": "v_OlIJ35j5Iz",
        "outputId": "29e34cc6-2ff1-4dd9-fd12-b1f45bec8d33"
      },
      "execution_count": null,
      "outputs": [
        {
          "output_type": "stream",
          "name": "stdout",
          "text": [
            "spark-3.3.0-bin-hadoop3/\n",
            "spark-3.3.0-bin-hadoop3/NOTICE\n",
            "spark-3.3.0-bin-hadoop3/kubernetes/\n",
            "spark-3.3.0-bin-hadoop3/kubernetes/tests/\n",
            "spark-3.3.0-bin-hadoop3/kubernetes/tests/python_executable_check.py\n",
            "spark-3.3.0-bin-hadoop3/kubernetes/tests/autoscale.py\n",
            "spark-3.3.0-bin-hadoop3/kubernetes/tests/worker_memory_check.py\n",
            "spark-3.3.0-bin-hadoop3/kubernetes/tests/py_container_checks.py\n",
            "spark-3.3.0-bin-hadoop3/kubernetes/tests/decommissioning.py\n",
            "spark-3.3.0-bin-hadoop3/kubernetes/tests/pyfiles.py\n",
            "spark-3.3.0-bin-hadoop3/kubernetes/tests/decommissioning_cleanup.py\n",
            "spark-3.3.0-bin-hadoop3/kubernetes/dockerfiles/\n",
            "spark-3.3.0-bin-hadoop3/kubernetes/dockerfiles/spark/\n",
            "spark-3.3.0-bin-hadoop3/kubernetes/dockerfiles/spark/decom.sh\n",
            "spark-3.3.0-bin-hadoop3/kubernetes/dockerfiles/spark/entrypoint.sh\n",
            "spark-3.3.0-bin-hadoop3/kubernetes/dockerfiles/spark/bindings/\n",
            "spark-3.3.0-bin-hadoop3/kubernetes/dockerfiles/spark/bindings/R/\n",
            "spark-3.3.0-bin-hadoop3/kubernetes/dockerfiles/spark/bindings/R/Dockerfile\n",
            "spark-3.3.0-bin-hadoop3/kubernetes/dockerfiles/spark/bindings/python/\n",
            "spark-3.3.0-bin-hadoop3/kubernetes/dockerfiles/spark/bindings/python/Dockerfile\n",
            "spark-3.3.0-bin-hadoop3/kubernetes/dockerfiles/spark/Dockerfile\n",
            "spark-3.3.0-bin-hadoop3/kubernetes/dockerfiles/spark/Dockerfile.java17\n",
            "spark-3.3.0-bin-hadoop3/jars/\n",
            "spark-3.3.0-bin-hadoop3/jars/spark-network-shuffle_2.12-3.3.0.jar\n",
            "spark-3.3.0-bin-hadoop3/jars/shapeless_2.12-2.3.7.jar\n",
            "spark-3.3.0-bin-hadoop3/jars/arrow-format-7.0.0.jar\n",
            "spark-3.3.0-bin-hadoop3/jars/metrics-jvm-4.2.7.jar\n",
            "spark-3.3.0-bin-hadoop3/jars/spark-tags_2.12-3.3.0.jar\n",
            "spark-3.3.0-bin-hadoop3/jars/okhttp-3.12.12.jar\n",
            "spark-3.3.0-bin-hadoop3/jars/hive-shims-common-2.3.9.jar\n",
            "spark-3.3.0-bin-hadoop3/jars/spire_2.12-0.17.0.jar\n",
            "spark-3.3.0-bin-hadoop3/jars/logging-interceptor-3.12.12.jar\n",
            "spark-3.3.0-bin-hadoop3/jars/hive-serde-2.3.9.jar\n",
            "spark-3.3.0-bin-hadoop3/jars/objenesis-3.2.jar\n",
            "spark-3.3.0-bin-hadoop3/jars/spark-streaming_2.12-3.3.0.jar\n",
            "spark-3.3.0-bin-hadoop3/jars/avro-1.11.0.jar\n",
            "spark-3.3.0-bin-hadoop3/jars/zookeeper-3.6.2.jar\n",
            "spark-3.3.0-bin-hadoop3/jars/spark-kvstore_2.12-3.3.0.jar\n",
            "spark-3.3.0-bin-hadoop3/jars/kryo-shaded-4.0.2.jar\n",
            "spark-3.3.0-bin-hadoop3/jars/hive-jdbc-2.3.9.jar\n",
            "spark-3.3.0-bin-hadoop3/jars/jackson-annotations-2.13.3.jar\n",
            "spark-3.3.0-bin-hadoop3/jars/commons-logging-1.1.3.jar\n",
            "spark-3.3.0-bin-hadoop3/jars/commons-compiler-3.0.16.jar\n",
            "spark-3.3.0-bin-hadoop3/jars/spark-sql_2.12-3.3.0.jar\n",
            "spark-3.3.0-bin-hadoop3/jars/jdo-api-3.0.1.jar\n",
            "spark-3.3.0-bin-hadoop3/jars/pickle-1.2.jar\n",
            "spark-3.3.0-bin-hadoop3/jars/JLargeArrays-1.5.jar\n",
            "spark-3.3.0-bin-hadoop3/jars/kubernetes-model-apiextensions-5.12.2.jar\n",
            "spark-3.3.0-bin-hadoop3/jars/parquet-common-1.12.2.jar\n",
            "spark-3.3.0-bin-hadoop3/jars/httpcore-4.4.14.jar\n",
            "spark-3.3.0-bin-hadoop3/jars/commons-codec-1.15.jar\n",
            "spark-3.3.0-bin-hadoop3/jars/parquet-format-structures-1.12.2.jar\n",
            "spark-3.3.0-bin-hadoop3/jars/commons-io-2.11.0.jar\n",
            "spark-3.3.0-bin-hadoop3/jars/stax-api-1.0.1.jar\n",
            "spark-3.3.0-bin-hadoop3/jars/hive-storage-api-2.7.2.jar\n",
            "spark-3.3.0-bin-hadoop3/jars/kubernetes-model-certificates-5.12.2.jar\n",
            "spark-3.3.0-bin-hadoop3/jars/zookeeper-jute-3.6.2.jar\n",
            "spark-3.3.0-bin-hadoop3/jars/spark-yarn_2.12-3.3.0.jar\n",
            "spark-3.3.0-bin-hadoop3/jars/commons-collections4-4.4.jar\n",
            "spark-3.3.0-bin-hadoop3/jars/jline-2.14.6.jar\n",
            "spark-3.3.0-bin-hadoop3/jars/dropwizard-metrics-hadoop-metrics2-reporter-0.1.2.jar\n",
            "spark-3.3.0-bin-hadoop3/jars/commons-pool-1.5.4.jar\n",
            "spark-3.3.0-bin-hadoop3/jars/snakeyaml-1.30.jar\n",
            "spark-3.3.0-bin-hadoop3/jars/xbean-asm9-shaded-4.20.jar\n",
            "spark-3.3.0-bin-hadoop3/jars/lz4-java-1.8.0.jar\n",
            "spark-3.3.0-bin-hadoop3/jars/cats-kernel_2.12-2.1.1.jar\n",
            "spark-3.3.0-bin-hadoop3/jars/jta-1.1.jar\n",
            "spark-3.3.0-bin-hadoop3/jars/istack-commons-runtime-3.0.8.jar\n",
            "spark-3.3.0-bin-hadoop3/jars/jackson-module-scala_2.12-2.13.3.jar\n",
            "spark-3.3.0-bin-hadoop3/jars/hive-common-2.3.9.jar\n",
            "spark-3.3.0-bin-hadoop3/jars/shims-0.9.25.jar\n",
            "spark-3.3.0-bin-hadoop3/jars/compress-lzf-1.1.jar\n",
            "spark-3.3.0-bin-hadoop3/jars/commons-collections-3.2.2.jar\n",
            "spark-3.3.0-bin-hadoop3/jars/audience-annotations-0.5.0.jar\n",
            "spark-3.3.0-bin-hadoop3/jars/joda-time-2.10.13.jar\n",
            "spark-3.3.0-bin-hadoop3/jars/jpam-1.1.jar\n",
            "spark-3.3.0-bin-hadoop3/jars/jakarta.annotation-api-1.3.5.jar\n",
            "spark-3.3.0-bin-hadoop3/jars/kubernetes-model-coordination-5.12.2.jar\n",
            "spark-3.3.0-bin-hadoop3/jars/tink-1.6.1.jar\n",
            "spark-3.3.0-bin-hadoop3/jars/metrics-json-4.2.7.jar\n",
            "spark-3.3.0-bin-hadoop3/jars/spark-kubernetes_2.12-3.3.0.jar\n",
            "spark-3.3.0-bin-hadoop3/jars/jersey-common-2.34.jar\n",
            "spark-3.3.0-bin-hadoop3/jars/kubernetes-model-common-5.12.2.jar\n",
            "spark-3.3.0-bin-hadoop3/jars/spark-graphx_2.12-3.3.0.jar\n",
            "spark-3.3.0-bin-hadoop3/jars/parquet-hadoop-1.12.2.jar\n",
            "spark-3.3.0-bin-hadoop3/jars/curator-recipes-2.13.0.jar\n",
            "spark-3.3.0-bin-hadoop3/jars/zstd-jni-1.5.2-1.jar\n",
            "spark-3.3.0-bin-hadoop3/jars/commons-math3-3.6.1.jar\n",
            "spark-3.3.0-bin-hadoop3/jars/spark-tags_2.12-3.3.0-tests.jar\n",
            "spark-3.3.0-bin-hadoop3/jars/orc-shims-1.7.4.jar\n",
            "spark-3.3.0-bin-hadoop3/jars/netty-transport-4.1.74.Final.jar\n",
            "spark-3.3.0-bin-hadoop3/jars/netty-tcnative-classes-2.0.48.Final.jar\n",
            "spark-3.3.0-bin-hadoop3/jars/spark-launcher_2.12-3.3.0.jar\n",
            "spark-3.3.0-bin-hadoop3/jars/antlr4-runtime-4.8.jar\n",
            "spark-3.3.0-bin-hadoop3/jars/javax.jdo-3.2.0-m3.jar\n",
            "spark-3.3.0-bin-hadoop3/jars/spark-hive-thriftserver_2.12-3.3.0.jar\n",
            "spark-3.3.0-bin-hadoop3/jars/paranamer-2.8.jar\n",
            "spark-3.3.0-bin-hadoop3/jars/spark-network-common_2.12-3.3.0.jar\n",
            "spark-3.3.0-bin-hadoop3/jars/netty-all-4.1.74.Final.jar\n",
            "spark-3.3.0-bin-hadoop3/jars/arrow-memory-core-7.0.0.jar\n",
            "spark-3.3.0-bin-hadoop3/jars/orc-core-1.7.4.jar\n",
            "spark-3.3.0-bin-hadoop3/jars/kubernetes-model-storageclass-5.12.2.jar\n",
            "spark-3.3.0-bin-hadoop3/jars/flatbuffers-java-1.12.0.jar\n",
            "spark-3.3.0-bin-hadoop3/jars/kubernetes-model-autoscaling-5.12.2.jar\n",
            "spark-3.3.0-bin-hadoop3/jars/json4s-core_2.12-3.7.0-M11.jar\n",
            "spark-3.3.0-bin-hadoop3/jars/stream-2.9.6.jar\n",
            "spark-3.3.0-bin-hadoop3/jars/log4j-core-2.17.2.jar\n",
            "spark-3.3.0-bin-hadoop3/jars/arpack-2.2.1.jar\n",
            "spark-3.3.0-bin-hadoop3/jars/avro-ipc-1.11.0.jar\n",
            "spark-3.3.0-bin-hadoop3/jars/hive-shims-2.3.9.jar\n",
            "spark-3.3.0-bin-hadoop3/jars/datanucleus-api-jdo-4.2.4.jar\n",
            "spark-3.3.0-bin-hadoop3/jars/gson-2.2.4.jar\n",
            "spark-3.3.0-bin-hadoop3/jars/jersey-container-servlet-2.34.jar\n",
            "spark-3.3.0-bin-hadoop3/jars/commons-compress-1.21.jar\n",
            "spark-3.3.0-bin-hadoop3/jars/curator-client-2.13.0.jar\n",
            "spark-3.3.0-bin-hadoop3/jars/opencsv-2.3.jar\n",
            "spark-3.3.0-bin-hadoop3/jars/hive-exec-2.3.9-core.jar\n",
            "spark-3.3.0-bin-hadoop3/jars/jsr305-3.0.0.jar\n",
            "spark-3.3.0-bin-hadoop3/jars/netty-transport-native-epoll-4.1.74.Final-linux-x86_64.jar\n",
            "spark-3.3.0-bin-hadoop3/jars/derby-10.14.2.0.jar\n",
            "spark-3.3.0-bin-hadoop3/jars/spark-catalyst_2.12-3.3.0.jar\n",
            "spark-3.3.0-bin-hadoop3/jars/commons-dbcp-1.4.jar\n",
            "spark-3.3.0-bin-hadoop3/jars/scala-reflect-2.12.15.jar\n",
            "spark-3.3.0-bin-hadoop3/jars/okio-1.14.0.jar\n",
            "spark-3.3.0-bin-hadoop3/jars/hk2-api-2.6.1.jar\n",
            "spark-3.3.0-bin-hadoop3/jars/netty-transport-native-epoll-4.1.74.Final-linux-aarch_64.jar\n",
            "spark-3.3.0-bin-hadoop3/jars/hive-shims-0.23-2.3.9.jar\n",
            "spark-3.3.0-bin-hadoop3/jars/spark-hive_2.12-3.3.0.jar\n",
            "spark-3.3.0-bin-hadoop3/jars/jakarta.servlet-api-4.0.3.jar\n",
            "spark-3.3.0-bin-hadoop3/jars/commons-lang3-3.12.0.jar\n",
            "spark-3.3.0-bin-hadoop3/jars/automaton-1.11-8.jar\n",
            "spark-3.3.0-bin-hadoop3/jars/commons-lang-2.6.jar\n",
            "spark-3.3.0-bin-hadoop3/jars/kubernetes-model-core-5.12.2.jar\n",
            "spark-3.3.0-bin-hadoop3/jars/ivy-2.5.0.jar\n",
            "spark-3.3.0-bin-hadoop3/jars/hk2-utils-2.6.1.jar\n",
            "spark-3.3.0-bin-hadoop3/jars/parquet-column-1.12.2.jar\n",
            "spark-3.3.0-bin-hadoop3/jars/kubernetes-model-events-5.12.2.jar\n",
            "spark-3.3.0-bin-hadoop3/jars/kubernetes-model-node-5.12.2.jar\n",
            "spark-3.3.0-bin-hadoop3/jars/velocity-1.5.jar\n",
            "spark-3.3.0-bin-hadoop3/jars/netty-buffer-4.1.74.Final.jar\n",
            "spark-3.3.0-bin-hadoop3/jars/httpclient-4.5.13.jar\n",
            "spark-3.3.0-bin-hadoop3/jars/JTransforms-3.1.jar\n",
            "spark-3.3.0-bin-hadoop3/jars/netty-handler-4.1.74.Final.jar\n",
            "spark-3.3.0-bin-hadoop3/jars/json4s-scalap_2.12-3.7.0-M11.jar\n",
            "spark-3.3.0-bin-hadoop3/jars/slf4j-api-1.7.32.jar\n",
            "spark-3.3.0-bin-hadoop3/jars/kubernetes-model-rbac-5.12.2.jar\n",
            "spark-3.3.0-bin-hadoop3/jars/spark-repl_2.12-3.3.0.jar\n",
            "spark-3.3.0-bin-hadoop3/jars/kubernetes-model-discovery-5.12.2.jar\n",
            "spark-3.3.0-bin-hadoop3/jars/RoaringBitmap-0.9.25.jar\n",
            "spark-3.3.0-bin-hadoop3/jars/jersey-server-2.34.jar\n",
            "spark-3.3.0-bin-hadoop3/jars/netty-transport-classes-kqueue-4.1.74.Final.jar\n",
            "spark-3.3.0-bin-hadoop3/jars/aircompressor-0.21.jar\n",
            "spark-3.3.0-bin-hadoop3/jars/arrow-vector-7.0.0.jar\n",
            "spark-3.3.0-bin-hadoop3/jars/jackson-core-2.13.3.jar\n",
            "spark-3.3.0-bin-hadoop3/jars/jcl-over-slf4j-1.7.32.jar\n",
            "spark-3.3.0-bin-hadoop3/jars/metrics-core-4.2.7.jar\n",
            "spark-3.3.0-bin-hadoop3/jars/spark-core_2.12-3.3.0.jar\n",
            "spark-3.3.0-bin-hadoop3/jars/jakarta.validation-api-2.0.2.jar\n",
            "spark-3.3.0-bin-hadoop3/jars/jul-to-slf4j-1.7.32.jar\n",
            "spark-3.3.0-bin-hadoop3/jars/netty-transport-native-kqueue-4.1.74.Final-osx-x86_64.jar\n",
            "spark-3.3.0-bin-hadoop3/jars/guava-14.0.1.jar\n",
            "spark-3.3.0-bin-hadoop3/jars/parquet-jackson-1.12.2.jar\n",
            "spark-3.3.0-bin-hadoop3/jars/zjsonpatch-0.3.0.jar\n",
            "spark-3.3.0-bin-hadoop3/jars/hive-service-rpc-3.1.2.jar\n",
            "spark-3.3.0-bin-hadoop3/jars/metrics-graphite-4.2.7.jar\n",
            "spark-3.3.0-bin-hadoop3/jars/oro-2.0.8.jar\n",
            "spark-3.3.0-bin-hadoop3/jars/commons-text-1.9.jar\n",
            "spark-3.3.0-bin-hadoop3/jars/libfb303-0.9.3.jar\n",
            "spark-3.3.0-bin-hadoop3/jars/core-1.1.2.jar\n",
            "spark-3.3.0-bin-hadoop3/jars/avro-mapred-1.11.0.jar\n",
            "spark-3.3.0-bin-hadoop3/jars/datanucleus-rdbms-4.1.19.jar\n",
            "spark-3.3.0-bin-hadoop3/jars/super-csv-2.2.0.jar\n",
            "spark-3.3.0-bin-hadoop3/jars/hadoop-yarn-server-web-proxy-3.3.2.jar\n",
            "spark-3.3.0-bin-hadoop3/jars/scala-compiler-2.12.15.jar\n",
            "spark-3.3.0-bin-hadoop3/jars/log4j-api-2.17.2.jar\n",
            "spark-3.3.0-bin-hadoop3/jars/osgi-resource-locator-1.0.3.jar\n",
            "spark-3.3.0-bin-hadoop3/jars/spark-sketch_2.12-3.3.0.jar\n",
            "spark-3.3.0-bin-hadoop3/jars/hadoop-client-api-3.3.2.jar\n",
            "spark-3.3.0-bin-hadoop3/jars/arrow-memory-netty-7.0.0.jar\n",
            "spark-3.3.0-bin-hadoop3/jars/json-1.8.jar\n",
            "spark-3.3.0-bin-hadoop3/jars/kubernetes-model-policy-5.12.2.jar\n",
            "spark-3.3.0-bin-hadoop3/jars/antlr-runtime-3.5.2.jar\n",
            "spark-3.3.0-bin-hadoop3/jars/jackson-datatype-jsr310-2.13.3.jar\n",
            "spark-3.3.0-bin-hadoop3/jars/jackson-databind-2.13.3.jar\n",
            "spark-3.3.0-bin-hadoop3/jars/spark-mllib_2.12-3.3.0.jar\n",
            "spark-3.3.0-bin-hadoop3/jars/netty-transport-classes-epoll-4.1.74.Final.jar\n",
            "spark-3.3.0-bin-hadoop3/jars/threeten-extra-1.5.0.jar\n",
            "spark-3.3.0-bin-hadoop3/jars/kubernetes-client-5.12.2.jar\n",
            "spark-3.3.0-bin-hadoop3/jars/scala-library-2.12.15.jar\n",
            "spark-3.3.0-bin-hadoop3/jars/kubernetes-model-metrics-5.12.2.jar\n",
            "spark-3.3.0-bin-hadoop3/jars/snappy-java-1.1.8.4.jar\n",
            "spark-3.3.0-bin-hadoop3/jars/activation-1.1.1.jar\n",
            "spark-3.3.0-bin-hadoop3/jars/annotations-17.0.0.jar\n",
            "spark-3.3.0-bin-hadoop3/jars/commons-crypto-1.1.0.jar\n",
            "spark-3.3.0-bin-hadoop3/jars/log4j-1.2-api-2.17.2.jar\n",
            "spark-3.3.0-bin-hadoop3/jars/libthrift-0.12.0.jar\n",
            "spark-3.3.0-bin-hadoop3/jars/HikariCP-2.5.1.jar\n",
            "spark-3.3.0-bin-hadoop3/jars/generex-1.0.2.jar\n",
            "spark-3.3.0-bin-hadoop3/jars/leveldbjni-all-1.8.jar\n",
            "spark-3.3.0-bin-hadoop3/jars/jaxb-runtime-2.3.2.jar\n",
            "spark-3.3.0-bin-hadoop3/jars/rocksdbjni-6.20.3.jar\n",
            "spark-3.3.0-bin-hadoop3/jars/netty-transport-native-unix-common-4.1.74.Final.jar\n",
            "spark-3.3.0-bin-hadoop3/jars/lapack-2.2.1.jar\n",
            "spark-3.3.0-bin-hadoop3/jars/jackson-core-asl-1.9.13.jar\n",
            "spark-3.3.0-bin-hadoop3/jars/spark-mllib-local_2.12-3.3.0.jar\n",
            "spark-3.3.0-bin-hadoop3/jars/hive-cli-2.3.9.jar\n",
            "spark-3.3.0-bin-hadoop3/jars/hive-beeline-2.3.9.jar\n",
            "spark-3.3.0-bin-hadoop3/jars/scala-xml_2.12-1.2.0.jar\n",
            "spark-3.3.0-bin-hadoop3/jars/hk2-locator-2.6.1.jar\n",
            "spark-3.3.0-bin-hadoop3/jars/kubernetes-model-apps-5.12.2.jar\n",
            "spark-3.3.0-bin-hadoop3/jars/metrics-jmx-4.2.7.jar\n",
            "spark-3.3.0-bin-hadoop3/jars/jackson-mapper-asl-1.9.13.jar\n",
            "spark-3.3.0-bin-hadoop3/jars/blas-2.2.1.jar\n",
            "spark-3.3.0-bin-hadoop3/jars/ST4-4.0.4.jar\n",
            "spark-3.3.0-bin-hadoop3/jars/jackson-dataformat-yaml-2.13.3.jar\n",
            "spark-3.3.0-bin-hadoop3/jars/chill_2.12-0.10.0.jar\n",
            "spark-3.3.0-bin-hadoop3/jars/json4s-jackson_2.12-3.7.0-M11.jar\n",
            "spark-3.3.0-bin-hadoop3/jars/netty-resolver-4.1.74.Final.jar\n",
            "spark-3.3.0-bin-hadoop3/jars/breeze-macros_2.12-1.2.jar\n",
            "spark-3.3.0-bin-hadoop3/jars/xz-1.8.jar\n",
            "spark-3.3.0-bin-hadoop3/jars/minlog-1.3.0.jar\n",
            "spark-3.3.0-bin-hadoop3/jars/jersey-hk2-2.34.jar\n",
            "spark-3.3.0-bin-hadoop3/jars/netty-common-4.1.74.Final.jar\n",
            "spark-3.3.0-bin-hadoop3/jars/jakarta.ws.rs-api-2.1.6.jar\n",
            "spark-3.3.0-bin-hadoop3/jars/spark-unsafe_2.12-3.3.0.jar\n",
            "spark-3.3.0-bin-hadoop3/jars/jersey-container-servlet-core-2.34.jar\n",
            "spark-3.3.0-bin-hadoop3/jars/aopalliance-repackaged-2.6.1.jar\n",
            "spark-3.3.0-bin-hadoop3/jars/netty-transport-native-kqueue-4.1.74.Final-osx-aarch_64.jar\n",
            "spark-3.3.0-bin-hadoop3/jars/bonecp-0.8.0.RELEASE.jar\n",
            "spark-3.3.0-bin-hadoop3/jars/jodd-core-3.5.2.jar\n",
            "spark-3.3.0-bin-hadoop3/jars/orc-mapreduce-1.7.4.jar\n",
            "spark-3.3.0-bin-hadoop3/jars/spire-util_2.12-0.17.0.jar\n",
            "spark-3.3.0-bin-hadoop3/jars/protobuf-java-2.5.0.jar\n",
            "spark-3.3.0-bin-hadoop3/jars/jersey-client-2.34.jar\n",
            "spark-3.3.0-bin-hadoop3/jars/datanucleus-core-4.1.17.jar\n",
            "spark-3.3.0-bin-hadoop3/jars/janino-3.0.16.jar\n",
            "spark-3.3.0-bin-hadoop3/jars/spire-platform_2.12-0.17.0.jar\n",
            "spark-3.3.0-bin-hadoop3/jars/javolution-5.5.1.jar\n",
            "spark-3.3.0-bin-hadoop3/jars/transaction-api-1.1.jar\n",
            "spark-3.3.0-bin-hadoop3/jars/mesos-1.4.3-shaded-protobuf.jar\n",
            "spark-3.3.0-bin-hadoop3/jars/curator-framework-2.13.0.jar\n",
            "spark-3.3.0-bin-hadoop3/jars/parquet-encoding-1.12.2.jar\n",
            "spark-3.3.0-bin-hadoop3/jars/jakarta.inject-2.6.1.jar\n",
            "spark-3.3.0-bin-hadoop3/jars/hive-llap-common-2.3.9.jar\n",
            "spark-3.3.0-bin-hadoop3/jars/commons-cli-1.5.0.jar\n",
            "spark-3.3.0-bin-hadoop3/jars/jakarta.xml.bind-api-2.3.2.jar\n",
            "spark-3.3.0-bin-hadoop3/jars/kubernetes-model-flowcontrol-5.12.2.jar\n",
            "spark-3.3.0-bin-hadoop3/jars/algebra_2.12-2.0.1.jar\n",
            "spark-3.3.0-bin-hadoop3/jars/hadoop-shaded-guava-1.1.1.jar\n",
            "spark-3.3.0-bin-hadoop3/jars/arpack_combined_all-0.1.jar\n",
            "spark-3.3.0-bin-hadoop3/jars/hive-vector-code-gen-2.3.9.jar\n",
            "spark-3.3.0-bin-hadoop3/jars/kubernetes-model-admissionregistration-5.12.2.jar\n",
            "spark-3.3.0-bin-hadoop3/jars/spark-mesos_2.12-3.3.0.jar\n",
            "spark-3.3.0-bin-hadoop3/jars/json4s-ast_2.12-3.7.0-M11.jar\n",
            "spark-3.3.0-bin-hadoop3/jars/log4j-slf4j-impl-2.17.2.jar\n",
            "spark-3.3.0-bin-hadoop3/jars/javassist-3.25.0-GA.jar\n",
            "spark-3.3.0-bin-hadoop3/jars/scala-collection-compat_2.12-2.1.1.jar\n",
            "spark-3.3.0-bin-hadoop3/jars/kubernetes-model-networking-5.12.2.jar\n",
            "spark-3.3.0-bin-hadoop3/jars/py4j-0.10.9.5.jar\n",
            "spark-3.3.0-bin-hadoop3/jars/netty-codec-4.1.74.Final.jar\n",
            "spark-3.3.0-bin-hadoop3/jars/hadoop-client-runtime-3.3.2.jar\n",
            "spark-3.3.0-bin-hadoop3/jars/univocity-parsers-2.9.1.jar\n",
            "spark-3.3.0-bin-hadoop3/jars/hive-shims-scheduler-2.3.9.jar\n",
            "spark-3.3.0-bin-hadoop3/jars/kubernetes-model-extensions-5.12.2.jar\n",
            "spark-3.3.0-bin-hadoop3/jars/breeze_2.12-1.2.jar\n",
            "spark-3.3.0-bin-hadoop3/jars/chill-java-0.10.0.jar\n",
            "spark-3.3.0-bin-hadoop3/jars/spire-macros_2.12-0.17.0.jar\n",
            "spark-3.3.0-bin-hadoop3/jars/scala-parser-combinators_2.12-1.1.2.jar\n",
            "spark-3.3.0-bin-hadoop3/jars/hive-metastore-2.3.9.jar\n",
            "spark-3.3.0-bin-hadoop3/jars/kubernetes-model-scheduling-5.12.2.jar\n",
            "spark-3.3.0-bin-hadoop3/jars/kubernetes-model-batch-5.12.2.jar\n",
            "spark-3.3.0-bin-hadoop3/data/\n",
            "spark-3.3.0-bin-hadoop3/data/mllib/\n",
            "spark-3.3.0-bin-hadoop3/data/mllib/sample_lda_data.txt\n",
            "spark-3.3.0-bin-hadoop3/data/mllib/sample_libsvm_data.txt\n",
            "spark-3.3.0-bin-hadoop3/data/mllib/sample_svm_data.txt\n",
            "spark-3.3.0-bin-hadoop3/data/mllib/sample_multiclass_classification_data.txt\n",
            "spark-3.3.0-bin-hadoop3/data/mllib/sample_linear_regression_data.txt\n",
            "spark-3.3.0-bin-hadoop3/data/mllib/sample_lda_libsvm_data.txt\n",
            "spark-3.3.0-bin-hadoop3/data/mllib/sample_fpgrowth.txt\n",
            "spark-3.3.0-bin-hadoop3/data/mllib/sample_binary_classification_data.txt\n",
            "spark-3.3.0-bin-hadoop3/data/mllib/sample_isotonic_regression_libsvm_data.txt\n",
            "spark-3.3.0-bin-hadoop3/data/mllib/sample_movielens_data.txt\n",
            "spark-3.3.0-bin-hadoop3/data/mllib/als/\n",
            "spark-3.3.0-bin-hadoop3/data/mllib/als/test.data\n",
            "spark-3.3.0-bin-hadoop3/data/mllib/als/sample_movielens_ratings.txt\n",
            "spark-3.3.0-bin-hadoop3/data/mllib/sample_kmeans_data.txt\n",
            "spark-3.3.0-bin-hadoop3/data/mllib/pic_data.txt\n",
            "spark-3.3.0-bin-hadoop3/data/mllib/images/\n",
            "spark-3.3.0-bin-hadoop3/data/mllib/images/origin/\n",
            "spark-3.3.0-bin-hadoop3/data/mllib/images/origin/kittens/\n",
            "spark-3.3.0-bin-hadoop3/data/mllib/images/origin/kittens/54893.jpg\n",
            "spark-3.3.0-bin-hadoop3/data/mllib/images/origin/kittens/not-image.txt\n",
            "spark-3.3.0-bin-hadoop3/data/mllib/images/origin/kittens/DP802813.jpg\n",
            "spark-3.3.0-bin-hadoop3/data/mllib/images/origin/kittens/29.5.a_b_EGDP022204.jpg\n",
            "spark-3.3.0-bin-hadoop3/data/mllib/images/origin/kittens/DP153539.jpg\n",
            "spark-3.3.0-bin-hadoop3/data/mllib/images/origin/license.txt\n",
            "spark-3.3.0-bin-hadoop3/data/mllib/images/origin/multi-channel/\n",
            "spark-3.3.0-bin-hadoop3/data/mllib/images/origin/multi-channel/BGRA.png\n",
            "spark-3.3.0-bin-hadoop3/data/mllib/images/origin/multi-channel/BGRA_alpha_60.png\n",
            "spark-3.3.0-bin-hadoop3/data/mllib/images/origin/multi-channel/grayscale.jpg\n",
            "spark-3.3.0-bin-hadoop3/data/mllib/images/origin/multi-channel/chr30.4.184.jpg\n",
            "spark-3.3.0-bin-hadoop3/data/mllib/images/license.txt\n",
            "spark-3.3.0-bin-hadoop3/data/mllib/ridge-data/\n",
            "spark-3.3.0-bin-hadoop3/data/mllib/ridge-data/lpsa.data\n",
            "spark-3.3.0-bin-hadoop3/data/mllib/kmeans_data.txt\n",
            "spark-3.3.0-bin-hadoop3/data/mllib/streaming_kmeans_data_test.txt\n",
            "spark-3.3.0-bin-hadoop3/data/mllib/pagerank_data.txt\n",
            "spark-3.3.0-bin-hadoop3/data/mllib/gmm_data.txt\n",
            "spark-3.3.0-bin-hadoop3/data/graphx/\n",
            "spark-3.3.0-bin-hadoop3/data/graphx/users.txt\n",
            "spark-3.3.0-bin-hadoop3/data/graphx/followers.txt\n",
            "spark-3.3.0-bin-hadoop3/data/streaming/\n",
            "spark-3.3.0-bin-hadoop3/data/streaming/AFINN-111.txt\n",
            "spark-3.3.0-bin-hadoop3/R/\n",
            "spark-3.3.0-bin-hadoop3/R/lib/\n",
            "spark-3.3.0-bin-hadoop3/R/lib/sparkr.zip\n",
            "spark-3.3.0-bin-hadoop3/R/lib/SparkR/\n",
            "spark-3.3.0-bin-hadoop3/R/lib/SparkR/tests/\n",
            "spark-3.3.0-bin-hadoop3/R/lib/SparkR/tests/testthat/\n",
            "spark-3.3.0-bin-hadoop3/R/lib/SparkR/tests/testthat/test_basic.R\n",
            "spark-3.3.0-bin-hadoop3/R/lib/SparkR/DESCRIPTION\n",
            "spark-3.3.0-bin-hadoop3/R/lib/SparkR/profile/\n",
            "spark-3.3.0-bin-hadoop3/R/lib/SparkR/profile/shell.R\n",
            "spark-3.3.0-bin-hadoop3/R/lib/SparkR/profile/general.R\n",
            "spark-3.3.0-bin-hadoop3/R/lib/SparkR/INDEX\n",
            "spark-3.3.0-bin-hadoop3/R/lib/SparkR/Meta/\n",
            "spark-3.3.0-bin-hadoop3/R/lib/SparkR/Meta/features.rds\n",
            "spark-3.3.0-bin-hadoop3/R/lib/SparkR/Meta/links.rds\n",
            "spark-3.3.0-bin-hadoop3/R/lib/SparkR/Meta/nsInfo.rds\n",
            "spark-3.3.0-bin-hadoop3/R/lib/SparkR/Meta/package.rds\n",
            "spark-3.3.0-bin-hadoop3/R/lib/SparkR/Meta/vignette.rds\n",
            "spark-3.3.0-bin-hadoop3/R/lib/SparkR/Meta/Rd.rds\n",
            "spark-3.3.0-bin-hadoop3/R/lib/SparkR/Meta/hsearch.rds\n",
            "spark-3.3.0-bin-hadoop3/R/lib/SparkR/help/\n",
            "spark-3.3.0-bin-hadoop3/R/lib/SparkR/help/SparkR.rdb\n",
            "spark-3.3.0-bin-hadoop3/R/lib/SparkR/help/aliases.rds\n",
            "spark-3.3.0-bin-hadoop3/R/lib/SparkR/help/SparkR.rdx\n",
            "spark-3.3.0-bin-hadoop3/R/lib/SparkR/help/AnIndex\n",
            "spark-3.3.0-bin-hadoop3/R/lib/SparkR/help/paths.rds\n",
            "spark-3.3.0-bin-hadoop3/R/lib/SparkR/R/\n",
            "spark-3.3.0-bin-hadoop3/R/lib/SparkR/R/SparkR.rdb\n",
            "spark-3.3.0-bin-hadoop3/R/lib/SparkR/R/SparkR.rdx\n",
            "spark-3.3.0-bin-hadoop3/R/lib/SparkR/R/SparkR\n",
            "spark-3.3.0-bin-hadoop3/R/lib/SparkR/NAMESPACE\n",
            "spark-3.3.0-bin-hadoop3/R/lib/SparkR/doc/\n",
            "spark-3.3.0-bin-hadoop3/R/lib/SparkR/doc/sparkr-vignettes.Rmd\n",
            "spark-3.3.0-bin-hadoop3/R/lib/SparkR/doc/index.html\n",
            "spark-3.3.0-bin-hadoop3/R/lib/SparkR/doc/sparkr-vignettes.html\n",
            "spark-3.3.0-bin-hadoop3/R/lib/SparkR/doc/sparkr-vignettes.R\n",
            "spark-3.3.0-bin-hadoop3/R/lib/SparkR/html/\n",
            "spark-3.3.0-bin-hadoop3/R/lib/SparkR/html/00Index.html\n",
            "spark-3.3.0-bin-hadoop3/R/lib/SparkR/html/R.css\n",
            "spark-3.3.0-bin-hadoop3/R/lib/SparkR/worker/\n",
            "spark-3.3.0-bin-hadoop3/R/lib/SparkR/worker/worker.R\n",
            "spark-3.3.0-bin-hadoop3/R/lib/SparkR/worker/daemon.R\n",
            "spark-3.3.0-bin-hadoop3/README.md\n",
            "spark-3.3.0-bin-hadoop3/RELEASE\n",
            "spark-3.3.0-bin-hadoop3/yarn/\n",
            "spark-3.3.0-bin-hadoop3/yarn/spark-3.3.0-yarn-shuffle.jar\n",
            "spark-3.3.0-bin-hadoop3/LICENSE\n",
            "spark-3.3.0-bin-hadoop3/sbin/\n",
            "spark-3.3.0-bin-hadoop3/sbin/start-workers.sh\n",
            "spark-3.3.0-bin-hadoop3/sbin/stop-mesos-shuffle-service.sh\n",
            "spark-3.3.0-bin-hadoop3/sbin/start-master.sh\n",
            "spark-3.3.0-bin-hadoop3/sbin/workers.sh\n",
            "spark-3.3.0-bin-hadoop3/sbin/start-worker.sh\n",
            "spark-3.3.0-bin-hadoop3/sbin/spark-config.sh\n",
            "spark-3.3.0-bin-hadoop3/sbin/start-history-server.sh\n",
            "spark-3.3.0-bin-hadoop3/sbin/start-slaves.sh\n",
            "spark-3.3.0-bin-hadoop3/sbin/spark-daemon.sh\n",
            "spark-3.3.0-bin-hadoop3/sbin/stop-worker.sh\n",
            "spark-3.3.0-bin-hadoop3/sbin/stop-mesos-dispatcher.sh\n",
            "spark-3.3.0-bin-hadoop3/sbin/decommission-worker.sh\n",
            "spark-3.3.0-bin-hadoop3/sbin/start-mesos-shuffle-service.sh\n",
            "spark-3.3.0-bin-hadoop3/sbin/decommission-slave.sh\n",
            "spark-3.3.0-bin-hadoop3/sbin/slaves.sh\n",
            "spark-3.3.0-bin-hadoop3/sbin/stop-history-server.sh\n",
            "spark-3.3.0-bin-hadoop3/sbin/start-thriftserver.sh\n",
            "spark-3.3.0-bin-hadoop3/sbin/stop-thriftserver.sh\n",
            "spark-3.3.0-bin-hadoop3/sbin/start-slave.sh\n",
            "spark-3.3.0-bin-hadoop3/sbin/start-all.sh\n",
            "spark-3.3.0-bin-hadoop3/sbin/stop-slave.sh\n",
            "spark-3.3.0-bin-hadoop3/sbin/spark-daemons.sh\n",
            "spark-3.3.0-bin-hadoop3/sbin/stop-workers.sh\n",
            "spark-3.3.0-bin-hadoop3/sbin/stop-slaves.sh\n",
            "spark-3.3.0-bin-hadoop3/sbin/stop-all.sh\n",
            "spark-3.3.0-bin-hadoop3/sbin/start-mesos-dispatcher.sh\n",
            "spark-3.3.0-bin-hadoop3/sbin/stop-master.sh\n",
            "spark-3.3.0-bin-hadoop3/examples/\n",
            "spark-3.3.0-bin-hadoop3/examples/src/\n",
            "spark-3.3.0-bin-hadoop3/examples/src/main/\n",
            "spark-3.3.0-bin-hadoop3/examples/src/main/r/\n",
            "spark-3.3.0-bin-hadoop3/examples/src/main/r/ml/\n",
            "spark-3.3.0-bin-hadoop3/examples/src/main/r/ml/survreg.R\n",
            "spark-3.3.0-bin-hadoop3/examples/src/main/r/ml/glm.R\n",
            "spark-3.3.0-bin-hadoop3/examples/src/main/r/ml/prefixSpan.R\n",
            "spark-3.3.0-bin-hadoop3/examples/src/main/r/ml/lm_with_elastic_net.R\n",
            "spark-3.3.0-bin-hadoop3/examples/src/main/r/ml/powerIterationClustering.R\n",
            "spark-3.3.0-bin-hadoop3/examples/src/main/r/ml/lda.R\n",
            "spark-3.3.0-bin-hadoop3/examples/src/main/r/ml/kstest.R\n",
            "spark-3.3.0-bin-hadoop3/examples/src/main/r/ml/isoreg.R\n",
            "spark-3.3.0-bin-hadoop3/examples/src/main/r/ml/ml.R\n",
            "spark-3.3.0-bin-hadoop3/examples/src/main/r/ml/naiveBayes.R\n",
            "spark-3.3.0-bin-hadoop3/examples/src/main/r/ml/fmRegressor.R\n",
            "spark-3.3.0-bin-hadoop3/examples/src/main/r/ml/mlp.R\n",
            "spark-3.3.0-bin-hadoop3/examples/src/main/r/ml/als.R\n",
            "spark-3.3.0-bin-hadoop3/examples/src/main/r/ml/kmeans.R\n",
            "spark-3.3.0-bin-hadoop3/examples/src/main/r/ml/svmLinear.R\n",
            "spark-3.3.0-bin-hadoop3/examples/src/main/r/ml/fmClassifier.R\n",
            "spark-3.3.0-bin-hadoop3/examples/src/main/r/ml/logit.R\n",
            "spark-3.3.0-bin-hadoop3/examples/src/main/r/ml/randomForest.R\n",
            "spark-3.3.0-bin-hadoop3/examples/src/main/r/ml/gbt.R\n",
            "spark-3.3.0-bin-hadoop3/examples/src/main/r/ml/decisionTree.R\n",
            "spark-3.3.0-bin-hadoop3/examples/src/main/r/ml/gaussianMixture.R\n",
            "spark-3.3.0-bin-hadoop3/examples/src/main/r/ml/bisectingKmeans.R\n",
            "spark-3.3.0-bin-hadoop3/examples/src/main/r/ml/fpm.R\n",
            "spark-3.3.0-bin-hadoop3/examples/src/main/r/dataframe.R\n",
            "spark-3.3.0-bin-hadoop3/examples/src/main/r/RSparkSQLExample.R\n",
            "spark-3.3.0-bin-hadoop3/examples/src/main/r/data-manipulation.R\n",
            "spark-3.3.0-bin-hadoop3/examples/src/main/r/streaming/\n",
            "spark-3.3.0-bin-hadoop3/examples/src/main/r/streaming/structured_network_wordcount.R\n",
            "spark-3.3.0-bin-hadoop3/examples/src/main/scala/\n",
            "spark-3.3.0-bin-hadoop3/examples/src/main/scala/org/\n",
            "spark-3.3.0-bin-hadoop3/examples/src/main/scala/org/apache/\n",
            "spark-3.3.0-bin-hadoop3/examples/src/main/scala/org/apache/spark/\n",
            "spark-3.3.0-bin-hadoop3/examples/src/main/scala/org/apache/spark/examples/\n",
            "spark-3.3.0-bin-hadoop3/examples/src/main/scala/org/apache/spark/examples/SparkPageRank.scala\n",
            "spark-3.3.0-bin-hadoop3/examples/src/main/scala/org/apache/spark/examples/SkewedGroupByTest.scala\n",
            "spark-3.3.0-bin-hadoop3/examples/src/main/scala/org/apache/spark/examples/AccumulatorMetricsTest.scala\n",
            "spark-3.3.0-bin-hadoop3/examples/src/main/scala/org/apache/spark/examples/HdfsTest.scala\n",
            "spark-3.3.0-bin-hadoop3/examples/src/main/scala/org/apache/spark/examples/ml/\n",
            "spark-3.3.0-bin-hadoop3/examples/src/main/scala/org/apache/spark/examples/ml/Word2VecExample.scala\n",
            "spark-3.3.0-bin-hadoop3/examples/src/main/scala/org/apache/spark/examples/ml/DeveloperApiExample.scala\n",
            "spark-3.3.0-bin-hadoop3/examples/src/main/scala/org/apache/spark/examples/ml/MinHashLSHExample.scala\n",
            "spark-3.3.0-bin-hadoop3/examples/src/main/scala/org/apache/spark/examples/ml/IndexToStringExample.scala\n",
            "spark-3.3.0-bin-hadoop3/examples/src/main/scala/org/apache/spark/examples/ml/BisectingKMeansExample.scala\n",
            "spark-3.3.0-bin-hadoop3/examples/src/main/scala/org/apache/spark/examples/ml/CorrelationExample.scala\n",
            "spark-3.3.0-bin-hadoop3/examples/src/main/scala/org/apache/spark/examples/ml/MulticlassLogisticRegressionWithElasticNetExample.scala\n",
            "spark-3.3.0-bin-hadoop3/examples/src/main/scala/org/apache/spark/examples/ml/VectorSizeHintExample.scala\n",
            "spark-3.3.0-bin-hadoop3/examples/src/main/scala/org/apache/spark/examples/ml/NGramExample.scala\n",
            "spark-3.3.0-bin-hadoop3/examples/src/main/scala/org/apache/spark/examples/ml/BucketedRandomProjectionLSHExample.scala\n",
            "spark-3.3.0-bin-hadoop3/examples/src/main/scala/org/apache/spark/examples/ml/BinarizerExample.scala\n",
            "spark-3.3.0-bin-hadoop3/examples/src/main/scala/org/apache/spark/examples/ml/RandomForestExample.scala\n",
            "spark-3.3.0-bin-hadoop3/examples/src/main/scala/org/apache/spark/examples/ml/StandardScalerExample.scala\n",
            "spark-3.3.0-bin-hadoop3/examples/src/main/scala/org/apache/spark/examples/ml/LogisticRegressionExample.scala\n",
            "spark-3.3.0-bin-hadoop3/examples/src/main/scala/org/apache/spark/examples/ml/FeatureHasherExample.scala\n",
            "spark-3.3.0-bin-hadoop3/examples/src/main/scala/org/apache/spark/examples/ml/OneVsRestExample.scala\n",
            "spark-3.3.0-bin-hadoop3/examples/src/main/scala/org/apache/spark/examples/ml/StopWordsRemoverExample.scala\n",
            "spark-3.3.0-bin-hadoop3/examples/src/main/scala/org/apache/spark/examples/ml/LinearSVCExample.scala\n",
            "spark-3.3.0-bin-hadoop3/examples/src/main/scala/org/apache/spark/examples/ml/GaussianMixtureExample.scala\n",
            "spark-3.3.0-bin-hadoop3/examples/src/main/scala/org/apache/spark/examples/ml/MaxAbsScalerExample.scala\n",
            "spark-3.3.0-bin-hadoop3/examples/src/main/scala/org/apache/spark/examples/ml/VarianceThresholdSelectorExample.scala\n",
            "spark-3.3.0-bin-hadoop3/examples/src/main/scala/org/apache/spark/examples/ml/GBTExample.scala\n",
            "spark-3.3.0-bin-hadoop3/examples/src/main/scala/org/apache/spark/examples/ml/IsotonicRegressionExample.scala\n",
            "spark-3.3.0-bin-hadoop3/examples/src/main/scala/org/apache/spark/examples/ml/ModelSelectionViaCrossValidationExample.scala\n",
            "spark-3.3.0-bin-hadoop3/examples/src/main/scala/org/apache/spark/examples/ml/EstimatorTransformerParamExample.scala\n",
            "spark-3.3.0-bin-hadoop3/examples/src/main/scala/org/apache/spark/examples/ml/DecisionTreeRegressionExample.scala\n",
            "spark-3.3.0-bin-hadoop3/examples/src/main/scala/org/apache/spark/examples/ml/RandomForestRegressorExample.scala\n",
            "spark-3.3.0-bin-hadoop3/examples/src/main/scala/org/apache/spark/examples/ml/PrefixSpanExample.scala\n",
            "spark-3.3.0-bin-hadoop3/examples/src/main/scala/org/apache/spark/examples/ml/KMeansExample.scala\n",
            "spark-3.3.0-bin-hadoop3/examples/src/main/scala/org/apache/spark/examples/ml/ModelSelectionViaTrainValidationSplitExample.scala\n",
            "spark-3.3.0-bin-hadoop3/examples/src/main/scala/org/apache/spark/examples/ml/LogisticRegressionSummaryExample.scala\n",
            "spark-3.3.0-bin-hadoop3/examples/src/main/scala/org/apache/spark/examples/ml/MultilayerPerceptronClassifierExample.scala\n",
            "spark-3.3.0-bin-hadoop3/examples/src/main/scala/org/apache/spark/examples/ml/PCAExample.scala\n",
            "spark-3.3.0-bin-hadoop3/examples/src/main/scala/org/apache/spark/examples/ml/DCTExample.scala\n",
            "spark-3.3.0-bin-hadoop3/examples/src/main/scala/org/apache/spark/examples/ml/FPGrowthExample.scala\n",
            "spark-3.3.0-bin-hadoop3/examples/src/main/scala/org/apache/spark/examples/ml/ElementwiseProductExample.scala\n",
            "spark-3.3.0-bin-hadoop3/examples/src/main/scala/org/apache/spark/examples/ml/GeneralizedLinearRegressionExample.scala\n",
            "spark-3.3.0-bin-hadoop3/examples/src/main/scala/org/apache/spark/examples/ml/UnivariateFeatureSelectorExample.scala\n",
            "spark-3.3.0-bin-hadoop3/examples/src/main/scala/org/apache/spark/examples/ml/CountVectorizerExample.scala\n",
            "spark-3.3.0-bin-hadoop3/examples/src/main/scala/org/apache/spark/examples/ml/MinMaxScalerExample.scala\n",
            "spark-3.3.0-bin-hadoop3/examples/src/main/scala/org/apache/spark/examples/ml/ChiSquareTestExample.scala\n",
            "spark-3.3.0-bin-hadoop3/examples/src/main/scala/org/apache/spark/examples/ml/LogisticRegressionWithElasticNetExample.scala\n",
            "spark-3.3.0-bin-hadoop3/examples/src/main/scala/org/apache/spark/examples/ml/FMRegressorExample.scala\n",
            "spark-3.3.0-bin-hadoop3/examples/src/main/scala/org/apache/spark/examples/ml/VectorSlicerExample.scala\n",
            "spark-3.3.0-bin-hadoop3/examples/src/main/scala/org/apache/spark/examples/ml/LinearRegressionExample.scala\n",
            "spark-3.3.0-bin-hadoop3/examples/src/main/scala/org/apache/spark/examples/ml/StringIndexerExample.scala\n",
            "spark-3.3.0-bin-hadoop3/examples/src/main/scala/org/apache/spark/examples/ml/GradientBoostedTreeRegressorExample.scala\n",
            "spark-3.3.0-bin-hadoop3/examples/src/main/scala/org/apache/spark/examples/ml/ALSExample.scala\n",
            "spark-3.3.0-bin-hadoop3/examples/src/main/scala/org/apache/spark/examples/ml/DecisionTreeClassificationExample.scala\n",
            "spark-3.3.0-bin-hadoop3/examples/src/main/scala/org/apache/spark/examples/ml/PolynomialExpansionExample.scala\n",
            "spark-3.3.0-bin-hadoop3/examples/src/main/scala/org/apache/spark/examples/ml/FMClassifierExample.scala\n",
            "spark-3.3.0-bin-hadoop3/examples/src/main/scala/org/apache/spark/examples/ml/UnaryTransformerExample.scala\n",
            "spark-3.3.0-bin-hadoop3/examples/src/main/scala/org/apache/spark/examples/ml/ImputerExample.scala\n",
            "spark-3.3.0-bin-hadoop3/examples/src/main/scala/org/apache/spark/examples/ml/TokenizerExample.scala\n",
            "spark-3.3.0-bin-hadoop3/examples/src/main/scala/org/apache/spark/examples/ml/DecisionTreeExample.scala\n",
            "spark-3.3.0-bin-hadoop3/examples/src/main/scala/org/apache/spark/examples/ml/GradientBoostedTreeClassifierExample.scala\n",
            "spark-3.3.0-bin-hadoop3/examples/src/main/scala/org/apache/spark/examples/ml/PowerIterationClusteringExample.scala\n",
            "spark-3.3.0-bin-hadoop3/examples/src/main/scala/org/apache/spark/examples/ml/SQLTransformerExample.scala\n",
            "spark-3.3.0-bin-hadoop3/examples/src/main/scala/org/apache/spark/examples/ml/SummarizerExample.scala\n",
            "spark-3.3.0-bin-hadoop3/examples/src/main/scala/org/apache/spark/examples/ml/DataFrameExample.scala\n",
            "spark-3.3.0-bin-hadoop3/examples/src/main/scala/org/apache/spark/examples/ml/BucketizerExample.scala\n",
            "spark-3.3.0-bin-hadoop3/examples/src/main/scala/org/apache/spark/examples/ml/TfIdfExample.scala\n",
            "spark-3.3.0-bin-hadoop3/examples/src/main/scala/org/apache/spark/examples/ml/AFTSurvivalRegressionExample.scala\n",
            "spark-3.3.0-bin-hadoop3/examples/src/main/scala/org/apache/spark/examples/ml/QuantileDiscretizerExample.scala\n",
            "spark-3.3.0-bin-hadoop3/examples/src/main/scala/org/apache/spark/examples/ml/OneHotEncoderExample.scala\n",
            "spark-3.3.0-bin-hadoop3/examples/src/main/scala/org/apache/spark/examples/ml/PipelineExample.scala\n",
            "spark-3.3.0-bin-hadoop3/examples/src/main/scala/org/apache/spark/examples/ml/InteractionExample.scala\n",
            "spark-3.3.0-bin-hadoop3/examples/src/main/scala/org/apache/spark/examples/ml/LDAExample.scala\n",
            "spark-3.3.0-bin-hadoop3/examples/src/main/scala/org/apache/spark/examples/ml/RFormulaExample.scala\n",
            "spark-3.3.0-bin-hadoop3/examples/src/main/scala/org/apache/spark/examples/ml/VectorIndexerExample.scala\n",
            "spark-3.3.0-bin-hadoop3/examples/src/main/scala/org/apache/spark/examples/ml/VectorAssemblerExample.scala\n",
            "spark-3.3.0-bin-hadoop3/examples/src/main/scala/org/apache/spark/examples/ml/NormalizerExample.scala\n",
            "spark-3.3.0-bin-hadoop3/examples/src/main/scala/org/apache/spark/examples/ml/ChiSqSelectorExample.scala\n",
            "spark-3.3.0-bin-hadoop3/examples/src/main/scala/org/apache/spark/examples/ml/NaiveBayesExample.scala\n",
            "spark-3.3.0-bin-hadoop3/examples/src/main/scala/org/apache/spark/examples/ml/RandomForestClassifierExample.scala\n",
            "spark-3.3.0-bin-hadoop3/examples/src/main/scala/org/apache/spark/examples/ml/LinearRegressionWithElasticNetExample.scala\n",
            "spark-3.3.0-bin-hadoop3/examples/src/main/scala/org/apache/spark/examples/ml/RobustScalerExample.scala\n",
            "spark-3.3.0-bin-hadoop3/examples/src/main/scala/org/apache/spark/examples/LogQuery.scala\n",
            "spark-3.3.0-bin-hadoop3/examples/src/main/scala/org/apache/spark/examples/SparkRemoteFileTest.scala\n",
            "spark-3.3.0-bin-hadoop3/examples/src/main/scala/org/apache/spark/examples/ExceptionHandlingTest.scala\n",
            "spark-3.3.0-bin-hadoop3/examples/src/main/scala/org/apache/spark/examples/pythonconverters/\n",
            "spark-3.3.0-bin-hadoop3/examples/src/main/scala/org/apache/spark/examples/pythonconverters/AvroConverters.scala\n",
            "spark-3.3.0-bin-hadoop3/examples/src/main/scala/org/apache/spark/examples/BroadcastTest.scala\n",
            "spark-3.3.0-bin-hadoop3/examples/src/main/scala/org/apache/spark/examples/SparkHdfsLR.scala\n",
            "spark-3.3.0-bin-hadoop3/examples/src/main/scala/org/apache/spark/examples/mllib/\n",
            "spark-3.3.0-bin-hadoop3/examples/src/main/scala/org/apache/spark/examples/mllib/Word2VecExample.scala\n",
            "spark-3.3.0-bin-hadoop3/examples/src/main/scala/org/apache/spark/examples/mllib/GradientBoostedTreesRunner.scala\n",
            "spark-3.3.0-bin-hadoop3/examples/src/main/scala/org/apache/spark/examples/mllib/RandomRDDGeneration.scala\n",
            "spark-3.3.0-bin-hadoop3/examples/src/main/scala/org/apache/spark/examples/mllib/PMMLModelExportExample.scala\n",
            "spark-3.3.0-bin-hadoop3/examples/src/main/scala/org/apache/spark/examples/mllib/BisectingKMeansExample.scala\n",
            "spark-3.3.0-bin-hadoop3/examples/src/main/scala/org/apache/spark/examples/mllib/DecisionTreeRunner.scala\n",
            "spark-3.3.0-bin-hadoop3/examples/src/main/scala/org/apache/spark/examples/mllib/MultiLabelMetricsExample.scala\n",
            "spark-3.3.0-bin-hadoop3/examples/src/main/scala/org/apache/spark/examples/mllib/CorrelationsExample.scala\n",
            "spark-3.3.0-bin-hadoop3/examples/src/main/scala/org/apache/spark/examples/mllib/LBFGSExample.scala\n",
            "spark-3.3.0-bin-hadoop3/examples/src/main/scala/org/apache/spark/examples/mllib/TFIDFExample.scala\n",
            "spark-3.3.0-bin-hadoop3/examples/src/main/scala/org/apache/spark/examples/mllib/StandardScalerExample.scala\n",
            "spark-3.3.0-bin-hadoop3/examples/src/main/scala/org/apache/spark/examples/mllib/LogisticRegressionWithLBFGSExample.scala\n",
            "spark-3.3.0-bin-hadoop3/examples/src/main/scala/org/apache/spark/examples/mllib/StreamingTestExample.scala\n",
            "spark-3.3.0-bin-hadoop3/examples/src/main/scala/org/apache/spark/examples/mllib/BinaryClassification.scala\n",
            "spark-3.3.0-bin-hadoop3/examples/src/main/scala/org/apache/spark/examples/mllib/DenseKMeans.scala\n",
            "spark-3.3.0-bin-hadoop3/examples/src/main/scala/org/apache/spark/examples/mllib/GradientBoostingClassificationExample.scala\n",
            "spark-3.3.0-bin-hadoop3/examples/src/main/scala/org/apache/spark/examples/mllib/RankingMetricsExample.scala\n",
            "spark-3.3.0-bin-hadoop3/examples/src/main/scala/org/apache/spark/examples/mllib/GaussianMixtureExample.scala\n",
            "spark-3.3.0-bin-hadoop3/examples/src/main/scala/org/apache/spark/examples/mllib/MultivariateSummarizer.scala\n",
            "spark-3.3.0-bin-hadoop3/examples/src/main/scala/org/apache/spark/examples/mllib/IsotonicRegressionExample.scala\n",
            "spark-3.3.0-bin-hadoop3/examples/src/main/scala/org/apache/spark/examples/mllib/PCAOnSourceVectorExample.scala\n",
            "spark-3.3.0-bin-hadoop3/examples/src/main/scala/org/apache/spark/examples/mllib/Correlations.scala\n",
            "spark-3.3.0-bin-hadoop3/examples/src/main/scala/org/apache/spark/examples/mllib/HypothesisTestingExample.scala\n",
            "spark-3.3.0-bin-hadoop3/examples/src/main/scala/org/apache/spark/examples/mllib/DecisionTreeRegressionExample.scala\n",
            "spark-3.3.0-bin-hadoop3/examples/src/main/scala/org/apache/spark/examples/mllib/AssociationRulesExample.scala\n",
            "spark-3.3.0-bin-hadoop3/examples/src/main/scala/org/apache/spark/examples/mllib/StreamingLogisticRegression.scala\n",
            "spark-3.3.0-bin-hadoop3/examples/src/main/scala/org/apache/spark/examples/mllib/SVDExample.scala\n",
            "spark-3.3.0-bin-hadoop3/examples/src/main/scala/org/apache/spark/examples/mllib/PrefixSpanExample.scala\n",
            "spark-3.3.0-bin-hadoop3/examples/src/main/scala/org/apache/spark/examples/mllib/KMeansExample.scala\n",
            "spark-3.3.0-bin-hadoop3/examples/src/main/scala/org/apache/spark/examples/mllib/SparseNaiveBayes.scala\n",
            "spark-3.3.0-bin-hadoop3/examples/src/main/scala/org/apache/spark/examples/mllib/AbstractParams.scala\n",
            "spark-3.3.0-bin-hadoop3/examples/src/main/scala/org/apache/spark/examples/mllib/BinaryClassificationMetricsExample.scala\n",
            "spark-3.3.0-bin-hadoop3/examples/src/main/scala/org/apache/spark/examples/mllib/SampledRDDs.scala\n",
            "spark-3.3.0-bin-hadoop3/examples/src/main/scala/org/apache/spark/examples/mllib/FPGrowthExample.scala\n",
            "spark-3.3.0-bin-hadoop3/examples/src/main/scala/org/apache/spark/examples/mllib/ElementwiseProductExample.scala\n",
            "spark-3.3.0-bin-hadoop3/examples/src/main/scala/org/apache/spark/examples/mllib/RecommendationExample.scala\n",
            "spark-3.3.0-bin-hadoop3/examples/src/main/scala/org/apache/spark/examples/mllib/TallSkinnySVD.scala\n",
            "spark-3.3.0-bin-hadoop3/examples/src/main/scala/org/apache/spark/examples/mllib/HypothesisTestingKolmogorovSmirnovTestExample.scala\n",
            "spark-3.3.0-bin-hadoop3/examples/src/main/scala/org/apache/spark/examples/mllib/GradientBoostingRegressionExample.scala\n",
            "spark-3.3.0-bin-hadoop3/examples/src/main/scala/org/apache/spark/examples/mllib/StreamingKMeansExample.scala\n",
            "spark-3.3.0-bin-hadoop3/examples/src/main/scala/org/apache/spark/examples/mllib/CosineSimilarity.scala\n",
            "spark-3.3.0-bin-hadoop3/examples/src/main/scala/org/apache/spark/examples/mllib/RandomForestRegressionExample.scala\n",
            "spark-3.3.0-bin-hadoop3/examples/src/main/scala/org/apache/spark/examples/mllib/StreamingLinearRegressionExample.scala\n",
            "spark-3.3.0-bin-hadoop3/examples/src/main/scala/org/apache/spark/examples/mllib/StratifiedSamplingExample.scala\n",
            "spark-3.3.0-bin-hadoop3/examples/src/main/scala/org/apache/spark/examples/mllib/DecisionTreeClassificationExample.scala\n",
            "spark-3.3.0-bin-hadoop3/examples/src/main/scala/org/apache/spark/examples/mllib/TallSkinnyPCA.scala\n",
            "spark-3.3.0-bin-hadoop3/examples/src/main/scala/org/apache/spark/examples/mllib/RandomForestClassificationExample.scala\n",
            "spark-3.3.0-bin-hadoop3/examples/src/main/scala/org/apache/spark/examples/mllib/SimpleFPGrowth.scala\n",
            "spark-3.3.0-bin-hadoop3/examples/src/main/scala/org/apache/spark/examples/mllib/LatentDirichletAllocationExample.scala\n",
            "spark-3.3.0-bin-hadoop3/examples/src/main/scala/org/apache/spark/examples/mllib/KernelDensityEstimationExample.scala\n",
            "spark-3.3.0-bin-hadoop3/examples/src/main/scala/org/apache/spark/examples/mllib/PowerIterationClusteringExample.scala\n",
            "spark-3.3.0-bin-hadoop3/examples/src/main/scala/org/apache/spark/examples/mllib/SVMWithSGDExample.scala\n",
            "spark-3.3.0-bin-hadoop3/examples/src/main/scala/org/apache/spark/examples/mllib/LDAExample.scala\n",
            "spark-3.3.0-bin-hadoop3/examples/src/main/scala/org/apache/spark/examples/mllib/MovieLensALS.scala\n",
            "spark-3.3.0-bin-hadoop3/examples/src/main/scala/org/apache/spark/examples/mllib/NormalizerExample.scala\n",
            "spark-3.3.0-bin-hadoop3/examples/src/main/scala/org/apache/spark/examples/mllib/MulticlassMetricsExample.scala\n",
            "spark-3.3.0-bin-hadoop3/examples/src/main/scala/org/apache/spark/examples/mllib/ChiSqSelectorExample.scala\n",
            "spark-3.3.0-bin-hadoop3/examples/src/main/scala/org/apache/spark/examples/mllib/SummaryStatisticsExample.scala\n",
            "spark-3.3.0-bin-hadoop3/examples/src/main/scala/org/apache/spark/examples/mllib/PCAOnRowMatrixExample.scala\n",
            "spark-3.3.0-bin-hadoop3/examples/src/main/scala/org/apache/spark/examples/mllib/NaiveBayesExample.scala\n",
            "spark-3.3.0-bin-hadoop3/examples/src/main/scala/org/apache/spark/examples/SparkTC.scala\n",
            "spark-3.3.0-bin-hadoop3/examples/src/main/scala/org/apache/spark/examples/DriverSubmissionTest.scala\n",
            "spark-3.3.0-bin-hadoop3/examples/src/main/scala/org/apache/spark/examples/MultiBroadcastTest.scala\n",
            "spark-3.3.0-bin-hadoop3/examples/src/main/scala/org/apache/spark/examples/SparkLR.scala\n",
            "spark-3.3.0-bin-hadoop3/examples/src/main/scala/org/apache/spark/examples/SparkPi.scala\n",
            "spark-3.3.0-bin-hadoop3/examples/src/main/scala/org/apache/spark/examples/graphx/\n",
            "spark-3.3.0-bin-hadoop3/examples/src/main/scala/org/apache/spark/examples/graphx/ConnectedComponentsExample.scala\n",
            "spark-3.3.0-bin-hadoop3/examples/src/main/scala/org/apache/spark/examples/graphx/LiveJournalPageRank.scala\n",
            "spark-3.3.0-bin-hadoop3/examples/src/main/scala/org/apache/spark/examples/graphx/AggregateMessagesExample.scala\n",
            "spark-3.3.0-bin-hadoop3/examples/src/main/scala/org/apache/spark/examples/graphx/SSSPExample.scala\n",
            "spark-3.3.0-bin-hadoop3/examples/src/main/scala/org/apache/spark/examples/graphx/SynthBenchmark.scala\n",
            "spark-3.3.0-bin-hadoop3/examples/src/main/scala/org/apache/spark/examples/graphx/TriangleCountingExample.scala\n",
            "spark-3.3.0-bin-hadoop3/examples/src/main/scala/org/apache/spark/examples/graphx/PageRankExample.scala\n",
            "spark-3.3.0-bin-hadoop3/examples/src/main/scala/org/apache/spark/examples/graphx/ComprehensiveExample.scala\n",
            "spark-3.3.0-bin-hadoop3/examples/src/main/scala/org/apache/spark/examples/graphx/Analytics.scala\n",
            "spark-3.3.0-bin-hadoop3/examples/src/main/scala/org/apache/spark/examples/SparkKMeans.scala\n",
            "spark-3.3.0-bin-hadoop3/examples/src/main/scala/org/apache/spark/examples/streaming/\n",
            "spark-3.3.0-bin-hadoop3/examples/src/main/scala/org/apache/spark/examples/streaming/clickstream/\n",
            "spark-3.3.0-bin-hadoop3/examples/src/main/scala/org/apache/spark/examples/streaming/clickstream/PageViewGenerator.scala\n",
            "spark-3.3.0-bin-hadoop3/examples/src/main/scala/org/apache/spark/examples/streaming/clickstream/PageViewStream.scala\n",
            "spark-3.3.0-bin-hadoop3/examples/src/main/scala/org/apache/spark/examples/streaming/DirectKafkaWordCount.scala\n",
            "spark-3.3.0-bin-hadoop3/examples/src/main/scala/org/apache/spark/examples/streaming/HdfsWordCount.scala\n",
            "spark-3.3.0-bin-hadoop3/examples/src/main/scala/org/apache/spark/examples/streaming/DirectKerberizedKafkaWordCount.scala\n",
            "spark-3.3.0-bin-hadoop3/examples/src/main/scala/org/apache/spark/examples/streaming/RecoverableNetworkWordCount.scala\n",
            "spark-3.3.0-bin-hadoop3/examples/src/main/scala/org/apache/spark/examples/streaming/NetworkWordCount.scala\n",
            "spark-3.3.0-bin-hadoop3/examples/src/main/scala/org/apache/spark/examples/streaming/QueueStream.scala\n",
            "spark-3.3.0-bin-hadoop3/examples/src/main/scala/org/apache/spark/examples/streaming/SqlNetworkWordCount.scala\n",
            "spark-3.3.0-bin-hadoop3/examples/src/main/scala/org/apache/spark/examples/streaming/CustomReceiver.scala\n",
            "spark-3.3.0-bin-hadoop3/examples/src/main/scala/org/apache/spark/examples/streaming/RawNetworkGrep.scala\n",
            "spark-3.3.0-bin-hadoop3/examples/src/main/scala/org/apache/spark/examples/streaming/StatefulNetworkWordCount.scala\n",
            "spark-3.3.0-bin-hadoop3/examples/src/main/scala/org/apache/spark/examples/streaming/StreamingExamples.scala\n",
            "spark-3.3.0-bin-hadoop3/examples/src/main/scala/org/apache/spark/examples/LocalLR.scala\n",
            "spark-3.3.0-bin-hadoop3/examples/src/main/scala/org/apache/spark/examples/LocalKMeans.scala\n",
            "spark-3.3.0-bin-hadoop3/examples/src/main/scala/org/apache/spark/examples/GroupByTest.scala\n",
            "spark-3.3.0-bin-hadoop3/examples/src/main/scala/org/apache/spark/examples/LocalALS.scala\n",
            "spark-3.3.0-bin-hadoop3/examples/src/main/scala/org/apache/spark/examples/sql/\n",
            "spark-3.3.0-bin-hadoop3/examples/src/main/scala/org/apache/spark/examples/sql/SimpleTypedAggregator.scala\n",
            "spark-3.3.0-bin-hadoop3/examples/src/main/scala/org/apache/spark/examples/sql/UserDefinedUntypedAggregation.scala\n",
            "spark-3.3.0-bin-hadoop3/examples/src/main/scala/org/apache/spark/examples/sql/hive/\n",
            "spark-3.3.0-bin-hadoop3/examples/src/main/scala/org/apache/spark/examples/sql/hive/SparkHiveExample.scala\n",
            "spark-3.3.0-bin-hadoop3/examples/src/main/scala/org/apache/spark/examples/sql/RDDRelation.scala\n",
            "spark-3.3.0-bin-hadoop3/examples/src/main/scala/org/apache/spark/examples/sql/SparkSQLExample.scala\n",
            "spark-3.3.0-bin-hadoop3/examples/src/main/scala/org/apache/spark/examples/sql/SQLDataSourceExample.scala\n",
            "spark-3.3.0-bin-hadoop3/examples/src/main/scala/org/apache/spark/examples/sql/streaming/\n",
            "spark-3.3.0-bin-hadoop3/examples/src/main/scala/org/apache/spark/examples/sql/streaming/StructuredKerberizedKafkaWordCount.scala\n",
            "spark-3.3.0-bin-hadoop3/examples/src/main/scala/org/apache/spark/examples/sql/streaming/StructuredComplexSessionization.scala\n",
            "spark-3.3.0-bin-hadoop3/examples/src/main/scala/org/apache/spark/examples/sql/streaming/StructuredNetworkWordCount.scala\n",
            "spark-3.3.0-bin-hadoop3/examples/src/main/scala/org/apache/spark/examples/sql/streaming/StructuredNetworkWordCountWindowed.scala\n",
            "spark-3.3.0-bin-hadoop3/examples/src/main/scala/org/apache/spark/examples/sql/streaming/StructuredKafkaWordCount.scala\n",
            "spark-3.3.0-bin-hadoop3/examples/src/main/scala/org/apache/spark/examples/sql/streaming/StructuredSessionization.scala\n",
            "spark-3.3.0-bin-hadoop3/examples/src/main/scala/org/apache/spark/examples/sql/UserDefinedTypedAggregation.scala\n",
            "spark-3.3.0-bin-hadoop3/examples/src/main/scala/org/apache/spark/examples/sql/UserDefinedScalar.scala\n",
            "spark-3.3.0-bin-hadoop3/examples/src/main/scala/org/apache/spark/examples/sql/jdbc/\n",
            "spark-3.3.0-bin-hadoop3/examples/src/main/scala/org/apache/spark/examples/sql/jdbc/ExampleJdbcConnectionProvider.scala\n",
            "spark-3.3.0-bin-hadoop3/examples/src/main/scala/org/apache/spark/examples/SimpleSkewedGroupByTest.scala\n",
            "spark-3.3.0-bin-hadoop3/examples/src/main/scala/org/apache/spark/examples/extensions/\n",
            "spark-3.3.0-bin-hadoop3/examples/src/main/scala/org/apache/spark/examples/extensions/SparkSessionExtensionsTest.scala\n",
            "spark-3.3.0-bin-hadoop3/examples/src/main/scala/org/apache/spark/examples/extensions/SessionExtensionsWithoutLoader.scala\n",
            "spark-3.3.0-bin-hadoop3/examples/src/main/scala/org/apache/spark/examples/extensions/SessionExtensionsWithLoader.scala\n",
            "spark-3.3.0-bin-hadoop3/examples/src/main/scala/org/apache/spark/examples/extensions/AgeExample.scala\n",
            "spark-3.3.0-bin-hadoop3/examples/src/main/scala/org/apache/spark/examples/LocalFileLR.scala\n",
            "spark-3.3.0-bin-hadoop3/examples/src/main/scala/org/apache/spark/examples/MiniReadWriteTest.scala\n",
            "spark-3.3.0-bin-hadoop3/examples/src/main/scala/org/apache/spark/examples/LocalPi.scala\n",
            "spark-3.3.0-bin-hadoop3/examples/src/main/scala/org/apache/spark/examples/DFSReadWriteTest.scala\n",
            "spark-3.3.0-bin-hadoop3/examples/src/main/scala/org/apache/spark/examples/SparkALS.scala\n",
            "spark-3.3.0-bin-hadoop3/examples/src/main/resources/\n",
            "spark-3.3.0-bin-hadoop3/examples/src/main/resources/people.json\n",
            "spark-3.3.0-bin-hadoop3/examples/src/main/resources/users.avro\n",
            "spark-3.3.0-bin-hadoop3/examples/src/main/resources/people.csv\n",
            "spark-3.3.0-bin-hadoop3/examples/src/main/resources/users.parquet\n",
            "spark-3.3.0-bin-hadoop3/examples/src/main/resources/META-INF/\n",
            "spark-3.3.0-bin-hadoop3/examples/src/main/resources/META-INF/services/\n",
            "spark-3.3.0-bin-hadoop3/examples/src/main/resources/META-INF/services/org.apache.spark.sql.SparkSessionExtensionsProvider\n",
            "spark-3.3.0-bin-hadoop3/examples/src/main/resources/META-INF/services/org.apache.spark.sql.jdbc.JdbcConnectionProvider\n",
            "spark-3.3.0-bin-hadoop3/examples/src/main/resources/users.orc\n",
            "spark-3.3.0-bin-hadoop3/examples/src/main/resources/dir1/\n",
            "spark-3.3.0-bin-hadoop3/examples/src/main/resources/dir1/file1.parquet\n",
            "spark-3.3.0-bin-hadoop3/examples/src/main/resources/dir1/dir2/\n",
            "spark-3.3.0-bin-hadoop3/examples/src/main/resources/dir1/dir2/file2.parquet\n",
            "spark-3.3.0-bin-hadoop3/examples/src/main/resources/dir1/file3.json\n",
            "spark-3.3.0-bin-hadoop3/examples/src/main/resources/user.avsc\n",
            "spark-3.3.0-bin-hadoop3/examples/src/main/resources/full_user.avsc\n",
            "spark-3.3.0-bin-hadoop3/examples/src/main/resources/kv1.txt\n",
            "spark-3.3.0-bin-hadoop3/examples/src/main/resources/people.txt\n",
            "spark-3.3.0-bin-hadoop3/examples/src/main/resources/employees.json\n",
            "spark-3.3.0-bin-hadoop3/examples/src/main/java/\n",
            "spark-3.3.0-bin-hadoop3/examples/src/main/java/org/\n",
            "spark-3.3.0-bin-hadoop3/examples/src/main/java/org/apache/\n",
            "spark-3.3.0-bin-hadoop3/examples/src/main/java/org/apache/spark/\n",
            "spark-3.3.0-bin-hadoop3/examples/src/main/java/org/apache/spark/examples/\n",
            "spark-3.3.0-bin-hadoop3/examples/src/main/java/org/apache/spark/examples/ml/\n",
            "spark-3.3.0-bin-hadoop3/examples/src/main/java/org/apache/spark/examples/ml/JavaStringIndexerExample.java\n",
            "spark-3.3.0-bin-hadoop3/examples/src/main/java/org/apache/spark/examples/ml/JavaChiSqSelectorExample.java\n",
            "spark-3.3.0-bin-hadoop3/examples/src/main/java/org/apache/spark/examples/ml/JavaLabeledDocument.java\n",
            "spark-3.3.0-bin-hadoop3/examples/src/main/java/org/apache/spark/examples/ml/JavaLogisticRegressionWithElasticNetExample.java\n",
            "spark-3.3.0-bin-hadoop3/examples/src/main/java/org/apache/spark/examples/ml/JavaPolynomialExpansionExample.java\n",
            "spark-3.3.0-bin-hadoop3/examples/src/main/java/org/apache/spark/examples/ml/JavaTfIdfExample.java\n",
            "spark-3.3.0-bin-hadoop3/examples/src/main/java/org/apache/spark/examples/ml/JavaBucketizerExample.java\n",
            "spark-3.3.0-bin-hadoop3/examples/src/main/java/org/apache/spark/examples/ml/JavaLogisticRegressionSummaryExample.java\n",
            "spark-3.3.0-bin-hadoop3/examples/src/main/java/org/apache/spark/examples/ml/JavaSummarizerExample.java\n",
            "spark-3.3.0-bin-hadoop3/examples/src/main/java/org/apache/spark/examples/ml/JavaQuantileDiscretizerExample.java\n",
            "spark-3.3.0-bin-hadoop3/examples/src/main/java/org/apache/spark/examples/ml/JavaBinarizerExample.java\n",
            "spark-3.3.0-bin-hadoop3/examples/src/main/java/org/apache/spark/examples/ml/JavaOneHotEncoderExample.java\n",
            "spark-3.3.0-bin-hadoop3/examples/src/main/java/org/apache/spark/examples/ml/JavaStandardScalerExample.java\n",
            "spark-3.3.0-bin-hadoop3/examples/src/main/java/org/apache/spark/examples/ml/JavaDCTExample.java\n",
            "spark-3.3.0-bin-hadoop3/examples/src/main/java/org/apache/spark/examples/ml/JavaDecisionTreeRegressionExample.java\n",
            "spark-3.3.0-bin-hadoop3/examples/src/main/java/org/apache/spark/examples/ml/JavaRandomForestClassifierExample.java\n",
            "spark-3.3.0-bin-hadoop3/examples/src/main/java/org/apache/spark/examples/ml/JavaOneVsRestExample.java\n",
            "spark-3.3.0-bin-hadoop3/examples/src/main/java/org/apache/spark/examples/ml/JavaGeneralizedLinearRegressionExample.java\n",
            "spark-3.3.0-bin-hadoop3/examples/src/main/java/org/apache/spark/examples/ml/JavaGaussianMixtureExample.java\n",
            "spark-3.3.0-bin-hadoop3/examples/src/main/java/org/apache/spark/examples/ml/JavaWord2VecExample.java\n",
            "spark-3.3.0-bin-hadoop3/examples/src/main/java/org/apache/spark/examples/ml/JavaNormalizerExample.java\n",
            "spark-3.3.0-bin-hadoop3/examples/src/main/java/org/apache/spark/examples/ml/JavaLDAExample.java\n",
            "spark-3.3.0-bin-hadoop3/examples/src/main/java/org/apache/spark/examples/ml/JavaCountVectorizerExample.java\n",
            "spark-3.3.0-bin-hadoop3/examples/src/main/java/org/apache/spark/examples/ml/JavaMultilayerPerceptronClassifierExample.java\n",
            "spark-3.3.0-bin-hadoop3/examples/src/main/java/org/apache/spark/examples/ml/JavaMinMaxScalerExample.java\n",
            "spark-3.3.0-bin-hadoop3/examples/src/main/java/org/apache/spark/examples/ml/JavaCorrelationExample.java\n",
            "spark-3.3.0-bin-hadoop3/examples/src/main/java/org/apache/spark/examples/ml/JavaNGramExample.java\n",
            "spark-3.3.0-bin-hadoop3/examples/src/main/java/org/apache/spark/examples/ml/JavaImputerExample.java\n",
            "spark-3.3.0-bin-hadoop3/examples/src/main/java/org/apache/spark/examples/ml/JavaMinHashLSHExample.java\n",
            "spark-3.3.0-bin-hadoop3/examples/src/main/java/org/apache/spark/examples/ml/JavaVectorSizeHintExample.java\n",
            "spark-3.3.0-bin-hadoop3/examples/src/main/java/org/apache/spark/examples/ml/JavaFMClassifierExample.java\n",
            "spark-3.3.0-bin-hadoop3/examples/src/main/java/org/apache/spark/examples/ml/JavaFeatureHasherExample.java\n",
            "spark-3.3.0-bin-hadoop3/examples/src/main/java/org/apache/spark/examples/ml/JavaModelSelectionViaTrainValidationSplitExample.java\n",
            "spark-3.3.0-bin-hadoop3/examples/src/main/java/org/apache/spark/examples/ml/JavaSQLTransformerExample.java\n",
            "spark-3.3.0-bin-hadoop3/examples/src/main/java/org/apache/spark/examples/ml/JavaKMeansExample.java\n",
            "spark-3.3.0-bin-hadoop3/examples/src/main/java/org/apache/spark/examples/ml/JavaVectorAssemblerExample.java\n",
            "spark-3.3.0-bin-hadoop3/examples/src/main/java/org/apache/spark/examples/ml/JavaGradientBoostedTreeRegressorExample.java\n",
            "spark-3.3.0-bin-hadoop3/examples/src/main/java/org/apache/spark/examples/ml/JavaPrefixSpanExample.java\n",
            "spark-3.3.0-bin-hadoop3/examples/src/main/java/org/apache/spark/examples/ml/JavaFMRegressorExample.java\n",
            "spark-3.3.0-bin-hadoop3/examples/src/main/java/org/apache/spark/examples/ml/JavaNaiveBayesExample.java\n",
            "spark-3.3.0-bin-hadoop3/examples/src/main/java/org/apache/spark/examples/ml/JavaMulticlassLogisticRegressionWithElasticNetExample.java\n",
            "spark-3.3.0-bin-hadoop3/examples/src/main/java/org/apache/spark/examples/ml/JavaModelSelectionViaCrossValidationExample.java\n",
            "spark-3.3.0-bin-hadoop3/examples/src/main/java/org/apache/spark/examples/ml/JavaDocument.java\n",
            "spark-3.3.0-bin-hadoop3/examples/src/main/java/org/apache/spark/examples/ml/JavaUnivariateFeatureSelectorExample.java\n",
            "spark-3.3.0-bin-hadoop3/examples/src/main/java/org/apache/spark/examples/ml/JavaGradientBoostedTreeClassifierExample.java\n",
            "spark-3.3.0-bin-hadoop3/examples/src/main/java/org/apache/spark/examples/ml/JavaRandomForestRegressorExample.java\n",
            "spark-3.3.0-bin-hadoop3/examples/src/main/java/org/apache/spark/examples/ml/JavaAFTSurvivalRegressionExample.java\n",
            "spark-3.3.0-bin-hadoop3/examples/src/main/java/org/apache/spark/examples/ml/JavaIsotonicRegressionExample.java\n",
            "spark-3.3.0-bin-hadoop3/examples/src/main/java/org/apache/spark/examples/ml/JavaElementwiseProductExample.java\n",
            "spark-3.3.0-bin-hadoop3/examples/src/main/java/org/apache/spark/examples/ml/JavaALSExample.java\n",
            "spark-3.3.0-bin-hadoop3/examples/src/main/java/org/apache/spark/examples/ml/JavaBucketedRandomProjectionLSHExample.java\n",
            "spark-3.3.0-bin-hadoop3/examples/src/main/java/org/apache/spark/examples/ml/JavaVarianceThresholdSelectorExample.java\n",
            "spark-3.3.0-bin-hadoop3/examples/src/main/java/org/apache/spark/examples/ml/JavaVectorSlicerExample.java\n",
            "spark-3.3.0-bin-hadoop3/examples/src/main/java/org/apache/spark/examples/ml/JavaTokenizerExample.java\n",
            "spark-3.3.0-bin-hadoop3/examples/src/main/java/org/apache/spark/examples/ml/JavaRFormulaExample.java\n",
            "spark-3.3.0-bin-hadoop3/examples/src/main/java/org/apache/spark/examples/ml/JavaEstimatorTransformerParamExample.java\n",
            "spark-3.3.0-bin-hadoop3/examples/src/main/java/org/apache/spark/examples/ml/JavaPowerIterationClusteringExample.java\n",
            "spark-3.3.0-bin-hadoop3/examples/src/main/java/org/apache/spark/examples/ml/JavaBisectingKMeansExample.java\n",
            "spark-3.3.0-bin-hadoop3/examples/src/main/java/org/apache/spark/examples/ml/JavaMaxAbsScalerExample.java\n",
            "spark-3.3.0-bin-hadoop3/examples/src/main/java/org/apache/spark/examples/ml/JavaDecisionTreeClassificationExample.java\n",
            "spark-3.3.0-bin-hadoop3/examples/src/main/java/org/apache/spark/examples/ml/JavaPCAExample.java\n",
            "spark-3.3.0-bin-hadoop3/examples/src/main/java/org/apache/spark/examples/ml/JavaPipelineExample.java\n",
            "spark-3.3.0-bin-hadoop3/examples/src/main/java/org/apache/spark/examples/ml/JavaStopWordsRemoverExample.java\n",
            "spark-3.3.0-bin-hadoop3/examples/src/main/java/org/apache/spark/examples/ml/JavaIndexToStringExample.java\n",
            "spark-3.3.0-bin-hadoop3/examples/src/main/java/org/apache/spark/examples/ml/JavaFPGrowthExample.java\n",
            "spark-3.3.0-bin-hadoop3/examples/src/main/java/org/apache/spark/examples/ml/JavaVectorIndexerExample.java\n",
            "spark-3.3.0-bin-hadoop3/examples/src/main/java/org/apache/spark/examples/ml/JavaInteractionExample.java\n",
            "spark-3.3.0-bin-hadoop3/examples/src/main/java/org/apache/spark/examples/ml/JavaChiSquareTestExample.java\n",
            "spark-3.3.0-bin-hadoop3/examples/src/main/java/org/apache/spark/examples/ml/JavaRobustScalerExample.java\n",
            "spark-3.3.0-bin-hadoop3/examples/src/main/java/org/apache/spark/examples/ml/JavaLinearRegressionWithElasticNetExample.java\n",
            "spark-3.3.0-bin-hadoop3/examples/src/main/java/org/apache/spark/examples/ml/JavaLinearSVCExample.java\n",
            "spark-3.3.0-bin-hadoop3/examples/src/main/java/org/apache/spark/examples/JavaWordCount.java\n",
            "spark-3.3.0-bin-hadoop3/examples/src/main/java/org/apache/spark/examples/JavaHdfsLR.java\n",
            "spark-3.3.0-bin-hadoop3/examples/src/main/java/org/apache/spark/examples/JavaStatusTrackerDemo.java\n",
            "spark-3.3.0-bin-hadoop3/examples/src/main/java/org/apache/spark/examples/mllib/\n",
            "spark-3.3.0-bin-hadoop3/examples/src/main/java/org/apache/spark/examples/mllib/JavaChiSqSelectorExample.java\n",
            "spark-3.3.0-bin-hadoop3/examples/src/main/java/org/apache/spark/examples/mllib/JavaHypothesisTestingKolmogorovSmirnovTestExample.java\n",
            "spark-3.3.0-bin-hadoop3/examples/src/main/java/org/apache/spark/examples/mllib/JavaRandomForestRegressionExample.java\n",
            "spark-3.3.0-bin-hadoop3/examples/src/main/java/org/apache/spark/examples/mllib/JavaSimpleFPGrowth.java\n",
            "spark-3.3.0-bin-hadoop3/examples/src/main/java/org/apache/spark/examples/mllib/JavaRandomForestClassificationExample.java\n",
            "spark-3.3.0-bin-hadoop3/examples/src/main/java/org/apache/spark/examples/mllib/JavaMulticlassClassificationMetricsExample.java\n",
            "spark-3.3.0-bin-hadoop3/examples/src/main/java/org/apache/spark/examples/mllib/JavaKernelDensityEstimationExample.java\n",
            "spark-3.3.0-bin-hadoop3/examples/src/main/java/org/apache/spark/examples/mllib/JavaSummaryStatisticsExample.java\n",
            "spark-3.3.0-bin-hadoop3/examples/src/main/java/org/apache/spark/examples/mllib/JavaDecisionTreeRegressionExample.java\n",
            "spark-3.3.0-bin-hadoop3/examples/src/main/java/org/apache/spark/examples/mllib/JavaGradientBoostingClassificationExample.java\n",
            "spark-3.3.0-bin-hadoop3/examples/src/main/java/org/apache/spark/examples/mllib/JavaGaussianMixtureExample.java\n",
            "spark-3.3.0-bin-hadoop3/examples/src/main/java/org/apache/spark/examples/mllib/JavaStratifiedSamplingExample.java\n",
            "spark-3.3.0-bin-hadoop3/examples/src/main/java/org/apache/spark/examples/mllib/JavaSVDExample.java\n",
            "spark-3.3.0-bin-hadoop3/examples/src/main/java/org/apache/spark/examples/mllib/JavaAssociationRulesExample.java\n",
            "spark-3.3.0-bin-hadoop3/examples/src/main/java/org/apache/spark/examples/mllib/JavaALS.java\n",
            "spark-3.3.0-bin-hadoop3/examples/src/main/java/org/apache/spark/examples/mllib/JavaKMeansExample.java\n",
            "spark-3.3.0-bin-hadoop3/examples/src/main/java/org/apache/spark/examples/mllib/JavaSVMWithSGDExample.java\n",
            "spark-3.3.0-bin-hadoop3/examples/src/main/java/org/apache/spark/examples/mllib/JavaPrefixSpanExample.java\n",
            "spark-3.3.0-bin-hadoop3/examples/src/main/java/org/apache/spark/examples/mllib/JavaNaiveBayesExample.java\n",
            "spark-3.3.0-bin-hadoop3/examples/src/main/java/org/apache/spark/examples/mllib/JavaLogisticRegressionWithLBFGSExample.java\n",
            "spark-3.3.0-bin-hadoop3/examples/src/main/java/org/apache/spark/examples/mllib/JavaLBFGSExample.java\n",
            "spark-3.3.0-bin-hadoop3/examples/src/main/java/org/apache/spark/examples/mllib/JavaGradientBoostingRegressionExample.java\n",
            "spark-3.3.0-bin-hadoop3/examples/src/main/java/org/apache/spark/examples/mllib/JavaRankingMetricsExample.java\n",
            "spark-3.3.0-bin-hadoop3/examples/src/main/java/org/apache/spark/examples/mllib/JavaIsotonicRegressionExample.java\n",
            "spark-3.3.0-bin-hadoop3/examples/src/main/java/org/apache/spark/examples/mllib/JavaElementwiseProductExample.java\n",
            "spark-3.3.0-bin-hadoop3/examples/src/main/java/org/apache/spark/examples/mllib/JavaCorrelationsExample.java\n",
            "spark-3.3.0-bin-hadoop3/examples/src/main/java/org/apache/spark/examples/mllib/JavaPowerIterationClusteringExample.java\n",
            "spark-3.3.0-bin-hadoop3/examples/src/main/java/org/apache/spark/examples/mllib/JavaBisectingKMeansExample.java\n",
            "spark-3.3.0-bin-hadoop3/examples/src/main/java/org/apache/spark/examples/mllib/JavaDecisionTreeClassificationExample.java\n",
            "spark-3.3.0-bin-hadoop3/examples/src/main/java/org/apache/spark/examples/mllib/JavaPCAExample.java\n",
            "spark-3.3.0-bin-hadoop3/examples/src/main/java/org/apache/spark/examples/mllib/JavaRecommendationExample.java\n",
            "spark-3.3.0-bin-hadoop3/examples/src/main/java/org/apache/spark/examples/mllib/JavaLatentDirichletAllocationExample.java\n",
            "spark-3.3.0-bin-hadoop3/examples/src/main/java/org/apache/spark/examples/mllib/JavaHypothesisTestingExample.java\n",
            "spark-3.3.0-bin-hadoop3/examples/src/main/java/org/apache/spark/examples/mllib/JavaMultiLabelClassificationMetricsExample.java\n",
            "spark-3.3.0-bin-hadoop3/examples/src/main/java/org/apache/spark/examples/mllib/JavaBinaryClassificationMetricsExample.java\n",
            "spark-3.3.0-bin-hadoop3/examples/src/main/java/org/apache/spark/examples/mllib/JavaStreamingTestExample.java\n",
            "spark-3.3.0-bin-hadoop3/examples/src/main/java/org/apache/spark/examples/JavaPageRank.java\n",
            "spark-3.3.0-bin-hadoop3/examples/src/main/java/org/apache/spark/examples/JavaLogQuery.java\n",
            "spark-3.3.0-bin-hadoop3/examples/src/main/java/org/apache/spark/examples/streaming/\n",
            "spark-3.3.0-bin-hadoop3/examples/src/main/java/org/apache/spark/examples/streaming/JavaStatefulNetworkWordCount.java\n",
            "spark-3.3.0-bin-hadoop3/examples/src/main/java/org/apache/spark/examples/streaming/JavaCustomReceiver.java\n",
            "spark-3.3.0-bin-hadoop3/examples/src/main/java/org/apache/spark/examples/streaming/JavaRecord.java\n",
            "spark-3.3.0-bin-hadoop3/examples/src/main/java/org/apache/spark/examples/streaming/JavaNetworkWordCount.java\n",
            "spark-3.3.0-bin-hadoop3/examples/src/main/java/org/apache/spark/examples/streaming/JavaDirectKerberizedKafkaWordCount.java\n",
            "spark-3.3.0-bin-hadoop3/examples/src/main/java/org/apache/spark/examples/streaming/JavaDirectKafkaWordCount.java\n",
            "spark-3.3.0-bin-hadoop3/examples/src/main/java/org/apache/spark/examples/streaming/JavaSqlNetworkWordCount.java\n",
            "spark-3.3.0-bin-hadoop3/examples/src/main/java/org/apache/spark/examples/streaming/JavaRecoverableNetworkWordCount.java\n",
            "spark-3.3.0-bin-hadoop3/examples/src/main/java/org/apache/spark/examples/streaming/JavaQueueStream.java\n",
            "spark-3.3.0-bin-hadoop3/examples/src/main/java/org/apache/spark/examples/JavaSparkPi.java\n",
            "spark-3.3.0-bin-hadoop3/examples/src/main/java/org/apache/spark/examples/sql/\n",
            "spark-3.3.0-bin-hadoop3/examples/src/main/java/org/apache/spark/examples/sql/JavaUserDefinedScalar.java\n",
            "spark-3.3.0-bin-hadoop3/examples/src/main/java/org/apache/spark/examples/sql/hive/\n",
            "spark-3.3.0-bin-hadoop3/examples/src/main/java/org/apache/spark/examples/sql/hive/JavaSparkHiveExample.java\n",
            "spark-3.3.0-bin-hadoop3/examples/src/main/java/org/apache/spark/examples/sql/JavaUserDefinedTypedAggregation.java\n",
            "spark-3.3.0-bin-hadoop3/examples/src/main/java/org/apache/spark/examples/sql/JavaSQLDataSourceExample.java\n",
            "spark-3.3.0-bin-hadoop3/examples/src/main/java/org/apache/spark/examples/sql/JavaSparkSQLExample.java\n",
            "spark-3.3.0-bin-hadoop3/examples/src/main/java/org/apache/spark/examples/sql/JavaUserDefinedUntypedAggregation.java\n",
            "spark-3.3.0-bin-hadoop3/examples/src/main/java/org/apache/spark/examples/sql/streaming/\n",
            "spark-3.3.0-bin-hadoop3/examples/src/main/java/org/apache/spark/examples/sql/streaming/JavaStructuredKafkaWordCount.java\n",
            "spark-3.3.0-bin-hadoop3/examples/src/main/java/org/apache/spark/examples/sql/streaming/JavaStructuredComplexSessionization.java\n",
            "spark-3.3.0-bin-hadoop3/examples/src/main/java/org/apache/spark/examples/sql/streaming/JavaStructuredNetworkWordCountWindowed.java\n",
            "spark-3.3.0-bin-hadoop3/examples/src/main/java/org/apache/spark/examples/sql/streaming/JavaStructuredSessionization.java\n",
            "spark-3.3.0-bin-hadoop3/examples/src/main/java/org/apache/spark/examples/sql/streaming/JavaStructuredNetworkWordCount.java\n",
            "spark-3.3.0-bin-hadoop3/examples/src/main/java/org/apache/spark/examples/sql/streaming/JavaStructuredKerberizedKafkaWordCount.java\n",
            "spark-3.3.0-bin-hadoop3/examples/src/main/java/org/apache/spark/examples/JavaTC.java\n",
            "spark-3.3.0-bin-hadoop3/examples/src/main/scripts/\n",
            "spark-3.3.0-bin-hadoop3/examples/src/main/scripts/getGpusResources.sh\n",
            "spark-3.3.0-bin-hadoop3/examples/src/main/python/\n",
            "spark-3.3.0-bin-hadoop3/examples/src/main/python/kmeans.py\n",
            "spark-3.3.0-bin-hadoop3/examples/src/main/python/ml/\n",
            "spark-3.3.0-bin-hadoop3/examples/src/main/python/ml/dct_example.py\n",
            "spark-3.3.0-bin-hadoop3/examples/src/main/python/ml/count_vectorizer_example.py\n",
            "spark-3.3.0-bin-hadoop3/examples/src/main/python/ml/chisq_selector_example.py\n",
            "spark-3.3.0-bin-hadoop3/examples/src/main/python/ml/gradient_boosted_tree_regressor_example.py\n",
            "spark-3.3.0-bin-hadoop3/examples/src/main/python/ml/tf_idf_example.py\n",
            "spark-3.3.0-bin-hadoop3/examples/src/main/python/ml/cross_validator.py\n",
            "spark-3.3.0-bin-hadoop3/examples/src/main/python/ml/linear_regression_with_elastic_net.py\n",
            "spark-3.3.0-bin-hadoop3/examples/src/main/python/ml/normalizer_example.py\n",
            "spark-3.3.0-bin-hadoop3/examples/src/main/python/ml/fm_regressor_example.py\n",
            "spark-3.3.0-bin-hadoop3/examples/src/main/python/ml/univariate_feature_selector_example.py\n",
            "spark-3.3.0-bin-hadoop3/examples/src/main/python/ml/polynomial_expansion_example.py\n",
            "spark-3.3.0-bin-hadoop3/examples/src/main/python/ml/pipeline_example.py\n",
            "spark-3.3.0-bin-hadoop3/examples/src/main/python/ml/generalized_linear_regression_example.py\n",
            "spark-3.3.0-bin-hadoop3/examples/src/main/python/ml/multilayer_perceptron_classification.py\n",
            "spark-3.3.0-bin-hadoop3/examples/src/main/python/ml/bisecting_k_means_example.py\n",
            "spark-3.3.0-bin-hadoop3/examples/src/main/python/ml/chi_square_test_example.py\n",
            "spark-3.3.0-bin-hadoop3/examples/src/main/python/ml/train_validation_split.py\n",
            "spark-3.3.0-bin-hadoop3/examples/src/main/python/ml/stopwords_remover_example.py\n",
            "spark-3.3.0-bin-hadoop3/examples/src/main/python/ml/linearsvc.py\n",
            "spark-3.3.0-bin-hadoop3/examples/src/main/python/ml/lda_example.py\n",
            "spark-3.3.0-bin-hadoop3/examples/src/main/python/ml/random_forest_regressor_example.py\n",
            "spark-3.3.0-bin-hadoop3/examples/src/main/python/ml/vector_assembler_example.py\n",
            "spark-3.3.0-bin-hadoop3/examples/src/main/python/ml/word2vec_example.py\n",
            "spark-3.3.0-bin-hadoop3/examples/src/main/python/ml/string_indexer_example.py\n",
            "spark-3.3.0-bin-hadoop3/examples/src/main/python/ml/decision_tree_classification_example.py\n",
            "spark-3.3.0-bin-hadoop3/examples/src/main/python/ml/index_to_string_example.py\n",
            "spark-3.3.0-bin-hadoop3/examples/src/main/python/ml/bucketizer_example.py\n",
            "spark-3.3.0-bin-hadoop3/examples/src/main/python/ml/vector_size_hint_example.py\n",
            "spark-3.3.0-bin-hadoop3/examples/src/main/python/ml/vector_indexer_example.py\n",
            "spark-3.3.0-bin-hadoop3/examples/src/main/python/ml/tokenizer_example.py\n",
            "spark-3.3.0-bin-hadoop3/examples/src/main/python/ml/robust_scaler_example.py\n",
            "spark-3.3.0-bin-hadoop3/examples/src/main/python/ml/standard_scaler_example.py\n",
            "spark-3.3.0-bin-hadoop3/examples/src/main/python/ml/kmeans_example.py\n",
            "spark-3.3.0-bin-hadoop3/examples/src/main/python/ml/power_iteration_clustering_example.py\n",
            "spark-3.3.0-bin-hadoop3/examples/src/main/python/ml/naive_bayes_example.py\n",
            "spark-3.3.0-bin-hadoop3/examples/src/main/python/ml/pca_example.py\n",
            "spark-3.3.0-bin-hadoop3/examples/src/main/python/ml/aft_survival_regression.py\n",
            "spark-3.3.0-bin-hadoop3/examples/src/main/python/ml/min_max_scaler_example.py\n",
            "spark-3.3.0-bin-hadoop3/examples/src/main/python/ml/elementwise_product_example.py\n",
            "spark-3.3.0-bin-hadoop3/examples/src/main/python/ml/dataframe_example.py\n",
            "spark-3.3.0-bin-hadoop3/examples/src/main/python/ml/n_gram_example.py\n",
            "spark-3.3.0-bin-hadoop3/examples/src/main/python/ml/rformula_example.py\n",
            "spark-3.3.0-bin-hadoop3/examples/src/main/python/ml/one_vs_rest_example.py\n",
            "spark-3.3.0-bin-hadoop3/examples/src/main/python/ml/als_example.py\n",
            "spark-3.3.0-bin-hadoop3/examples/src/main/python/ml/onehot_encoder_example.py\n",
            "spark-3.3.0-bin-hadoop3/examples/src/main/python/ml/vector_slicer_example.py\n",
            "spark-3.3.0-bin-hadoop3/examples/src/main/python/ml/logistic_regression_with_elastic_net.py\n",
            "spark-3.3.0-bin-hadoop3/examples/src/main/python/ml/sql_transformer.py\n",
            "spark-3.3.0-bin-hadoop3/examples/src/main/python/ml/multiclass_logistic_regression_with_elastic_net.py\n",
            "spark-3.3.0-bin-hadoop3/examples/src/main/python/ml/summarizer_example.py\n",
            "spark-3.3.0-bin-hadoop3/examples/src/main/python/ml/quantile_discretizer_example.py\n",
            "spark-3.3.0-bin-hadoop3/examples/src/main/python/ml/feature_hasher_example.py\n",
            "spark-3.3.0-bin-hadoop3/examples/src/main/python/ml/imputer_example.py\n",
            "spark-3.3.0-bin-hadoop3/examples/src/main/python/ml/bucketed_random_projection_lsh_example.py\n",
            "spark-3.3.0-bin-hadoop3/examples/src/main/python/ml/estimator_transformer_param_example.py\n",
            "spark-3.3.0-bin-hadoop3/examples/src/main/python/ml/gradient_boosted_tree_classifier_example.py\n",
            "spark-3.3.0-bin-hadoop3/examples/src/main/python/ml/logistic_regression_summary_example.py\n",
            "spark-3.3.0-bin-hadoop3/examples/src/main/python/ml/decision_tree_regression_example.py\n",
            "spark-3.3.0-bin-hadoop3/examples/src/main/python/ml/__init__,py\n",
            "spark-3.3.0-bin-hadoop3/examples/src/main/python/ml/fm_classifier_example.py\n",
            "spark-3.3.0-bin-hadoop3/examples/src/main/python/ml/gaussian_mixture_example.py\n",
            "spark-3.3.0-bin-hadoop3/examples/src/main/python/ml/fpgrowth_example.py\n",
            "spark-3.3.0-bin-hadoop3/examples/src/main/python/ml/variance_threshold_selector_example.py\n",
            "spark-3.3.0-bin-hadoop3/examples/src/main/python/ml/random_forest_classifier_example.py\n",
            "spark-3.3.0-bin-hadoop3/examples/src/main/python/ml/correlation_example.py\n",
            "spark-3.3.0-bin-hadoop3/examples/src/main/python/ml/min_hash_lsh_example.py\n",
            "spark-3.3.0-bin-hadoop3/examples/src/main/python/ml/binarizer_example.py\n",
            "spark-3.3.0-bin-hadoop3/examples/src/main/python/ml/prefixspan_example.py\n",
            "spark-3.3.0-bin-hadoop3/examples/src/main/python/ml/max_abs_scaler_example.py\n",
            "spark-3.3.0-bin-hadoop3/examples/src/main/python/ml/isotonic_regression_example.py\n",
            "spark-3.3.0-bin-hadoop3/examples/src/main/python/ml/interaction_example.py\n",
            "spark-3.3.0-bin-hadoop3/examples/src/main/python/logistic_regression.py\n",
            "spark-3.3.0-bin-hadoop3/examples/src/main/python/__init__.py\n",
            "spark-3.3.0-bin-hadoop3/examples/src/main/python/als.py\n",
            "spark-3.3.0-bin-hadoop3/examples/src/main/python/mllib/\n",
            "spark-3.3.0-bin-hadoop3/examples/src/main/python/mllib/word2vec.py\n",
            "spark-3.3.0-bin-hadoop3/examples/src/main/python/mllib/correlations_example.py\n",
            "spark-3.3.0-bin-hadoop3/examples/src/main/python/mllib/gradient_boosting_classification_example.py\n",
            "spark-3.3.0-bin-hadoop3/examples/src/main/python/mllib/kernel_density_estimation_example.py\n",
            "spark-3.3.0-bin-hadoop3/examples/src/main/python/mllib/hypothesis_testing_example.py\n",
            "spark-3.3.0-bin-hadoop3/examples/src/main/python/mllib/svd_example.py\n",
            "spark-3.3.0-bin-hadoop3/examples/src/main/python/mllib/kmeans.py\n",
            "spark-3.3.0-bin-hadoop3/examples/src/main/python/mllib/latent_dirichlet_allocation_example.py\n",
            "spark-3.3.0-bin-hadoop3/examples/src/main/python/mllib/tf_idf_example.py\n",
            "spark-3.3.0-bin-hadoop3/examples/src/main/python/mllib/correlations.py\n",
            "spark-3.3.0-bin-hadoop3/examples/src/main/python/mllib/random_forest_regression_example.py\n",
            "spark-3.3.0-bin-hadoop3/examples/src/main/python/mllib/normalizer_example.py\n",
            "spark-3.3.0-bin-hadoop3/examples/src/main/python/mllib/logistic_regression.py\n",
            "spark-3.3.0-bin-hadoop3/examples/src/main/python/mllib/multi_label_metrics_example.py\n",
            "spark-3.3.0-bin-hadoop3/examples/src/main/python/mllib/gradient_boosting_regression_example.py\n",
            "spark-3.3.0-bin-hadoop3/examples/src/main/python/mllib/random_forest_classification_example.py\n",
            "spark-3.3.0-bin-hadoop3/examples/src/main/python/mllib/__init__.py\n",
            "spark-3.3.0-bin-hadoop3/examples/src/main/python/mllib/streaming_linear_regression_example.py\n",
            "spark-3.3.0-bin-hadoop3/examples/src/main/python/mllib/sampled_rdds.py\n",
            "spark-3.3.0-bin-hadoop3/examples/src/main/python/mllib/bisecting_k_means_example.py\n",
            "spark-3.3.0-bin-hadoop3/examples/src/main/python/mllib/logistic_regression_with_lbfgs_example.py\n",
            "spark-3.3.0-bin-hadoop3/examples/src/main/python/mllib/k_means_example.py\n",
            "spark-3.3.0-bin-hadoop3/examples/src/main/python/mllib/streaming_k_means_example.py\n",
            "spark-3.3.0-bin-hadoop3/examples/src/main/python/mllib/word2vec_example.py\n",
            "spark-3.3.0-bin-hadoop3/examples/src/main/python/mllib/multi_class_metrics_example.py\n",
            "spark-3.3.0-bin-hadoop3/examples/src/main/python/mllib/decision_tree_classification_example.py\n",
            "spark-3.3.0-bin-hadoop3/examples/src/main/python/mllib/summary_statistics_example.py\n",
            "spark-3.3.0-bin-hadoop3/examples/src/main/python/mllib/binary_classification_metrics_example.py\n",
            "spark-3.3.0-bin-hadoop3/examples/src/main/python/mllib/standard_scaler_example.py\n",
            "spark-3.3.0-bin-hadoop3/examples/src/main/python/mllib/power_iteration_clustering_example.py\n",
            "spark-3.3.0-bin-hadoop3/examples/src/main/python/mllib/gaussian_mixture_model.py\n",
            "spark-3.3.0-bin-hadoop3/examples/src/main/python/mllib/regression_metrics_example.py\n",
            "spark-3.3.0-bin-hadoop3/examples/src/main/python/mllib/naive_bayes_example.py\n",
            "spark-3.3.0-bin-hadoop3/examples/src/main/python/mllib/elementwise_product_example.py\n",
            "spark-3.3.0-bin-hadoop3/examples/src/main/python/mllib/linear_regression_with_sgd_example.py\n",
            "spark-3.3.0-bin-hadoop3/examples/src/main/python/mllib/pca_rowmatrix_example.py\n",
            "spark-3.3.0-bin-hadoop3/examples/src/main/python/mllib/hypothesis_testing_kolmogorov_smirnov_test_example.py\n",
            "spark-3.3.0-bin-hadoop3/examples/src/main/python/mllib/random_rdd_generation.py\n",
            "spark-3.3.0-bin-hadoop3/examples/src/main/python/mllib/decision_tree_regression_example.py\n",
            "spark-3.3.0-bin-hadoop3/examples/src/main/python/mllib/gaussian_mixture_example.py\n",
            "spark-3.3.0-bin-hadoop3/examples/src/main/python/mllib/recommendation_example.py\n",
            "spark-3.3.0-bin-hadoop3/examples/src/main/python/mllib/fpgrowth_example.py\n",
            "spark-3.3.0-bin-hadoop3/examples/src/main/python/mllib/ranking_metrics_example.py\n",
            "spark-3.3.0-bin-hadoop3/examples/src/main/python/mllib/svm_with_sgd_example.py\n",
            "spark-3.3.0-bin-hadoop3/examples/src/main/python/mllib/isotonic_regression_example.py\n",
            "spark-3.3.0-bin-hadoop3/examples/src/main/python/mllib/stratified_sampling_example.py\n",
            "spark-3.3.0-bin-hadoop3/examples/src/main/python/wordcount.py\n",
            "spark-3.3.0-bin-hadoop3/examples/src/main/python/status_api_demo.py\n",
            "spark-3.3.0-bin-hadoop3/examples/src/main/python/pagerank.py\n",
            "spark-3.3.0-bin-hadoop3/examples/src/main/python/sort.py\n",
            "spark-3.3.0-bin-hadoop3/examples/src/main/python/transitive_closure.py\n",
            "spark-3.3.0-bin-hadoop3/examples/src/main/python/avro_inputformat.py\n",
            "spark-3.3.0-bin-hadoop3/examples/src/main/python/pi.py\n",
            "spark-3.3.0-bin-hadoop3/examples/src/main/python/streaming/\n",
            "spark-3.3.0-bin-hadoop3/examples/src/main/python/streaming/queue_stream.py\n",
            "spark-3.3.0-bin-hadoop3/examples/src/main/python/streaming/__init__.py\n",
            "spark-3.3.0-bin-hadoop3/examples/src/main/python/streaming/stateful_network_wordcount.py\n",
            "spark-3.3.0-bin-hadoop3/examples/src/main/python/streaming/network_wordjoinsentiments.py\n",
            "spark-3.3.0-bin-hadoop3/examples/src/main/python/streaming/sql_network_wordcount.py\n",
            "spark-3.3.0-bin-hadoop3/examples/src/main/python/streaming/network_wordcount.py\n",
            "spark-3.3.0-bin-hadoop3/examples/src/main/python/streaming/hdfs_wordcount.py\n",
            "spark-3.3.0-bin-hadoop3/examples/src/main/python/streaming/recoverable_network_wordcount.py\n",
            "spark-3.3.0-bin-hadoop3/examples/src/main/python/sql/\n",
            "spark-3.3.0-bin-hadoop3/examples/src/main/python/sql/datasource.py\n",
            "spark-3.3.0-bin-hadoop3/examples/src/main/python/sql/__init__.py\n",
            "spark-3.3.0-bin-hadoop3/examples/src/main/python/sql/hive.py\n",
            "spark-3.3.0-bin-hadoop3/examples/src/main/python/sql/arrow.py\n",
            "spark-3.3.0-bin-hadoop3/examples/src/main/python/sql/streaming/\n",
            "spark-3.3.0-bin-hadoop3/examples/src/main/python/sql/streaming/structured_network_wordcount_windowed.py\n",
            "spark-3.3.0-bin-hadoop3/examples/src/main/python/sql/streaming/structured_network_wordcount.py\n",
            "spark-3.3.0-bin-hadoop3/examples/src/main/python/sql/streaming/structured_sessionization.py\n",
            "spark-3.3.0-bin-hadoop3/examples/src/main/python/sql/streaming/__init__,py\n",
            "spark-3.3.0-bin-hadoop3/examples/src/main/python/sql/streaming/structured_kafka_wordcount.py\n",
            "spark-3.3.0-bin-hadoop3/examples/src/main/python/sql/basic.py\n",
            "spark-3.3.0-bin-hadoop3/examples/src/main/python/parquet_inputformat.py\n",
            "spark-3.3.0-bin-hadoop3/examples/jars/\n",
            "spark-3.3.0-bin-hadoop3/examples/jars/spark-examples_2.12-3.3.0.jar\n",
            "spark-3.3.0-bin-hadoop3/examples/jars/scopt_2.12-3.7.1.jar\n",
            "spark-3.3.0-bin-hadoop3/conf/\n",
            "spark-3.3.0-bin-hadoop3/conf/metrics.properties.template\n",
            "spark-3.3.0-bin-hadoop3/conf/workers.template\n",
            "spark-3.3.0-bin-hadoop3/conf/fairscheduler.xml.template\n",
            "spark-3.3.0-bin-hadoop3/conf/spark-defaults.conf.template\n",
            "spark-3.3.0-bin-hadoop3/conf/spark-env.sh.template\n",
            "spark-3.3.0-bin-hadoop3/conf/log4j2.properties.template\n",
            "spark-3.3.0-bin-hadoop3/bin/\n",
            "spark-3.3.0-bin-hadoop3/bin/sparkR.cmd\n",
            "spark-3.3.0-bin-hadoop3/bin/sparkR\n",
            "spark-3.3.0-bin-hadoop3/bin/spark-submit\n",
            "spark-3.3.0-bin-hadoop3/bin/pyspark2.cmd\n",
            "spark-3.3.0-bin-hadoop3/bin/spark-class\n",
            "spark-3.3.0-bin-hadoop3/bin/pyspark.cmd\n",
            "spark-3.3.0-bin-hadoop3/bin/spark-submit2.cmd\n",
            "spark-3.3.0-bin-hadoop3/bin/load-spark-env.cmd\n",
            "spark-3.3.0-bin-hadoop3/bin/spark-sql\n",
            "spark-3.3.0-bin-hadoop3/bin/docker-image-tool.sh\n",
            "spark-3.3.0-bin-hadoop3/bin/find-spark-home.cmd\n",
            "spark-3.3.0-bin-hadoop3/bin/load-spark-env.sh\n",
            "spark-3.3.0-bin-hadoop3/bin/pyspark\n",
            "spark-3.3.0-bin-hadoop3/bin/spark-shell.cmd\n",
            "spark-3.3.0-bin-hadoop3/bin/spark-shell2.cmd\n",
            "spark-3.3.0-bin-hadoop3/bin/spark-submit.cmd\n",
            "spark-3.3.0-bin-hadoop3/bin/beeline.cmd\n",
            "spark-3.3.0-bin-hadoop3/bin/find-spark-home\n",
            "spark-3.3.0-bin-hadoop3/bin/spark-class.cmd\n",
            "spark-3.3.0-bin-hadoop3/bin/sparkR2.cmd\n",
            "spark-3.3.0-bin-hadoop3/bin/beeline\n",
            "spark-3.3.0-bin-hadoop3/bin/spark-class2.cmd\n",
            "spark-3.3.0-bin-hadoop3/bin/spark-sql.cmd\n",
            "spark-3.3.0-bin-hadoop3/bin/run-example\n",
            "spark-3.3.0-bin-hadoop3/bin/spark-shell\n",
            "spark-3.3.0-bin-hadoop3/bin/run-example.cmd\n",
            "spark-3.3.0-bin-hadoop3/bin/spark-sql2.cmd\n",
            "spark-3.3.0-bin-hadoop3/python/\n",
            "spark-3.3.0-bin-hadoop3/python/.gitignore\n",
            "spark-3.3.0-bin-hadoop3/python/run-tests-with-coverage\n",
            "spark-3.3.0-bin-hadoop3/python/mypy.ini\n",
            "spark-3.3.0-bin-hadoop3/python/MANIFEST.in\n",
            "spark-3.3.0-bin-hadoop3/python/README.md\n",
            "spark-3.3.0-bin-hadoop3/python/test_coverage/\n",
            "spark-3.3.0-bin-hadoop3/python/test_coverage/coverage_daemon.py\n",
            "spark-3.3.0-bin-hadoop3/python/test_coverage/conf/\n",
            "spark-3.3.0-bin-hadoop3/python/test_coverage/conf/spark-defaults.conf\n",
            "spark-3.3.0-bin-hadoop3/python/test_coverage/sitecustomize.py\n",
            "spark-3.3.0-bin-hadoop3/python/run-tests.py\n",
            "spark-3.3.0-bin-hadoop3/python/setup.py\n",
            "spark-3.3.0-bin-hadoop3/python/test_support/\n",
            "spark-3.3.0-bin-hadoop3/python/test_support/userlibrary.py\n",
            "spark-3.3.0-bin-hadoop3/python/test_support/hello/\n",
            "spark-3.3.0-bin-hadoop3/python/test_support/hello/sub_hello/\n",
            "spark-3.3.0-bin-hadoop3/python/test_support/hello/sub_hello/sub_hello.txt\n",
            "spark-3.3.0-bin-hadoop3/python/test_support/hello/hello.txt\n",
            "spark-3.3.0-bin-hadoop3/python/test_support/userlib-0.1.zip\n",
            "spark-3.3.0-bin-hadoop3/python/test_support/SimpleHTTPServer.py\n",
            "spark-3.3.0-bin-hadoop3/python/test_support/sql/\n",
            "spark-3.3.0-bin-hadoop3/python/test_support/sql/people.json\n",
            "spark-3.3.0-bin-hadoop3/python/test_support/sql/people_array.json\n",
            "spark-3.3.0-bin-hadoop3/python/test_support/sql/people_array_utf16le.json\n",
            "spark-3.3.0-bin-hadoop3/python/test_support/sql/text-test.txt\n",
            "spark-3.3.0-bin-hadoop3/python/test_support/sql/ages.csv\n",
            "spark-3.3.0-bin-hadoop3/python/test_support/sql/parquet_partitioned/\n",
            "spark-3.3.0-bin-hadoop3/python/test_support/sql/parquet_partitioned/year=2015/\n",
            "spark-3.3.0-bin-hadoop3/python/test_support/sql/parquet_partitioned/year=2015/month=10/\n",
            "spark-3.3.0-bin-hadoop3/python/test_support/sql/parquet_partitioned/year=2015/month=10/day=26/\n",
            "spark-3.3.0-bin-hadoop3/python/test_support/sql/parquet_partitioned/year=2015/month=10/day=26/.part-r-00005.gz.parquet.crc\n",
            "spark-3.3.0-bin-hadoop3/python/test_support/sql/parquet_partitioned/year=2015/month=10/day=26/part-r-00005.gz.parquet\n",
            "spark-3.3.0-bin-hadoop3/python/test_support/sql/parquet_partitioned/year=2015/month=10/day=25/\n",
            "spark-3.3.0-bin-hadoop3/python/test_support/sql/parquet_partitioned/year=2015/month=10/day=25/.part-r-00002.gz.parquet.crc\n",
            "spark-3.3.0-bin-hadoop3/python/test_support/sql/parquet_partitioned/year=2015/month=10/day=25/.part-r-00004.gz.parquet.crc\n",
            "spark-3.3.0-bin-hadoop3/python/test_support/sql/parquet_partitioned/year=2015/month=10/day=25/part-r-00004.gz.parquet\n",
            "spark-3.3.0-bin-hadoop3/python/test_support/sql/parquet_partitioned/year=2015/month=10/day=25/part-r-00002.gz.parquet\n",
            "spark-3.3.0-bin-hadoop3/python/test_support/sql/parquet_partitioned/year=2015/month=9/\n",
            "spark-3.3.0-bin-hadoop3/python/test_support/sql/parquet_partitioned/year=2015/month=9/day=1/\n",
            "spark-3.3.0-bin-hadoop3/python/test_support/sql/parquet_partitioned/year=2015/month=9/day=1/.part-r-00007.gz.parquet.crc\n",
            "spark-3.3.0-bin-hadoop3/python/test_support/sql/parquet_partitioned/year=2015/month=9/day=1/part-r-00007.gz.parquet\n",
            "spark-3.3.0-bin-hadoop3/python/test_support/sql/parquet_partitioned/_metadata\n",
            "spark-3.3.0-bin-hadoop3/python/test_support/sql/parquet_partitioned/year=2014/\n",
            "spark-3.3.0-bin-hadoop3/python/test_support/sql/parquet_partitioned/year=2014/month=9/\n",
            "spark-3.3.0-bin-hadoop3/python/test_support/sql/parquet_partitioned/year=2014/month=9/day=1/\n",
            "spark-3.3.0-bin-hadoop3/python/test_support/sql/parquet_partitioned/year=2014/month=9/day=1/.part-r-00008.gz.parquet.crc\n",
            "spark-3.3.0-bin-hadoop3/python/test_support/sql/parquet_partitioned/year=2014/month=9/day=1/part-r-00008.gz.parquet\n",
            "spark-3.3.0-bin-hadoop3/python/test_support/sql/parquet_partitioned/_common_metadata\n",
            "spark-3.3.0-bin-hadoop3/python/test_support/sql/parquet_partitioned/_SUCCESS\n",
            "spark-3.3.0-bin-hadoop3/python/test_support/sql/orc_partitioned/\n",
            "spark-3.3.0-bin-hadoop3/python/test_support/sql/orc_partitioned/b=1/\n",
            "spark-3.3.0-bin-hadoop3/python/test_support/sql/orc_partitioned/b=1/c=1/\n",
            "spark-3.3.0-bin-hadoop3/python/test_support/sql/orc_partitioned/b=1/c=1/part-r-00000-829af031-b970-49d6-ad39-30460a0be2c8.orc\n",
            "spark-3.3.0-bin-hadoop3/python/test_support/sql/orc_partitioned/b=1/c=1/.part-r-00000-829af031-b970-49d6-ad39-30460a0be2c8.orc.crc\n",
            "spark-3.3.0-bin-hadoop3/python/test_support/sql/orc_partitioned/b=0/\n",
            "spark-3.3.0-bin-hadoop3/python/test_support/sql/orc_partitioned/b=0/c=0/\n",
            "spark-3.3.0-bin-hadoop3/python/test_support/sql/orc_partitioned/b=0/c=0/part-r-00000-829af031-b970-49d6-ad39-30460a0be2c8.orc\n",
            "spark-3.3.0-bin-hadoop3/python/test_support/sql/orc_partitioned/b=0/c=0/.part-r-00000-829af031-b970-49d6-ad39-30460a0be2c8.orc.crc\n",
            "spark-3.3.0-bin-hadoop3/python/test_support/sql/orc_partitioned/_SUCCESS\n",
            "spark-3.3.0-bin-hadoop3/python/test_support/sql/ages_newlines.csv\n",
            "spark-3.3.0-bin-hadoop3/python/test_support/sql/streaming/\n",
            "spark-3.3.0-bin-hadoop3/python/test_support/sql/streaming/text-test.txt\n",
            "spark-3.3.0-bin-hadoop3/python/test_support/sql/people1.json\n",
            "spark-3.3.0-bin-hadoop3/python/pyspark/\n",
            "spark-3.3.0-bin-hadoop3/python/pyspark/tests/\n",
            "spark-3.3.0-bin-hadoop3/python/pyspark/tests/test_rddbarrier.py\n",
            "spark-3.3.0-bin-hadoop3/python/pyspark/tests/test_worker.py\n",
            "spark-3.3.0-bin-hadoop3/python/pyspark/tests/test_serializers.py\n",
            "spark-3.3.0-bin-hadoop3/python/pyspark/tests/test_util.py\n",
            "spark-3.3.0-bin-hadoop3/python/pyspark/tests/test_rdd.py\n",
            "spark-3.3.0-bin-hadoop3/python/pyspark/tests/test_statcounter.py\n",
            "spark-3.3.0-bin-hadoop3/python/pyspark/tests/__init__.py\n",
            "spark-3.3.0-bin-hadoop3/python/pyspark/tests/test_broadcast.py\n",
            "spark-3.3.0-bin-hadoop3/python/pyspark/tests/test_appsubmit.py\n",
            "spark-3.3.0-bin-hadoop3/python/pyspark/tests/test_profiler.py\n",
            "spark-3.3.0-bin-hadoop3/python/pyspark/tests/test_pin_thread.py\n",
            "spark-3.3.0-bin-hadoop3/python/pyspark/tests/test_install_spark.py\n",
            "spark-3.3.0-bin-hadoop3/python/pyspark/tests/typing/\n",
            "spark-3.3.0-bin-hadoop3/python/pyspark/tests/typing/test_resultiterable.yml\n",
            "spark-3.3.0-bin-hadoop3/python/pyspark/tests/typing/test_context.yml\n",
            "spark-3.3.0-bin-hadoop3/python/pyspark/tests/typing/test_rdd.yml\n",
            "spark-3.3.0-bin-hadoop3/python/pyspark/tests/typing/test_core.yml\n",
            "spark-3.3.0-bin-hadoop3/python/pyspark/tests/test_shuffle.py\n",
            "spark-3.3.0-bin-hadoop3/python/pyspark/tests/test_join.py\n",
            "spark-3.3.0-bin-hadoop3/python/pyspark/tests/test_taskcontext.py\n",
            "spark-3.3.0-bin-hadoop3/python/pyspark/tests/test_context.py\n",
            "spark-3.3.0-bin-hadoop3/python/pyspark/tests/test_readwrite.py\n",
            "spark-3.3.0-bin-hadoop3/python/pyspark/tests/test_conf.py\n",
            "spark-3.3.0-bin-hadoop3/python/pyspark/tests/test_daemon.py\n",
            "spark-3.3.0-bin-hadoop3/python/pyspark/pandas/\n",
            "spark-3.3.0-bin-hadoop3/python/pyspark/pandas/tests/\n",
            "spark-3.3.0-bin-hadoop3/python/pyspark/pandas/tests/test_series.py\n",
            "spark-3.3.0-bin-hadoop3/python/pyspark/pandas/tests/test_utils.py\n",
            "spark-3.3.0-bin-hadoop3/python/pyspark/pandas/tests/test_dataframe.py\n",
            "spark-3.3.0-bin-hadoop3/python/pyspark/pandas/tests/indexes/\n",
            "spark-3.3.0-bin-hadoop3/python/pyspark/pandas/tests/indexes/__init__.py\n",
            "spark-3.3.0-bin-hadoop3/python/pyspark/pandas/tests/indexes/test_timedelta.py\n",
            "spark-3.3.0-bin-hadoop3/python/pyspark/pandas/tests/indexes/test_category.py\n",
            "spark-3.3.0-bin-hadoop3/python/pyspark/pandas/tests/indexes/test_datetime.py\n",
            "spark-3.3.0-bin-hadoop3/python/pyspark/pandas/tests/indexes/test_base.py\n",
            "spark-3.3.0-bin-hadoop3/python/pyspark/pandas/tests/test_window.py\n",
            "spark-3.3.0-bin-hadoop3/python/pyspark/pandas/tests/test_indexops_spark.py\n",
            "spark-3.3.0-bin-hadoop3/python/pyspark/pandas/tests/__init__.py\n",
            "spark-3.3.0-bin-hadoop3/python/pyspark/pandas/tests/test_stats.py\n",
            "spark-3.3.0-bin-hadoop3/python/pyspark/pandas/tests/test_extension.py\n",
            "spark-3.3.0-bin-hadoop3/python/pyspark/pandas/tests/test_default_index.py\n",
            "spark-3.3.0-bin-hadoop3/python/pyspark/pandas/tests/test_expanding.py\n",
            "spark-3.3.0-bin-hadoop3/python/pyspark/pandas/tests/test_series_datetime.py\n",
            "spark-3.3.0-bin-hadoop3/python/pyspark/pandas/tests/test_indexing.py\n",
            "spark-3.3.0-bin-hadoop3/python/pyspark/pandas/tests/test_typedef.py\n",
            "spark-3.3.0-bin-hadoop3/python/pyspark/pandas/tests/test_numpy_compat.py\n",
            "spark-3.3.0-bin-hadoop3/python/pyspark/pandas/tests/test_dataframe_spark_io.py\n",
            "spark-3.3.0-bin-hadoop3/python/pyspark/pandas/tests/test_repr.py\n",
            "spark-3.3.0-bin-hadoop3/python/pyspark/pandas/tests/test_ops_on_diff_frames_groupby_expanding.py\n",
            "spark-3.3.0-bin-hadoop3/python/pyspark/pandas/tests/test_namespace.py\n",
            "spark-3.3.0-bin-hadoop3/python/pyspark/pandas/tests/test_ops_on_diff_frames_groupby.py\n",
            "spark-3.3.0-bin-hadoop3/python/pyspark/pandas/tests/test_series_conversion.py\n",
            "spark-3.3.0-bin-hadoop3/python/pyspark/pandas/tests/test_internal.py\n",
            "spark-3.3.0-bin-hadoop3/python/pyspark/pandas/tests/test_series_string.py\n",
            "spark-3.3.0-bin-hadoop3/python/pyspark/pandas/tests/test_groupby.py\n",
            "spark-3.3.0-bin-hadoop3/python/pyspark/pandas/tests/test_csv.py\n",
            "spark-3.3.0-bin-hadoop3/python/pyspark/pandas/tests/test_ops_on_diff_frames_groupby_rolling.py\n",
            "spark-3.3.0-bin-hadoop3/python/pyspark/pandas/tests/test_dataframe_conversion.py\n",
            "spark-3.3.0-bin-hadoop3/python/pyspark/pandas/tests/data_type_ops/\n",
            "spark-3.3.0-bin-hadoop3/python/pyspark/pandas/tests/data_type_ops/test_categorical_ops.py\n",
            "spark-3.3.0-bin-hadoop3/python/pyspark/pandas/tests/data_type_ops/test_complex_ops.py\n",
            "spark-3.3.0-bin-hadoop3/python/pyspark/pandas/tests/data_type_ops/test_boolean_ops.py\n",
            "spark-3.3.0-bin-hadoop3/python/pyspark/pandas/tests/data_type_ops/test_string_ops.py\n",
            "spark-3.3.0-bin-hadoop3/python/pyspark/pandas/tests/data_type_ops/__init__.py\n",
            "spark-3.3.0-bin-hadoop3/python/pyspark/pandas/tests/data_type_ops/testing_utils.py\n",
            "spark-3.3.0-bin-hadoop3/python/pyspark/pandas/tests/data_type_ops/test_udt_ops.py\n",
            "spark-3.3.0-bin-hadoop3/python/pyspark/pandas/tests/data_type_ops/test_num_ops.py\n",
            "spark-3.3.0-bin-hadoop3/python/pyspark/pandas/tests/data_type_ops/test_date_ops.py\n",
            "spark-3.3.0-bin-hadoop3/python/pyspark/pandas/tests/data_type_ops/test_timedelta_ops.py\n",
            "spark-3.3.0-bin-hadoop3/python/pyspark/pandas/tests/data_type_ops/test_null_ops.py\n",
            "spark-3.3.0-bin-hadoop3/python/pyspark/pandas/tests/data_type_ops/test_datetime_ops.py\n",
            "spark-3.3.0-bin-hadoop3/python/pyspark/pandas/tests/data_type_ops/test_binary_ops.py\n",
            "spark-3.3.0-bin-hadoop3/python/pyspark/pandas/tests/data_type_ops/test_base.py\n",
            "spark-3.3.0-bin-hadoop3/python/pyspark/pandas/tests/test_frame_spark.py\n",
            "spark-3.3.0-bin-hadoop3/python/pyspark/pandas/tests/test_config.py\n",
            "spark-3.3.0-bin-hadoop3/python/pyspark/pandas/tests/test_categorical.py\n",
            "spark-3.3.0-bin-hadoop3/python/pyspark/pandas/tests/plot/\n",
            "spark-3.3.0-bin-hadoop3/python/pyspark/pandas/tests/plot/__init__.py\n",
            "spark-3.3.0-bin-hadoop3/python/pyspark/pandas/tests/plot/test_frame_plot.py\n",
            "spark-3.3.0-bin-hadoop3/python/pyspark/pandas/tests/plot/test_frame_plot_matplotlib.py\n",
            "spark-3.3.0-bin-hadoop3/python/pyspark/pandas/tests/plot/test_frame_plot_plotly.py\n",
            "spark-3.3.0-bin-hadoop3/python/pyspark/pandas/tests/plot/test_series_plot_matplotlib.py\n",
            "spark-3.3.0-bin-hadoop3/python/pyspark/pandas/tests/plot/test_series_plot_plotly.py\n",
            "spark-3.3.0-bin-hadoop3/python/pyspark/pandas/tests/plot/test_series_plot.py\n",
            "spark-3.3.0-bin-hadoop3/python/pyspark/pandas/tests/test_ops_on_diff_frames.py\n",
            "spark-3.3.0-bin-hadoop3/python/pyspark/pandas/tests/test_rolling.py\n",
            "spark-3.3.0-bin-hadoop3/python/pyspark/pandas/tests/test_reshape.py\n",
            "spark-3.3.0-bin-hadoop3/python/pyspark/pandas/tests/test_sql.py\n",
            "spark-3.3.0-bin-hadoop3/python/pyspark/pandas/tests/test_spark_functions.py\n",
            "spark-3.3.0-bin-hadoop3/python/pyspark/pandas/sql_processor.py\n",
            "spark-3.3.0-bin-hadoop3/python/pyspark/pandas/numpy_compat.py\n",
            "spark-3.3.0-bin-hadoop3/python/pyspark/pandas/usage_logging/\n",
            "spark-3.3.0-bin-hadoop3/python/pyspark/pandas/usage_logging/__init__.py\n",
            "spark-3.3.0-bin-hadoop3/python/pyspark/pandas/usage_logging/usage_logger.py\n",
            "spark-3.3.0-bin-hadoop3/python/pyspark/pandas/spark/\n",
            "spark-3.3.0-bin-hadoop3/python/pyspark/pandas/spark/functions.py\n",
            "spark-3.3.0-bin-hadoop3/python/pyspark/pandas/spark/__init__.py\n",
            "spark-3.3.0-bin-hadoop3/python/pyspark/pandas/spark/accessors.py\n",
            "spark-3.3.0-bin-hadoop3/python/pyspark/pandas/spark/utils.py\n",
            "spark-3.3.0-bin-hadoop3/python/pyspark/pandas/base.py\n",
            "spark-3.3.0-bin-hadoop3/python/pyspark/pandas/sql_formatter.py\n",
            "spark-3.3.0-bin-hadoop3/python/pyspark/pandas/frame.py\n",
            "spark-3.3.0-bin-hadoop3/python/pyspark/pandas/window.py\n",
            "spark-3.3.0-bin-hadoop3/python/pyspark/pandas/indexes/\n",
            "spark-3.3.0-bin-hadoop3/python/pyspark/pandas/indexes/base.py\n",
            "spark-3.3.0-bin-hadoop3/python/pyspark/pandas/indexes/__init__.py\n",
            "spark-3.3.0-bin-hadoop3/python/pyspark/pandas/indexes/timedelta.py\n",
            "spark-3.3.0-bin-hadoop3/python/pyspark/pandas/indexes/numeric.py\n",
            "spark-3.3.0-bin-hadoop3/python/pyspark/pandas/indexes/datetimes.py\n",
            "spark-3.3.0-bin-hadoop3/python/pyspark/pandas/indexes/category.py\n",
            "spark-3.3.0-bin-hadoop3/python/pyspark/pandas/indexes/multi.py\n",
            "spark-3.3.0-bin-hadoop3/python/pyspark/pandas/namespace.py\n",
            "spark-3.3.0-bin-hadoop3/python/pyspark/pandas/mlflow.py\n",
            "spark-3.3.0-bin-hadoop3/python/pyspark/pandas/indexing.py\n",
            "spark-3.3.0-bin-hadoop3/python/pyspark/pandas/strings.py\n",
            "spark-3.3.0-bin-hadoop3/python/pyspark/pandas/__init__.py\n",
            "spark-3.3.0-bin-hadoop3/python/pyspark/pandas/extensions.py\n",
            "spark-3.3.0-bin-hadoop3/python/pyspark/pandas/accessors.py\n",
            "spark-3.3.0-bin-hadoop3/python/pyspark/pandas/config.py\n",
            "spark-3.3.0-bin-hadoop3/python/pyspark/pandas/groupby.py\n",
            "spark-3.3.0-bin-hadoop3/python/pyspark/pandas/internal.py\n",
            "spark-3.3.0-bin-hadoop3/python/pyspark/pandas/missing/\n",
            "spark-3.3.0-bin-hadoop3/python/pyspark/pandas/missing/frame.py\n",
            "spark-3.3.0-bin-hadoop3/python/pyspark/pandas/missing/window.py\n",
            "spark-3.3.0-bin-hadoop3/python/pyspark/pandas/missing/__init__.py\n",
            "spark-3.3.0-bin-hadoop3/python/pyspark/pandas/missing/groupby.py\n",
            "spark-3.3.0-bin-hadoop3/python/pyspark/pandas/missing/series.py\n",
            "spark-3.3.0-bin-hadoop3/python/pyspark/pandas/missing/indexes.py\n",
            "spark-3.3.0-bin-hadoop3/python/pyspark/pandas/missing/common.py\n",
            "spark-3.3.0-bin-hadoop3/python/pyspark/pandas/ml.py\n",
            "spark-3.3.0-bin-hadoop3/python/pyspark/pandas/series.py\n",
            "spark-3.3.0-bin-hadoop3/python/pyspark/pandas/_typing.py\n",
            "spark-3.3.0-bin-hadoop3/python/pyspark/pandas/datetimes.py\n",
            "spark-3.3.0-bin-hadoop3/python/pyspark/pandas/utils.py\n",
            "spark-3.3.0-bin-hadoop3/python/pyspark/pandas/data_type_ops/\n",
            "spark-3.3.0-bin-hadoop3/python/pyspark/pandas/data_type_ops/complex_ops.py\n",
            "spark-3.3.0-bin-hadoop3/python/pyspark/pandas/data_type_ops/binary_ops.py\n",
            "spark-3.3.0-bin-hadoop3/python/pyspark/pandas/data_type_ops/base.py\n",
            "spark-3.3.0-bin-hadoop3/python/pyspark/pandas/data_type_ops/categorical_ops.py\n",
            "spark-3.3.0-bin-hadoop3/python/pyspark/pandas/data_type_ops/string_ops.py\n",
            "spark-3.3.0-bin-hadoop3/python/pyspark/pandas/data_type_ops/timedelta_ops.py\n",
            "spark-3.3.0-bin-hadoop3/python/pyspark/pandas/data_type_ops/__init__.py\n",
            "spark-3.3.0-bin-hadoop3/python/pyspark/pandas/data_type_ops/date_ops.py\n",
            "spark-3.3.0-bin-hadoop3/python/pyspark/pandas/data_type_ops/udt_ops.py\n",
            "spark-3.3.0-bin-hadoop3/python/pyspark/pandas/data_type_ops/null_ops.py\n",
            "spark-3.3.0-bin-hadoop3/python/pyspark/pandas/data_type_ops/datetime_ops.py\n",
            "spark-3.3.0-bin-hadoop3/python/pyspark/pandas/data_type_ops/num_ops.py\n",
            "spark-3.3.0-bin-hadoop3/python/pyspark/pandas/data_type_ops/boolean_ops.py\n",
            "spark-3.3.0-bin-hadoop3/python/pyspark/pandas/plot/\n",
            "spark-3.3.0-bin-hadoop3/python/pyspark/pandas/plot/core.py\n",
            "spark-3.3.0-bin-hadoop3/python/pyspark/pandas/plot/__init__.py\n",
            "spark-3.3.0-bin-hadoop3/python/pyspark/pandas/plot/plotly.py\n",
            "spark-3.3.0-bin-hadoop3/python/pyspark/pandas/plot/matplotlib.py\n",
            "spark-3.3.0-bin-hadoop3/python/pyspark/pandas/typedef/\n",
            "spark-3.3.0-bin-hadoop3/python/pyspark/pandas/typedef/__init__.py\n",
            "spark-3.3.0-bin-hadoop3/python/pyspark/pandas/typedef/typehints.py\n",
            "spark-3.3.0-bin-hadoop3/python/pyspark/pandas/categorical.py\n",
            "spark-3.3.0-bin-hadoop3/python/pyspark/pandas/generic.py\n",
            "spark-3.3.0-bin-hadoop3/python/pyspark/pandas/exceptions.py\n",
            "spark-3.3.0-bin-hadoop3/python/pyspark/_typing.pyi\n",
            "spark-3.3.0-bin-hadoop3/python/pyspark/testing/\n",
            "spark-3.3.0-bin-hadoop3/python/pyspark/testing/mlutils.py\n",
            "spark-3.3.0-bin-hadoop3/python/pyspark/testing/__init__.py\n",
            "spark-3.3.0-bin-hadoop3/python/pyspark/testing/mllibutils.py\n",
            "spark-3.3.0-bin-hadoop3/python/pyspark/testing/pandasutils.py\n",
            "spark-3.3.0-bin-hadoop3/python/pyspark/testing/utils.py\n",
            "spark-3.3.0-bin-hadoop3/python/pyspark/testing/sqlutils.py\n",
            "spark-3.3.0-bin-hadoop3/python/pyspark/testing/streamingutils.py\n",
            "spark-3.3.0-bin-hadoop3/python/pyspark/accumulators.py\n",
            "spark-3.3.0-bin-hadoop3/python/pyspark/rddsampler.py\n",
            "spark-3.3.0-bin-hadoop3/python/pyspark/install.py\n",
            "spark-3.3.0-bin-hadoop3/python/pyspark/ml/\n",
            "spark-3.3.0-bin-hadoop3/python/pyspark/ml/tests/\n",
            "spark-3.3.0-bin-hadoop3/python/pyspark/ml/tests/test_algorithms.py\n",
            "spark-3.3.0-bin-hadoop3/python/pyspark/ml/tests/test_evaluation.py\n",
            "spark-3.3.0-bin-hadoop3/python/pyspark/ml/tests/test_util.py\n",
            "spark-3.3.0-bin-hadoop3/python/pyspark/ml/tests/test_feature.py\n",
            "spark-3.3.0-bin-hadoop3/python/pyspark/ml/tests/test_pipeline.py\n",
            "spark-3.3.0-bin-hadoop3/python/pyspark/ml/tests/test_wrapper.py\n",
            "spark-3.3.0-bin-hadoop3/python/pyspark/ml/tests/__init__.py\n",
            "spark-3.3.0-bin-hadoop3/python/pyspark/ml/tests/test_tuning.py\n",
            "spark-3.3.0-bin-hadoop3/python/pyspark/ml/tests/test_persistence.py\n",
            "spark-3.3.0-bin-hadoop3/python/pyspark/ml/tests/test_param.py\n",
            "spark-3.3.0-bin-hadoop3/python/pyspark/ml/tests/typing/\n",
            "spark-3.3.0-bin-hadoop3/python/pyspark/ml/tests/typing/test_clustering.yaml\n",
            "spark-3.3.0-bin-hadoop3/python/pyspark/ml/tests/typing/test_regression.yml\n",
            "spark-3.3.0-bin-hadoop3/python/pyspark/ml/tests/typing/test_param.yml\n",
            "spark-3.3.0-bin-hadoop3/python/pyspark/ml/tests/typing/test_evaluation.yml\n",
            "spark-3.3.0-bin-hadoop3/python/pyspark/ml/tests/typing/test_classification.yml\n",
            "spark-3.3.0-bin-hadoop3/python/pyspark/ml/tests/typing/test_readable.yml\n",
            "spark-3.3.0-bin-hadoop3/python/pyspark/ml/tests/typing/test_feature.yml\n",
            "spark-3.3.0-bin-hadoop3/python/pyspark/ml/tests/test_training_summary.py\n",
            "spark-3.3.0-bin-hadoop3/python/pyspark/ml/tests/test_linalg.py\n",
            "spark-3.3.0-bin-hadoop3/python/pyspark/ml/tests/test_image.py\n",
            "spark-3.3.0-bin-hadoop3/python/pyspark/ml/tests/test_stat.py\n",
            "spark-3.3.0-bin-hadoop3/python/pyspark/ml/tests/test_base.py\n",
            "spark-3.3.0-bin-hadoop3/python/pyspark/ml/_typing.pyi\n",
            "spark-3.3.0-bin-hadoop3/python/pyspark/ml/functions.py\n",
            "spark-3.3.0-bin-hadoop3/python/pyspark/ml/tuning.py\n",
            "spark-3.3.0-bin-hadoop3/python/pyspark/ml/pipeline.py\n",
            "spark-3.3.0-bin-hadoop3/python/pyspark/ml/base.py\n",
            "spark-3.3.0-bin-hadoop3/python/pyspark/ml/feature.py\n",
            "spark-3.3.0-bin-hadoop3/python/pyspark/ml/__init__.py\n",
            "spark-3.3.0-bin-hadoop3/python/pyspark/ml/stat.py\n",
            "spark-3.3.0-bin-hadoop3/python/pyspark/ml/image.py\n",
            "spark-3.3.0-bin-hadoop3/python/pyspark/ml/classification.py\n",
            "spark-3.3.0-bin-hadoop3/python/pyspark/ml/recommendation.py\n",
            "spark-3.3.0-bin-hadoop3/python/pyspark/ml/regression.py\n",
            "spark-3.3.0-bin-hadoop3/python/pyspark/ml/param/\n",
            "spark-3.3.0-bin-hadoop3/python/pyspark/ml/param/_shared_params_code_gen.py\n",
            "spark-3.3.0-bin-hadoop3/python/pyspark/ml/param/__init__.py\n",
            "spark-3.3.0-bin-hadoop3/python/pyspark/ml/param/shared.py\n",
            "spark-3.3.0-bin-hadoop3/python/pyspark/ml/tree.py\n",
            "spark-3.3.0-bin-hadoop3/python/pyspark/ml/fpm.py\n",
            "spark-3.3.0-bin-hadoop3/python/pyspark/ml/wrapper.py\n",
            "spark-3.3.0-bin-hadoop3/python/pyspark/ml/clustering.py\n",
            "spark-3.3.0-bin-hadoop3/python/pyspark/ml/common.py\n",
            "spark-3.3.0-bin-hadoop3/python/pyspark/ml/linalg/\n",
            "spark-3.3.0-bin-hadoop3/python/pyspark/ml/linalg/__init__.py\n",
            "spark-3.3.0-bin-hadoop3/python/pyspark/ml/evaluation.py\n",
            "spark-3.3.0-bin-hadoop3/python/pyspark/ml/util.py\n",
            "spark-3.3.0-bin-hadoop3/python/pyspark/find_spark_home.py\n",
            "spark-3.3.0-bin-hadoop3/python/pyspark/serializers.py\n",
            "spark-3.3.0-bin-hadoop3/python/pyspark/java_gateway.py\n",
            "spark-3.3.0-bin-hadoop3/python/pyspark/traceback_utils.py\n",
            "spark-3.3.0-bin-hadoop3/python/pyspark/resource/\n",
            "spark-3.3.0-bin-hadoop3/python/pyspark/resource/tests/\n",
            "spark-3.3.0-bin-hadoop3/python/pyspark/resource/tests/__init__.py\n",
            "spark-3.3.0-bin-hadoop3/python/pyspark/resource/tests/test_resources.py\n",
            "spark-3.3.0-bin-hadoop3/python/pyspark/resource/profile.py\n",
            "spark-3.3.0-bin-hadoop3/python/pyspark/resource/__init__.py\n",
            "spark-3.3.0-bin-hadoop3/python/pyspark/resource/information.py\n",
            "spark-3.3.0-bin-hadoop3/python/pyspark/resource/requests.py\n",
            "spark-3.3.0-bin-hadoop3/python/pyspark/conf.py\n",
            "spark-3.3.0-bin-hadoop3/python/pyspark/__init__.py\n",
            "spark-3.3.0-bin-hadoop3/python/pyspark/__pycache__/\n",
            "spark-3.3.0-bin-hadoop3/python/pyspark/__pycache__/install.cpython-38.pyc\n",
            "spark-3.3.0-bin-hadoop3/python/pyspark/mllib/\n",
            "spark-3.3.0-bin-hadoop3/python/pyspark/mllib/tests/\n",
            "spark-3.3.0-bin-hadoop3/python/pyspark/mllib/tests/test_algorithms.py\n",
            "spark-3.3.0-bin-hadoop3/python/pyspark/mllib/tests/test_streaming_algorithms.py\n",
            "spark-3.3.0-bin-hadoop3/python/pyspark/mllib/tests/test_util.py\n",
            "spark-3.3.0-bin-hadoop3/python/pyspark/mllib/tests/test_feature.py\n",
            "spark-3.3.0-bin-hadoop3/python/pyspark/mllib/tests/__init__.py\n",
            "spark-3.3.0-bin-hadoop3/python/pyspark/mllib/tests/test_linalg.py\n",
            "spark-3.3.0-bin-hadoop3/python/pyspark/mllib/tests/test_stat.py\n",
            "spark-3.3.0-bin-hadoop3/python/pyspark/mllib/_typing.pyi\n",
            "spark-3.3.0-bin-hadoop3/python/pyspark/mllib/recommendation.pyi\n",
            "spark-3.3.0-bin-hadoop3/python/pyspark/mllib/feature.py\n",
            "spark-3.3.0-bin-hadoop3/python/pyspark/mllib/__init__.py\n",
            "spark-3.3.0-bin-hadoop3/python/pyspark/mllib/classification.py\n",
            "spark-3.3.0-bin-hadoop3/python/pyspark/mllib/random.pyi\n",
            "spark-3.3.0-bin-hadoop3/python/pyspark/mllib/recommendation.py\n",
            "spark-3.3.0-bin-hadoop3/python/pyspark/mllib/regression.py\n",
            "spark-3.3.0-bin-hadoop3/python/pyspark/mllib/tree.py\n",
            "spark-3.3.0-bin-hadoop3/python/pyspark/mllib/fpm.py\n",
            "spark-3.3.0-bin-hadoop3/python/pyspark/mllib/random.py\n",
            "spark-3.3.0-bin-hadoop3/python/pyspark/mllib/stat/\n",
            "spark-3.3.0-bin-hadoop3/python/pyspark/mllib/stat/distribution.py\n",
            "spark-3.3.0-bin-hadoop3/python/pyspark/mllib/stat/__init__.py\n",
            "spark-3.3.0-bin-hadoop3/python/pyspark/mllib/stat/KernelDensity.py\n",
            "spark-3.3.0-bin-hadoop3/python/pyspark/mllib/stat/test.py\n",
            "spark-3.3.0-bin-hadoop3/python/pyspark/mllib/stat/_statistics.py\n",
            "spark-3.3.0-bin-hadoop3/python/pyspark/mllib/clustering.py\n",
            "spark-3.3.0-bin-hadoop3/python/pyspark/mllib/common.py\n",
            "spark-3.3.0-bin-hadoop3/python/pyspark/mllib/linalg/\n",
            "spark-3.3.0-bin-hadoop3/python/pyspark/mllib/linalg/__init__.py\n",
            "spark-3.3.0-bin-hadoop3/python/pyspark/mllib/linalg/distributed.py\n",
            "spark-3.3.0-bin-hadoop3/python/pyspark/mllib/evaluation.py\n",
            "spark-3.3.0-bin-hadoop3/python/pyspark/mllib/util.py\n",
            "spark-3.3.0-bin-hadoop3/python/pyspark/resultiterable.py\n",
            "spark-3.3.0-bin-hadoop3/python/pyspark/profiler.py\n",
            "spark-3.3.0-bin-hadoop3/python/pyspark/statcounter.py\n",
            "spark-3.3.0-bin-hadoop3/python/pyspark/join.py\n",
            "spark-3.3.0-bin-hadoop3/python/pyspark/daemon.py\n",
            "spark-3.3.0-bin-hadoop3/python/pyspark/rdd.py\n",
            "spark-3.3.0-bin-hadoop3/python/pyspark/context.py\n",
            "spark-3.3.0-bin-hadoop3/python/pyspark/instrumentation_utils.py\n",
            "spark-3.3.0-bin-hadoop3/python/pyspark/cloudpickle/\n",
            "spark-3.3.0-bin-hadoop3/python/pyspark/cloudpickle/cloudpickle_fast.py\n",
            "spark-3.3.0-bin-hadoop3/python/pyspark/cloudpickle/__init__.py\n",
            "spark-3.3.0-bin-hadoop3/python/pyspark/cloudpickle/compat.py\n",
            "spark-3.3.0-bin-hadoop3/python/pyspark/cloudpickle/cloudpickle.py\n",
            "spark-3.3.0-bin-hadoop3/python/pyspark/version.py\n",
            "spark-3.3.0-bin-hadoop3/python/pyspark/py.typed\n",
            "spark-3.3.0-bin-hadoop3/python/pyspark/files.py\n",
            "spark-3.3.0-bin-hadoop3/python/pyspark/worker.py\n",
            "spark-3.3.0-bin-hadoop3/python/pyspark/shell.py\n",
            "spark-3.3.0-bin-hadoop3/python/pyspark/streaming/\n",
            "spark-3.3.0-bin-hadoop3/python/pyspark/streaming/tests/\n",
            "spark-3.3.0-bin-hadoop3/python/pyspark/streaming/tests/test_listener.py\n",
            "spark-3.3.0-bin-hadoop3/python/pyspark/streaming/tests/test_kinesis.py\n",
            "spark-3.3.0-bin-hadoop3/python/pyspark/streaming/tests/__init__.py\n",
            "spark-3.3.0-bin-hadoop3/python/pyspark/streaming/tests/test_dstream.py\n",
            "spark-3.3.0-bin-hadoop3/python/pyspark/streaming/tests/test_context.py\n",
            "spark-3.3.0-bin-hadoop3/python/pyspark/streaming/dstream.py\n",
            "spark-3.3.0-bin-hadoop3/python/pyspark/streaming/__init__.py\n",
            "spark-3.3.0-bin-hadoop3/python/pyspark/streaming/kinesis.py\n",
            "spark-3.3.0-bin-hadoop3/python/pyspark/streaming/listener.py\n",
            "spark-3.3.0-bin-hadoop3/python/pyspark/streaming/context.py\n",
            "spark-3.3.0-bin-hadoop3/python/pyspark/streaming/util.py\n",
            "spark-3.3.0-bin-hadoop3/python/pyspark/status.py\n",
            "spark-3.3.0-bin-hadoop3/python/pyspark/sql/\n",
            "spark-3.3.0-bin-hadoop3/python/pyspark/sql/tests/\n",
            "spark-3.3.0-bin-hadoop3/python/pyspark/sql/tests/test_functions.py\n",
            "spark-3.3.0-bin-hadoop3/python/pyspark/sql/tests/test_readwriter.py\n",
            "spark-3.3.0-bin-hadoop3/python/pyspark/sql/tests/test_utils.py\n",
            "spark-3.3.0-bin-hadoop3/python/pyspark/sql/tests/test_pandas_grouped_map.py\n",
            "spark-3.3.0-bin-hadoop3/python/pyspark/sql/tests/test_dataframe.py\n",
            "spark-3.3.0-bin-hadoop3/python/pyspark/sql/tests/test_pandas_map.py\n",
            "spark-3.3.0-bin-hadoop3/python/pyspark/sql/tests/test_udf.py\n",
            "spark-3.3.0-bin-hadoop3/python/pyspark/sql/tests/test_streaming.py\n",
            "spark-3.3.0-bin-hadoop3/python/pyspark/sql/tests/__init__.py\n",
            "spark-3.3.0-bin-hadoop3/python/pyspark/sql/tests/test_serde.py\n",
            "spark-3.3.0-bin-hadoop3/python/pyspark/sql/tests/test_pandas_udf_window.py\n",
            "spark-3.3.0-bin-hadoop3/python/pyspark/sql/tests/test_group.py\n",
            "spark-3.3.0-bin-hadoop3/python/pyspark/sql/tests/test_pandas_udf.py\n",
            "spark-3.3.0-bin-hadoop3/python/pyspark/sql/tests/test_pandas_cogrouped_map.py\n",
            "spark-3.3.0-bin-hadoop3/python/pyspark/sql/tests/test_pandas_udf_grouped_agg.py\n",
            "spark-3.3.0-bin-hadoop3/python/pyspark/sql/tests/test_pandas_udf_scalar.py\n",
            "spark-3.3.0-bin-hadoop3/python/pyspark/sql/tests/typing/\n",
            "spark-3.3.0-bin-hadoop3/python/pyspark/sql/tests/typing/test_column.yml\n",
            "spark-3.3.0-bin-hadoop3/python/pyspark/sql/tests/typing/test_session.yml\n",
            "spark-3.3.0-bin-hadoop3/python/pyspark/sql/tests/typing/test_dataframe.yml\n",
            "spark-3.3.0-bin-hadoop3/python/pyspark/sql/tests/typing/test_functions.yml\n",
            "spark-3.3.0-bin-hadoop3/python/pyspark/sql/tests/typing/test_readwriter.yml\n",
            "spark-3.3.0-bin-hadoop3/python/pyspark/sql/tests/typing/test_udf.yml\n",
            "spark-3.3.0-bin-hadoop3/python/pyspark/sql/tests/test_udf_profiler.py\n",
            "spark-3.3.0-bin-hadoop3/python/pyspark/sql/tests/test_pandas_udf_typehints_with_future_annotations.py\n",
            "spark-3.3.0-bin-hadoop3/python/pyspark/sql/tests/test_catalog.py\n",
            "spark-3.3.0-bin-hadoop3/python/pyspark/sql/tests/test_datasources.py\n",
            "spark-3.3.0-bin-hadoop3/python/pyspark/sql/tests/test_pandas_udf_typehints.py\n",
            "spark-3.3.0-bin-hadoop3/python/pyspark/sql/tests/test_arrow_map.py\n",
            "spark-3.3.0-bin-hadoop3/python/pyspark/sql/tests/test_types.py\n",
            "spark-3.3.0-bin-hadoop3/python/pyspark/sql/tests/test_column.py\n",
            "spark-3.3.0-bin-hadoop3/python/pyspark/sql/tests/test_context.py\n",
            "spark-3.3.0-bin-hadoop3/python/pyspark/sql/tests/test_conf.py\n",
            "spark-3.3.0-bin-hadoop3/python/pyspark/sql/tests/test_arrow.py\n",
            "spark-3.3.0-bin-hadoop3/python/pyspark/sql/tests/test_session.py\n",
            "spark-3.3.0-bin-hadoop3/python/pyspark/sql/pandas/\n",
            "spark-3.3.0-bin-hadoop3/python/pyspark/sql/pandas/functions.py\n",
            "spark-3.3.0-bin-hadoop3/python/pyspark/sql/pandas/serializers.py\n",
            "spark-3.3.0-bin-hadoop3/python/pyspark/sql/pandas/__init__.py\n",
            "spark-3.3.0-bin-hadoop3/python/pyspark/sql/pandas/typehints.py\n",
            "spark-3.3.0-bin-hadoop3/python/pyspark/sql/pandas/map_ops.py\n",
            "spark-3.3.0-bin-hadoop3/python/pyspark/sql/pandas/types.py\n",
            "spark-3.3.0-bin-hadoop3/python/pyspark/sql/pandas/group_ops.py\n",
            "spark-3.3.0-bin-hadoop3/python/pyspark/sql/pandas/functions.pyi\n",
            "spark-3.3.0-bin-hadoop3/python/pyspark/sql/pandas/utils.py\n",
            "spark-3.3.0-bin-hadoop3/python/pyspark/sql/pandas/conversion.py\n",
            "spark-3.3.0-bin-hadoop3/python/pyspark/sql/pandas/_typing/\n",
            "spark-3.3.0-bin-hadoop3/python/pyspark/sql/pandas/_typing/__init__.pyi\n",
            "spark-3.3.0-bin-hadoop3/python/pyspark/sql/pandas/_typing/protocols/\n",
            "spark-3.3.0-bin-hadoop3/python/pyspark/sql/pandas/_typing/protocols/__init__.pyi\n",
            "spark-3.3.0-bin-hadoop3/python/pyspark/sql/pandas/_typing/protocols/series.pyi\n",
            "spark-3.3.0-bin-hadoop3/python/pyspark/sql/pandas/_typing/protocols/frame.pyi\n",
            "spark-3.3.0-bin-hadoop3/python/pyspark/sql/_typing.pyi\n",
            "spark-3.3.0-bin-hadoop3/python/pyspark/sql/functions.py\n",
            "spark-3.3.0-bin-hadoop3/python/pyspark/sql/readwriter.py\n",
            "spark-3.3.0-bin-hadoop3/python/pyspark/sql/catalog.py\n",
            "spark-3.3.0-bin-hadoop3/python/pyspark/sql/sql_formatter.py\n",
            "spark-3.3.0-bin-hadoop3/python/pyspark/sql/window.py\n",
            "spark-3.3.0-bin-hadoop3/python/pyspark/sql/udf.py\n",
            "spark-3.3.0-bin-hadoop3/python/pyspark/sql/conf.py\n",
            "spark-3.3.0-bin-hadoop3/python/pyspark/sql/__init__.py\n",
            "spark-3.3.0-bin-hadoop3/python/pyspark/sql/session.py\n",
            "spark-3.3.0-bin-hadoop3/python/pyspark/sql/column.py\n",
            "spark-3.3.0-bin-hadoop3/python/pyspark/sql/group.py\n",
            "spark-3.3.0-bin-hadoop3/python/pyspark/sql/context.py\n",
            "spark-3.3.0-bin-hadoop3/python/pyspark/sql/types.py\n",
            "spark-3.3.0-bin-hadoop3/python/pyspark/sql/observation.py\n",
            "spark-3.3.0-bin-hadoop3/python/pyspark/sql/dataframe.py\n",
            "spark-3.3.0-bin-hadoop3/python/pyspark/sql/avro/\n",
            "spark-3.3.0-bin-hadoop3/python/pyspark/sql/avro/functions.py\n",
            "spark-3.3.0-bin-hadoop3/python/pyspark/sql/avro/__init__.py\n",
            "spark-3.3.0-bin-hadoop3/python/pyspark/sql/utils.py\n",
            "spark-3.3.0-bin-hadoop3/python/pyspark/sql/streaming.py\n",
            "spark-3.3.0-bin-hadoop3/python/pyspark/python/\n",
            "spark-3.3.0-bin-hadoop3/python/pyspark/python/pyspark/\n",
            "spark-3.3.0-bin-hadoop3/python/pyspark/python/pyspark/shell.py\n",
            "spark-3.3.0-bin-hadoop3/python/pyspark/shuffle.py\n",
            "spark-3.3.0-bin-hadoop3/python/pyspark/taskcontext.py\n",
            "spark-3.3.0-bin-hadoop3/python/pyspark/_globals.py\n",
            "spark-3.3.0-bin-hadoop3/python/pyspark/broadcast.py\n",
            "spark-3.3.0-bin-hadoop3/python/pyspark/util.py\n",
            "spark-3.3.0-bin-hadoop3/python/pyspark/storagelevel.py\n",
            "spark-3.3.0-bin-hadoop3/python/.coveragerc\n",
            "spark-3.3.0-bin-hadoop3/python/docs/\n",
            "spark-3.3.0-bin-hadoop3/python/docs/make2.bat\n",
            "spark-3.3.0-bin-hadoop3/python/docs/source/\n",
            "spark-3.3.0-bin-hadoop3/python/docs/source/reference/\n",
            "spark-3.3.0-bin-hadoop3/python/docs/source/reference/pyspark.sql/\n",
            "spark-3.3.0-bin-hadoop3/python/docs/source/reference/pyspark.sql/configuration.rst\n",
            "spark-3.3.0-bin-hadoop3/python/docs/source/reference/pyspark.sql/window.rst\n",
            "spark-3.3.0-bin-hadoop3/python/docs/source/reference/pyspark.sql/spark_session.rst\n",
            "spark-3.3.0-bin-hadoop3/python/docs/source/reference/pyspark.sql/index.rst\n",
            "spark-3.3.0-bin-hadoop3/python/docs/source/reference/pyspark.sql/grouping.rst\n",
            "spark-3.3.0-bin-hadoop3/python/docs/source/reference/pyspark.sql/catalog.rst\n",
            "spark-3.3.0-bin-hadoop3/python/docs/source/reference/pyspark.sql/column.rst\n",
            "spark-3.3.0-bin-hadoop3/python/docs/source/reference/pyspark.sql/io.rst\n",
            "spark-3.3.0-bin-hadoop3/python/docs/source/reference/pyspark.sql/observation.rst\n",
            "spark-3.3.0-bin-hadoop3/python/docs/source/reference/pyspark.sql/core_classes.rst\n",
            "spark-3.3.0-bin-hadoop3/python/docs/source/reference/pyspark.sql/row.rst\n",
            "spark-3.3.0-bin-hadoop3/python/docs/source/reference/pyspark.sql/avro.rst\n",
            "spark-3.3.0-bin-hadoop3/python/docs/source/reference/pyspark.sql/functions.rst\n",
            "spark-3.3.0-bin-hadoop3/python/docs/source/reference/pyspark.sql/dataframe.rst\n",
            "spark-3.3.0-bin-hadoop3/python/docs/source/reference/pyspark.sql/data_types.rst\n",
            "spark-3.3.0-bin-hadoop3/python/docs/source/reference/index.rst\n",
            "spark-3.3.0-bin-hadoop3/python/docs/source/reference/pyspark.ml.rst\n",
            "spark-3.3.0-bin-hadoop3/python/docs/source/reference/pyspark.rst\n",
            "spark-3.3.0-bin-hadoop3/python/docs/source/reference/pyspark.ss/\n",
            "spark-3.3.0-bin-hadoop3/python/docs/source/reference/pyspark.ss/index.rst\n",
            "spark-3.3.0-bin-hadoop3/python/docs/source/reference/pyspark.ss/query_management.rst\n",
            "spark-3.3.0-bin-hadoop3/python/docs/source/reference/pyspark.ss/io.rst\n",
            "spark-3.3.0-bin-hadoop3/python/docs/source/reference/pyspark.ss/core_classes.rst\n",
            "spark-3.3.0-bin-hadoop3/python/docs/source/reference/pyspark.pandas/\n",
            "spark-3.3.0-bin-hadoop3/python/docs/source/reference/pyspark.pandas/window.rst\n",
            "spark-3.3.0-bin-hadoop3/python/docs/source/reference/pyspark.pandas/index.rst\n",
            "spark-3.3.0-bin-hadoop3/python/docs/source/reference/pyspark.pandas/extensions.rst\n",
            "spark-3.3.0-bin-hadoop3/python/docs/source/reference/pyspark.pandas/ml.rst\n",
            "spark-3.3.0-bin-hadoop3/python/docs/source/reference/pyspark.pandas/frame.rst\n",
            "spark-3.3.0-bin-hadoop3/python/docs/source/reference/pyspark.pandas/io.rst\n",
            "spark-3.3.0-bin-hadoop3/python/docs/source/reference/pyspark.pandas/series.rst\n",
            "spark-3.3.0-bin-hadoop3/python/docs/source/reference/pyspark.pandas/indexing.rst\n",
            "spark-3.3.0-bin-hadoop3/python/docs/source/reference/pyspark.pandas/general_functions.rst\n",
            "spark-3.3.0-bin-hadoop3/python/docs/source/reference/pyspark.pandas/groupby.rst\n",
            "spark-3.3.0-bin-hadoop3/python/docs/source/reference/pyspark.mllib.rst\n",
            "spark-3.3.0-bin-hadoop3/python/docs/source/reference/pyspark.streaming.rst\n",
            "spark-3.3.0-bin-hadoop3/python/docs/source/reference/pyspark.resource.rst\n",
            "spark-3.3.0-bin-hadoop3/python/docs/source/index.rst\n",
            "spark-3.3.0-bin-hadoop3/python/docs/source/getting_started/\n",
            "spark-3.3.0-bin-hadoop3/python/docs/source/getting_started/index.rst\n",
            "spark-3.3.0-bin-hadoop3/python/docs/source/getting_started/quickstart_ps.ipynb\n",
            "spark-3.3.0-bin-hadoop3/python/docs/source/getting_started/quickstart_df.ipynb\n",
            "spark-3.3.0-bin-hadoop3/python/docs/source/getting_started/install.rst\n",
            "spark-3.3.0-bin-hadoop3/python/docs/source/conf.py\n",
            "spark-3.3.0-bin-hadoop3/python/docs/source/_templates/\n",
            "spark-3.3.0-bin-hadoop3/python/docs/source/_templates/autosummary/\n",
            "spark-3.3.0-bin-hadoop3/python/docs/source/_templates/autosummary/class.rst\n",
            "spark-3.3.0-bin-hadoop3/python/docs/source/_templates/autosummary/class_with_docs.rst\n",
            "spark-3.3.0-bin-hadoop3/python/docs/source/_static/\n",
            "spark-3.3.0-bin-hadoop3/python/docs/source/_static/copybutton.js\n",
            "spark-3.3.0-bin-hadoop3/python/docs/source/_static/css/\n",
            "spark-3.3.0-bin-hadoop3/python/docs/source/_static/css/pyspark.css\n",
            "spark-3.3.0-bin-hadoop3/python/docs/source/development/\n",
            "spark-3.3.0-bin-hadoop3/python/docs/source/development/setting_ide.rst\n",
            "spark-3.3.0-bin-hadoop3/python/docs/source/development/index.rst\n",
            "spark-3.3.0-bin-hadoop3/python/docs/source/development/debugging.rst\n",
            "spark-3.3.0-bin-hadoop3/python/docs/source/development/testing.rst\n",
            "spark-3.3.0-bin-hadoop3/python/docs/source/development/contributing.rst\n",
            "spark-3.3.0-bin-hadoop3/python/docs/source/user_guide/\n",
            "spark-3.3.0-bin-hadoop3/python/docs/source/user_guide/arrow_pandas.rst\n",
            "spark-3.3.0-bin-hadoop3/python/docs/source/user_guide/index.rst\n",
            "spark-3.3.0-bin-hadoop3/python/docs/source/user_guide/pandas_on_spark/\n",
            "spark-3.3.0-bin-hadoop3/python/docs/source/user_guide/pandas_on_spark/types.rst\n",
            "spark-3.3.0-bin-hadoop3/python/docs/source/user_guide/pandas_on_spark/best_practices.rst\n",
            "spark-3.3.0-bin-hadoop3/python/docs/source/user_guide/pandas_on_spark/options.rst\n",
            "spark-3.3.0-bin-hadoop3/python/docs/source/user_guide/pandas_on_spark/pandas_pyspark.rst\n",
            "spark-3.3.0-bin-hadoop3/python/docs/source/user_guide/pandas_on_spark/index.rst\n",
            "spark-3.3.0-bin-hadoop3/python/docs/source/user_guide/pandas_on_spark/typehints.rst\n",
            "spark-3.3.0-bin-hadoop3/python/docs/source/user_guide/pandas_on_spark/transform_apply.rst\n",
            "spark-3.3.0-bin-hadoop3/python/docs/source/user_guide/pandas_on_spark/supported_pandas_api.rst\n",
            "spark-3.3.0-bin-hadoop3/python/docs/source/user_guide/pandas_on_spark/from_to_dbms.rst\n",
            "spark-3.3.0-bin-hadoop3/python/docs/source/user_guide/pandas_on_spark/faq.rst\n",
            "spark-3.3.0-bin-hadoop3/python/docs/source/user_guide/python_packaging.rst\n",
            "spark-3.3.0-bin-hadoop3/python/docs/source/user_guide/sql/\n",
            "spark-3.3.0-bin-hadoop3/python/docs/source/user_guide/sql/arrow_pandas.rst\n",
            "spark-3.3.0-bin-hadoop3/python/docs/source/user_guide/sql/index.rst\n",
            "spark-3.3.0-bin-hadoop3/python/docs/source/migration_guide/\n",
            "spark-3.3.0-bin-hadoop3/python/docs/source/migration_guide/pyspark_2.3.0_to_2.3.1_above.rst\n",
            "spark-3.3.0-bin-hadoop3/python/docs/source/migration_guide/index.rst\n",
            "spark-3.3.0-bin-hadoop3/python/docs/source/migration_guide/pyspark_2.4_to_3.0.rst\n",
            "spark-3.3.0-bin-hadoop3/python/docs/source/migration_guide/pyspark_1.0_1.2_to_1.3.rst\n",
            "spark-3.3.0-bin-hadoop3/python/docs/source/migration_guide/pyspark_3.2_to_3.3.rst\n",
            "spark-3.3.0-bin-hadoop3/python/docs/source/migration_guide/pyspark_2.3_to_2.4.rst\n",
            "spark-3.3.0-bin-hadoop3/python/docs/source/migration_guide/koalas_to_pyspark.rst\n",
            "spark-3.3.0-bin-hadoop3/python/docs/source/migration_guide/pyspark_1.4_to_1.5.rst\n",
            "spark-3.3.0-bin-hadoop3/python/docs/source/migration_guide/pyspark_2.2_to_2.3.rst\n",
            "spark-3.3.0-bin-hadoop3/python/docs/source/migration_guide/pyspark_3.1_to_3.2.rst\n",
            "spark-3.3.0-bin-hadoop3/python/docs/make.bat\n",
            "spark-3.3.0-bin-hadoop3/python/docs/Makefile\n",
            "spark-3.3.0-bin-hadoop3/python/lib/\n",
            "spark-3.3.0-bin-hadoop3/python/lib/PY4J_LICENSE.txt\n",
            "spark-3.3.0-bin-hadoop3/python/lib/py4j-0.10.9.5-src.zip\n",
            "spark-3.3.0-bin-hadoop3/python/lib/pyspark.zip\n",
            "spark-3.3.0-bin-hadoop3/python/run-tests\n",
            "spark-3.3.0-bin-hadoop3/python/setup.cfg\n",
            "spark-3.3.0-bin-hadoop3/python/dist/\n",
            "spark-3.3.0-bin-hadoop3/python/pyspark.egg-info/\n",
            "spark-3.3.0-bin-hadoop3/python/pyspark.egg-info/dependency_links.txt\n",
            "spark-3.3.0-bin-hadoop3/python/pyspark.egg-info/PKG-INFO\n",
            "spark-3.3.0-bin-hadoop3/python/pyspark.egg-info/top_level.txt\n",
            "spark-3.3.0-bin-hadoop3/python/pyspark.egg-info/requires.txt\n",
            "spark-3.3.0-bin-hadoop3/python/pyspark.egg-info/SOURCES.txt\n",
            "spark-3.3.0-bin-hadoop3/licenses/\n",
            "spark-3.3.0-bin-hadoop3/licenses/LICENSE-respond.txt\n",
            "spark-3.3.0-bin-hadoop3/licenses/LICENSE-sbt-launch-lib.txt\n",
            "spark-3.3.0-bin-hadoop3/licenses/LICENSE-antlr.txt\n",
            "spark-3.3.0-bin-hadoop3/licenses/LICENSE-dagre-d3.txt\n",
            "spark-3.3.0-bin-hadoop3/licenses/LICENSE-pyrolite.txt\n",
            "spark-3.3.0-bin-hadoop3/licenses/LICENSE-sorttable.js.txt\n",
            "spark-3.3.0-bin-hadoop3/licenses/LICENSE-janino.txt\n",
            "spark-3.3.0-bin-hadoop3/licenses/LICENSE-protobuf.txt\n",
            "spark-3.3.0-bin-hadoop3/licenses/LICENSE-jquery.txt\n",
            "spark-3.3.0-bin-hadoop3/licenses/LICENSE-scopt.txt\n",
            "spark-3.3.0-bin-hadoop3/licenses/LICENSE-netlib.txt\n",
            "spark-3.3.0-bin-hadoop3/licenses/LICENSE-d3.min.js.txt\n",
            "spark-3.3.0-bin-hadoop3/licenses/LICENSE-graphlib-dot.txt\n",
            "spark-3.3.0-bin-hadoop3/licenses/LICENSE-AnchorJS.txt\n",
            "spark-3.3.0-bin-hadoop3/licenses/LICENSE-datatables.txt\n",
            "spark-3.3.0-bin-hadoop3/licenses/LICENSE-pmml-model.txt\n",
            "spark-3.3.0-bin-hadoop3/licenses/LICENSE-paranamer.txt\n",
            "spark-3.3.0-bin-hadoop3/licenses/LICENSE-jakarta-ws-rs-api\n",
            "spark-3.3.0-bin-hadoop3/licenses/LICENSE-dnsjava.txt\n",
            "spark-3.3.0-bin-hadoop3/licenses/LICENSE-jakarta.xml.bind-api.txt\n",
            "spark-3.3.0-bin-hadoop3/licenses/LICENSE-jakarta-annotation-api\n",
            "spark-3.3.0-bin-hadoop3/licenses/LICENSE-CC0.txt\n",
            "spark-3.3.0-bin-hadoop3/licenses/LICENSE-jodd.txt\n",
            "spark-3.3.0-bin-hadoop3/licenses/LICENSE-f2j.txt\n",
            "spark-3.3.0-bin-hadoop3/licenses/LICENSE-machinist.txt\n",
            "spark-3.3.0-bin-hadoop3/licenses/LICENSE-javolution.txt\n",
            "spark-3.3.0-bin-hadoop3/licenses/LICENSE-modernizr.txt\n",
            "spark-3.3.0-bin-hadoop3/licenses/LICENSE-spire.txt\n",
            "spark-3.3.0-bin-hadoop3/licenses/LICENSE-leveldbjni.txt\n",
            "spark-3.3.0-bin-hadoop3/licenses/LICENSE-join.txt\n",
            "spark-3.3.0-bin-hadoop3/licenses/LICENSE-zstd-jni.txt\n",
            "spark-3.3.0-bin-hadoop3/licenses/LICENSE-slf4j.txt\n",
            "spark-3.3.0-bin-hadoop3/licenses/LICENSE-arpack.txt\n",
            "spark-3.3.0-bin-hadoop3/licenses/LICENSE-jsp-api.txt\n",
            "spark-3.3.0-bin-hadoop3/licenses/LICENSE-JTransforms.txt\n",
            "spark-3.3.0-bin-hadoop3/licenses/LICENSE-JLargeArrays.txt\n",
            "spark-3.3.0-bin-hadoop3/licenses/LICENSE-bootstrap.txt\n",
            "spark-3.3.0-bin-hadoop3/licenses/LICENSE-reflectasm.txt\n",
            "spark-3.3.0-bin-hadoop3/licenses/LICENSE-javassist.html\n",
            "spark-3.3.0-bin-hadoop3/licenses/LICENSE-zstd.txt\n",
            "spark-3.3.0-bin-hadoop3/licenses/LICENSE-json-formatter.txt\n",
            "spark-3.3.0-bin-hadoop3/licenses/LICENSE-matchMedia-polyfill.txt\n",
            "spark-3.3.0-bin-hadoop3/licenses/LICENSE-scala.txt\n",
            "spark-3.3.0-bin-hadoop3/licenses/LICENSE-jakarta.activation-api.txt\n",
            "spark-3.3.0-bin-hadoop3/licenses/LICENSE-automaton.txt\n",
            "spark-3.3.0-bin-hadoop3/licenses/LICENSE-javax-transaction-transaction-api.txt\n",
            "spark-3.3.0-bin-hadoop3/licenses/LICENSE-jaxb-runtime.txt\n",
            "spark-3.3.0-bin-hadoop3/licenses/LICENSE-minlog.txt\n",
            "spark-3.3.0-bin-hadoop3/licenses/LICENSE-mustache.txt\n",
            "spark-3.3.0-bin-hadoop3/licenses/LICENSE-xmlenc.txt\n",
            "spark-3.3.0-bin-hadoop3/licenses/LICENSE-jline.txt\n",
            "spark-3.3.0-bin-hadoop3/licenses/LICENSE-istack-commons-runtime.txt\n",
            "spark-3.3.0-bin-hadoop3/licenses/LICENSE-py4j.txt\n",
            "spark-3.3.0-bin-hadoop3/licenses/LICENSE-vis-timeline.txt\n",
            "spark-3.3.0-bin-hadoop3/licenses/LICENSE-blas.txt\n",
            "spark-3.3.0-bin-hadoop3/licenses/LICENSE-re2j.txt\n",
            "spark-3.3.0-bin-hadoop3/licenses/LICENSE-kryo.txt\n",
            "spark-3.3.0-bin-hadoop3/licenses/LICENSE-cloudpickle.txt\n"
          ]
        }
      ]
    },
    {
      "cell_type": "code",
      "source": [
        "!pip install -q findspark"
      ],
      "metadata": {
        "id": "s7AkoGLYj6-O"
      },
      "execution_count": null,
      "outputs": []
    },
    {
      "cell_type": "code",
      "source": [
        "import os\n",
        "os.environ[\"JAVA_HOME\"] = \"/usr/lib/jvm/java-8-openjdk-amd64\"\n",
        "os.environ[\"SPARK_HOME\"] = \"/content/spark-3.3.0-bin-hadoop3/\""
      ],
      "metadata": {
        "id": "EnLKg2D0j9z-"
      },
      "execution_count": null,
      "outputs": []
    },
    {
      "cell_type": "code",
      "source": [
        "!pip install -q findspark\n",
        "import findspark\n",
        "findspark.init(); findspark.find()\n"
      ],
      "metadata": {
        "colab": {
          "base_uri": "https://localhost:8080/",
          "height": 36
        },
        "id": "rTBZRd0kkAXJ",
        "outputId": "9407635d-1b20-489e-e4a9-ff048f7ca991"
      },
      "execution_count": null,
      "outputs": [
        {
          "output_type": "execute_result",
          "data": {
            "text/plain": [
              "'/content/spark-3.3.0-bin-hadoop3/'"
            ],
            "application/vnd.google.colaboratory.intrinsic+json": {
              "type": "string"
            }
          },
          "metadata": {},
          "execution_count": 7
        }
      ]
    },
    {
      "cell_type": "markdown",
      "source": [
        "**SparkContext** is the internal engine that allows the connections with the clusters. If you want to run an operation, you need a SparkContext."
      ],
      "metadata": {
        "id": "H0IEkWMvns3E"
      }
    },
    {
      "cell_type": "code",
      "source": [
        "import pyspark\n",
        "from pyspark import SparkContext\n",
        "sc =SparkContext()"
      ],
      "metadata": {
        "id": "AxfzssVengh9"
      },
      "execution_count": null,
      "outputs": []
    },
    {
      "cell_type": "markdown",
      "source": [
        "SQLContext allows connecting the engine with different data sources. It is used to initiate the functionalities of Spark SQL.  Spark SQL lets you query structured data inside Spark programs."
      ],
      "metadata": {
        "id": "P1N0S1cKoTDE"
      }
    },
    {
      "cell_type": "code",
      "source": [
        "from pyspark.sql import SQLContext\n"
      ],
      "metadata": {
        "id": "UxxX9DqGkHlW"
      },
      "execution_count": null,
      "outputs": []
    },
    {
      "cell_type": "code",
      "source": [
        "url = \"https://raw.githubusercontent.com/guru99-edu/R-Programming/master/adult_data.csv\"\n",
        "from pyspark import SparkFiles\n",
        "sc.addFile(url)\n",
        "sqlContext = SQLContext(sc)"
      ],
      "metadata": {
        "colab": {
          "base_uri": "https://localhost:8080/"
        },
        "id": "XbIrWUGWwYbG",
        "outputId": "a1b9af95-176b-4289-9dd0-c2d999386c70"
      },
      "execution_count": null,
      "outputs": [
        {
          "output_type": "stream",
          "name": "stderr",
          "text": [
            "/content/spark-3.3.0-bin-hadoop3/python/pyspark/sql/context.py:114: FutureWarning: Deprecated in 3.0.0. Use SparkSession.builder.getOrCreate() instead.\n",
            "  FutureWarning,\n"
          ]
        }
      ]
    },
    {
      "cell_type": "markdown",
      "source": [
        "# **Using Spark to create a tuple**"
      ],
      "metadata": {
        "id": "aH7jgIMFooYz"
      }
    },
    {
      "cell_type": "code",
      "source": [
        "from pyspark.sql import Row\n",
        "from pyspark.sql import SQLContext\n",
        "\n",
        "sqlContext = SQLContext(sc)"
      ],
      "metadata": {
        "id": "ToqDmUqRsFFs"
      },
      "execution_count": null,
      "outputs": []
    },
    {
      "cell_type": "markdown",
      "source": [
        "Each tuple will contain the name of the people and their age. Four steps are required."
      ],
      "metadata": {
        "id": "JOkb_BqroyQM"
      }
    },
    {
      "cell_type": "code",
      "source": [
        "#Create the list of tuple with the information\n",
        "list_p = [('John',19),('Smith',29),('Adam',35),('Henry',50)]"
      ],
      "metadata": {
        "id": "cwseLaqAoBZu"
      },
      "execution_count": null,
      "outputs": []
    },
    {
      "cell_type": "code",
      "source": [
        "#Build an RDD\n",
        "rdd = sc.parallelize(list_p)"
      ],
      "metadata": {
        "id": "bHDB-Lywo5i6"
      },
      "execution_count": null,
      "outputs": []
    },
    {
      "cell_type": "markdown",
      "source": [
        "From: https://www.databricks.com/glossary/what-is-rdd\n",
        "5 Reasons on When to use RDD\n",
        "1.   You want low-level transformation and actions and control on your dataset;\n",
        "2.   Your data is unstructured, such as media streams or streams of text;\n",
        "3.   You want to manipulate your data with functional programming constructs than domain specific expressions;\n",
        "4.   You don’t care about imposing a schema, such as columnar format while processing or accessing data attributes by name or column; and\n",
        "5.   You can forgo some optimization and performance benefits available with DataFrames and Datasets for structured and semi-structured data.\n",
        "\n",
        "\n",
        "Here is a great paper on RDDs to get the better understanding of their purpose: https://www.usenix.org/system/files/conference/nsdi12/nsdi12-final138.pdf . "
      ],
      "metadata": {
        "id": "H3Q59SFOp-83"
      }
    },
    {
      "cell_type": "code",
      "source": [
        "#Convert the tuples\n",
        "rdd.map(lambda x: Row(name=x[0], age=int(x[1])))"
      ],
      "metadata": {
        "colab": {
          "base_uri": "https://localhost:8080/"
        },
        "id": "eqo5mahbqwKA",
        "outputId": "08852646-ed90-4bb3-f1ce-af68eb0b5a04"
      },
      "execution_count": null,
      "outputs": [
        {
          "output_type": "execute_result",
          "data": {
            "text/plain": [
              "PythonRDD[1] at RDD at PythonRDD.scala:53"
            ]
          },
          "metadata": {},
          "execution_count": 14
        }
      ]
    },
    {
      "cell_type": "code",
      "source": [
        "#Create a DataFrame context\n",
        "ppl = rdd.map(lambda x: Row(name=x[0], age=int(x[1])))\n",
        "DF_ppl = sqlContext.createDataFrame(ppl)"
      ],
      "metadata": {
        "id": "Jp61ST5zrgdi"
      },
      "execution_count": null,
      "outputs": []
    },
    {
      "cell_type": "code",
      "source": [
        "DF_ppl.printSchema()"
      ],
      "metadata": {
        "colab": {
          "base_uri": "https://localhost:8080/"
        },
        "id": "CbEYc52GtqAl",
        "outputId": "c4e64a73-c8c8-4d41-cb28-6af18b009559"
      },
      "execution_count": null,
      "outputs": [
        {
          "output_type": "stream",
          "name": "stdout",
          "text": [
            "root\n",
            " |-- name: string (nullable = true)\n",
            " |-- age: long (nullable = true)\n",
            "\n"
          ]
        }
      ]
    },
    {
      "cell_type": "code",
      "source": [
        "DF_ppl.show(4)"
      ],
      "metadata": {
        "colab": {
          "base_uri": "https://localhost:8080/"
        },
        "id": "kD87nmTnvb78",
        "outputId": "0bf5d737-d708-4867-f473-ebc3c763919c"
      },
      "execution_count": null,
      "outputs": [
        {
          "output_type": "stream",
          "name": "stdout",
          "text": [
            "+-----+---+\n",
            "| name|age|\n",
            "+-----+---+\n",
            "| John| 19|\n",
            "|Smith| 29|\n",
            "| Adam| 35|\n",
            "|Henry| 50|\n",
            "+-----+---+\n",
            "\n"
          ]
        }
      ]
    },
    {
      "cell_type": "markdown",
      "source": [
        "# **ML in PySpark**"
      ],
      "metadata": {
        "id": "XmB9G30dwDKd"
      }
    },
    {
      "cell_type": "code",
      "source": [
        "df = sqlContext.read.csv(SparkFiles.get(\"adult_data.csv\"), header=True, inferSchema= True)"
      ],
      "metadata": {
        "id": "3nMwqtADwJZb"
      },
      "execution_count": null,
      "outputs": []
    },
    {
      "cell_type": "markdown",
      "source": [
        "Using the `inferSchema= True` argument, the `read.csv` function ensures that the objects are read in with their correct types. Read this data in with `inferSchema = False` and observe what occurs. "
      ],
      "metadata": {
        "id": "6bDLgHbuxK6K"
      }
    },
    {
      "cell_type": "code",
      "source": [
        "df.printSchema()"
      ],
      "metadata": {
        "colab": {
          "base_uri": "https://localhost:8080/"
        },
        "id": "UFXzjqjTw4xg",
        "outputId": "82d7c49e-9211-4cbd-a629-c4ddd26f832f"
      },
      "execution_count": null,
      "outputs": [
        {
          "output_type": "stream",
          "name": "stdout",
          "text": [
            "root\n",
            " |-- x: integer (nullable = true)\n",
            " |-- age: integer (nullable = true)\n",
            " |-- workclass: string (nullable = true)\n",
            " |-- fnlwgt: integer (nullable = true)\n",
            " |-- education: string (nullable = true)\n",
            " |-- educational-num: integer (nullable = true)\n",
            " |-- marital-status: string (nullable = true)\n",
            " |-- occupation: string (nullable = true)\n",
            " |-- relationship: string (nullable = true)\n",
            " |-- race: string (nullable = true)\n",
            " |-- gender: string (nullable = true)\n",
            " |-- capital-gain: integer (nullable = true)\n",
            " |-- capital-loss: integer (nullable = true)\n",
            " |-- hours-per-week: integer (nullable = true)\n",
            " |-- native-country: string (nullable = true)\n",
            " |-- income: string (nullable = true)\n",
            "\n"
          ]
        }
      ]
    },
    {
      "cell_type": "code",
      "source": [
        "url = \"https://raw.githubusercontent.com/guru99-edu/R-Programming/master/adult_data.csv\"\n",
        "from pyspark import SparkFiles\n",
        "sc.addFile(url)\n",
        "sqlContext = SQLContext(sc)"
      ],
      "metadata": {
        "id": "BRO0E3cHAOfg",
        "colab": {
          "base_uri": "https://localhost:8080/"
        },
        "outputId": "6fbcd201-448f-4070-fb9d-eead35e9f3bf"
      },
      "execution_count": null,
      "outputs": [
        {
          "output_type": "stream",
          "name": "stderr",
          "text": [
            "/content/spark-3.3.0-bin-hadoop3/python/pyspark/sql/context.py:114: FutureWarning: Deprecated in 3.0.0. Use SparkSession.builder.getOrCreate() instead.\n",
            "  FutureWarning,\n"
          ]
        }
      ]
    },
    {
      "cell_type": "code",
      "source": [
        "df_string = sqlContext.read.csv(SparkFiles.get(\"adult_data.csv\"), header=True, inferSchema= False)"
      ],
      "metadata": {
        "id": "OxTPaIxF_sLK"
      },
      "execution_count": null,
      "outputs": []
    },
    {
      "cell_type": "markdown",
      "source": [
        "**Challenge 1:** What is the difference between `df` and `df_string`? What is required now? Explain each line of the block of code below.  "
      ],
      "metadata": {
        "id": "vQWgmXNCytgo"
      }
    },
    {
      "cell_type": "code",
      "source": [
        "# Import all from `sql.types`\n",
        "from pyspark.sql.types import *\n",
        "\n",
        "# Write a custom function to convert the data type of DataFrame columns\n",
        "def convertColumn(df, names, newType):\n",
        "    for name in names: \n",
        "        df = df.withColumn(name, df[name].cast(newType))\n",
        "    return df \n",
        "# List of continuous features\n",
        "CONTI_FEATURES  = ['age', 'fnlwgt','capital-gain', 'educational-num', 'capital-loss', 'hours-per-week']\n",
        "# Convert the type\n",
        "df_string = convertColumn(df_string, CONTI_FEATURES, FloatType())\n",
        "# Check the dataset\n",
        "df_string.printSchema()"
      ],
      "metadata": {
        "id": "EzDEZVyV_Td-",
        "colab": {
          "base_uri": "https://localhost:8080/"
        },
        "outputId": "d96472dd-598d-45ad-9307-54e4c1b7e88b"
      },
      "execution_count": null,
      "outputs": [
        {
          "output_type": "stream",
          "name": "stdout",
          "text": [
            "root\n",
            " |-- x: string (nullable = true)\n",
            " |-- age: float (nullable = true)\n",
            " |-- workclass: string (nullable = true)\n",
            " |-- fnlwgt: float (nullable = true)\n",
            " |-- education: string (nullable = true)\n",
            " |-- educational-num: float (nullable = true)\n",
            " |-- marital-status: string (nullable = true)\n",
            " |-- occupation: string (nullable = true)\n",
            " |-- relationship: string (nullable = true)\n",
            " |-- race: string (nullable = true)\n",
            " |-- gender: string (nullable = true)\n",
            " |-- capital-gain: float (nullable = true)\n",
            " |-- capital-loss: float (nullable = true)\n",
            " |-- hours-per-week: float (nullable = true)\n",
            " |-- native-country: string (nullable = true)\n",
            " |-- income: string (nullable = true)\n",
            "\n"
          ]
        }
      ]
    },
    {
      "cell_type": "code",
      "source": [
        "from pyspark.ml.feature import StringIndexer\n",
        "#stringIndexer = StringIndexer(inputCol=\"label\", outputCol=\"newlabel\")\n",
        "#model = stringIndexer.fit(df)\n",
        "#df = model.transform(df)\n",
        "df.printSchema()"
      ],
      "metadata": {
        "id": "f7W-9Vy_AvLZ",
        "colab": {
          "base_uri": "https://localhost:8080/"
        },
        "outputId": "9a3ac33d-f113-4fd7-eaa7-432914983d8b"
      },
      "execution_count": null,
      "outputs": [
        {
          "output_type": "stream",
          "name": "stdout",
          "text": [
            "root\n",
            " |-- x: integer (nullable = true)\n",
            " |-- age: integer (nullable = true)\n",
            " |-- workclass: string (nullable = true)\n",
            " |-- fnlwgt: integer (nullable = true)\n",
            " |-- education: string (nullable = true)\n",
            " |-- educational-num: integer (nullable = true)\n",
            " |-- marital-status: string (nullable = true)\n",
            " |-- occupation: string (nullable = true)\n",
            " |-- relationship: string (nullable = true)\n",
            " |-- race: string (nullable = true)\n",
            " |-- gender: string (nullable = true)\n",
            " |-- capital-gain: integer (nullable = true)\n",
            " |-- capital-loss: integer (nullable = true)\n",
            " |-- hours-per-week: integer (nullable = true)\n",
            " |-- native-country: string (nullable = true)\n",
            " |-- income: string (nullable = true)\n",
            "\n"
          ]
        }
      ]
    },
    {
      "cell_type": "code",
      "source": [
        "df.show(5, truncate = False)"
      ],
      "metadata": {
        "id": "Ig-YID4pw66p",
        "colab": {
          "base_uri": "https://localhost:8080/"
        },
        "outputId": "af76b2a7-8ff9-429f-cd23-8ec3d7a7e1ba"
      },
      "execution_count": null,
      "outputs": [
        {
          "output_type": "stream",
          "name": "stdout",
          "text": [
            "+---+---+---------+------+------------+---------------+------------------+-----------------+------------+-----+------+------------+------------+--------------+--------------+------+\n",
            "|x  |age|workclass|fnlwgt|education   |educational-num|marital-status    |occupation       |relationship|race |gender|capital-gain|capital-loss|hours-per-week|native-country|income|\n",
            "+---+---+---------+------+------------+---------------+------------------+-----------------+------------+-----+------+------------+------------+--------------+--------------+------+\n",
            "|1  |25 |Private  |226802|11th        |7              |Never-married     |Machine-op-inspct|Own-child   |Black|Male  |0           |0           |40            |United-States |<=50K |\n",
            "|2  |38 |Private  |89814 |HS-grad     |9              |Married-civ-spouse|Farming-fishing  |Husband     |White|Male  |0           |0           |50            |United-States |<=50K |\n",
            "|3  |28 |Local-gov|336951|Assoc-acdm  |12             |Married-civ-spouse|Protective-serv  |Husband     |White|Male  |0           |0           |40            |United-States |>50K  |\n",
            "|4  |44 |Private  |160323|Some-college|10             |Married-civ-spouse|Machine-op-inspct|Husband     |Black|Male  |7688        |0           |40            |United-States |>50K  |\n",
            "|5  |18 |?        |103497|Some-college|10             |Never-married     |?                |Own-child   |White|Female|0           |0           |30            |United-States |<=50K |\n",
            "+---+---+---------+------+------------+---------------+------------------+-----------------+------------+-----+------+------------+------------+--------------+--------------+------+\n",
            "only showing top 5 rows\n",
            "\n"
          ]
        }
      ]
    },
    {
      "cell_type": "markdown",
      "source": [
        "**Descriptive Statistics**"
      ],
      "metadata": {
        "id": "yph3Wy6xzrC8"
      }
    },
    {
      "cell_type": "code",
      "source": [
        "# Using PySpark, we can get the descriptive statistics of a column \n",
        "#in a very similar way as we do in MySQL\n",
        "df.describe('educational-num').show()"
      ],
      "metadata": {
        "id": "bduGncM1zPzS",
        "colab": {
          "base_uri": "https://localhost:8080/"
        },
        "outputId": "5fef255b-663d-442e-f3e5-31ae1aff6666"
      },
      "execution_count": null,
      "outputs": [
        {
          "output_type": "stream",
          "name": "stdout",
          "text": [
            "+-------+------------------+\n",
            "|summary|   educational-num|\n",
            "+-------+------------------+\n",
            "|  count|             48842|\n",
            "|   mean|10.078088530363212|\n",
            "| stddev| 2.570972755592252|\n",
            "|    min|                 1|\n",
            "|    max|                16|\n",
            "+-------+------------------+\n",
            "\n"
          ]
        }
      ]
    },
    {
      "cell_type": "markdown",
      "source": [
        "**Challenge 2:** Calculate desciptive statistics by group. Calculate the average `capital_loss` per `workclass`. Be sure to use the aggregate function call. "
      ],
      "metadata": {
        "id": "-jIzquza1-9G"
      }
    },
    {
      "cell_type": "markdown",
      "source": [
        "**Crosstab Computation:** In some occasions, it can be interesting to see the descriptive statistics between two pairwise columns. For instance, you can count the number of people with income below or above 50k by age. This operation is called a crosstab."
      ],
      "metadata": {
        "id": "mJtUA6cYzwf4"
      }
    },
    {
      "cell_type": "code",
      "source": [
        "df.crosstab('age', 'income').sort(\"age_income\").show()"
      ],
      "metadata": {
        "id": "iDVvC9Mfzo1-",
        "colab": {
          "base_uri": "https://localhost:8080/"
        },
        "outputId": "99148d00-e9c8-475d-d4c4-131249563c13"
      },
      "execution_count": null,
      "outputs": [
        {
          "output_type": "stream",
          "name": "stdout",
          "text": [
            "+----------+-----+----+\n",
            "|age_income|<=50K|>50K|\n",
            "+----------+-----+----+\n",
            "|        17|  595|   0|\n",
            "|        18|  862|   0|\n",
            "|        19| 1050|   3|\n",
            "|        20| 1112|   1|\n",
            "|        21| 1090|   6|\n",
            "|        22| 1161|  17|\n",
            "|        23| 1307|  22|\n",
            "|        24| 1162|  44|\n",
            "|        25| 1119|  76|\n",
            "|        26| 1068|  85|\n",
            "|        27| 1117| 115|\n",
            "|        28| 1101| 179|\n",
            "|        29| 1025| 198|\n",
            "|        30| 1031| 247|\n",
            "|        31| 1050| 275|\n",
            "|        32|  957| 296|\n",
            "|        33| 1045| 290|\n",
            "|        34|  949| 354|\n",
            "|        35|  997| 340|\n",
            "|        36|  948| 400|\n",
            "+----------+-----+----+\n",
            "only showing top 20 rows\n",
            "\n"
          ]
        }
      ]
    },
    {
      "cell_type": "markdown",
      "source": [
        "**Challenge 3:** Create a crosstab between `educational-num` and race. What interesting findings do you see? Ensure that your new column is named `educational-num_race`. "
      ],
      "metadata": {
        "id": "QxSa9ACB0UMl"
      }
    },
    {
      "cell_type": "markdown",
      "source": [
        "**Data Preprocessing**\n",
        "Data processing is a critical step in machine learning. After you remove garbage data, you get some important insights.\n",
        "\n",
        "For instance, you know that age is not a linear function with the income. When people are young, their income is usually lower than mid-age. After retirement, a household uses their saving, meaning a decrease in income. To capture this pattern, you can add a square to the age feature. "
      ],
      "metadata": {
        "id": "bPkbs-l-2jWc"
      }
    },
    {
      "cell_type": "code",
      "source": [
        "from pyspark.sql.functions import *\n",
        "# 1 Select the column\n",
        "age_square = df.select(col(\"age\")**2)\n",
        "\n",
        "# 2 Apply the transformation and add it to the DataFrame\n",
        "df = df.withColumn(\"age_square\", col(\"age\")**2)\n",
        "\n",
        "df.printSchema()"
      ],
      "metadata": {
        "id": "TcJhciRa1zyL",
        "colab": {
          "base_uri": "https://localhost:8080/"
        },
        "outputId": "34d5a6a5-adf7-41d3-ac23-7117dc3f3805"
      },
      "execution_count": null,
      "outputs": [
        {
          "output_type": "stream",
          "name": "stdout",
          "text": [
            "root\n",
            " |-- x: integer (nullable = true)\n",
            " |-- age: integer (nullable = true)\n",
            " |-- workclass: string (nullable = true)\n",
            " |-- fnlwgt: integer (nullable = true)\n",
            " |-- education: string (nullable = true)\n",
            " |-- educational-num: integer (nullable = true)\n",
            " |-- marital-status: string (nullable = true)\n",
            " |-- occupation: string (nullable = true)\n",
            " |-- relationship: string (nullable = true)\n",
            " |-- race: string (nullable = true)\n",
            " |-- gender: string (nullable = true)\n",
            " |-- capital-gain: integer (nullable = true)\n",
            " |-- capital-loss: integer (nullable = true)\n",
            " |-- hours-per-week: integer (nullable = true)\n",
            " |-- native-country: string (nullable = true)\n",
            " |-- income: string (nullable = true)\n",
            " |-- age_square: double (nullable = true)\n",
            "\n"
          ]
        }
      ]
    },
    {
      "cell_type": "markdown",
      "source": [
        "**Challenge 4:** Write the code to identify the country with only 1 sample present. Remove this country from the data set using the this line of code: \n",
        "\n",
        "`df_remove = df.filter(df[native-country] != 'addCountryNameHere')`\n"
      ],
      "metadata": {
        "id": "SWr2dt0Z3JLY"
      }
    },
    {
      "cell_type": "markdown",
      "source": [
        "**Build a data processing pipeline**\n",
        "Similar to scikit-learn, Pyspark has a pipeline API.\n",
        "\n",
        "A pipeline is very convenient to maintain the structure of the data. You push the data into the pipeline. Inside the pipeline, various operations are done, the output is used to feed the algorithm.\n",
        "\n",
        "For instance, one universal transformation in machine learning consists of converting a string to one hot encoder, i.e., one column by a group. One hot encoder is usually a matrix full of zeroes.\n",
        "\n",
        "The steps to transform the data are very similar to scikit-learn. You need to:\n",
        "\n",
        "*   Index the string to numeric\n",
        "*   Create the one hot encoder\n",
        "*   Transform the data \n",
        "Two APIs do the job: StringIndexer and OneHotEncoder"
      ],
      "metadata": {
        "id": "sSTW6iaU3oeC"
      }
    },
    {
      "cell_type": "code",
      "source": [
        "from pyspark.ml.feature import StringIndexer, OneHotEncoder"
      ],
      "metadata": {
        "id": "BcVOxJRD4k5Y"
      },
      "execution_count": null,
      "outputs": []
    },
    {
      "cell_type": "code",
      "source": [
        "#The inputCol is the name of the column in the dataset. \n",
        "#outputCol is the new name given to the transformed column.\n",
        "stringIndexer = StringIndexer(inputCol=\"workclass\", outputCol=\"workclass_encoded\")"
      ],
      "metadata": {
        "id": "01vnlt7m3mxC"
      },
      "execution_count": null,
      "outputs": []
    },
    {
      "cell_type": "code",
      "source": [
        "#Fit the data and transform it\n",
        "model = stringIndexer.fit(df)\t\t\n",
        "indexed = model.transform(df)\n",
        "indexed.show(5)"
      ],
      "metadata": {
        "id": "bpHm6NJN42Ej",
        "colab": {
          "base_uri": "https://localhost:8080/"
        },
        "outputId": "cb6abbc7-2f57-4fbc-f649-f882d0b39d92"
      },
      "execution_count": null,
      "outputs": [
        {
          "output_type": "stream",
          "name": "stdout",
          "text": [
            "+---+---+---------+------+------------+---------------+------------------+-----------------+------------+-----+------+------------+------------+--------------+--------------+------+----------+-----------------+\n",
            "|  x|age|workclass|fnlwgt|   education|educational-num|    marital-status|       occupation|relationship| race|gender|capital-gain|capital-loss|hours-per-week|native-country|income|age_square|workclass_encoded|\n",
            "+---+---+---------+------+------------+---------------+------------------+-----------------+------------+-----+------+------------+------------+--------------+--------------+------+----------+-----------------+\n",
            "|  1| 25|  Private|226802|        11th|              7|     Never-married|Machine-op-inspct|   Own-child|Black|  Male|           0|           0|            40| United-States| <=50K|     625.0|              0.0|\n",
            "|  2| 38|  Private| 89814|     HS-grad|              9|Married-civ-spouse|  Farming-fishing|     Husband|White|  Male|           0|           0|            50| United-States| <=50K|    1444.0|              0.0|\n",
            "|  3| 28|Local-gov|336951|  Assoc-acdm|             12|Married-civ-spouse|  Protective-serv|     Husband|White|  Male|           0|           0|            40| United-States|  >50K|     784.0|              2.0|\n",
            "|  4| 44|  Private|160323|Some-college|             10|Married-civ-spouse|Machine-op-inspct|     Husband|Black|  Male|        7688|           0|            40| United-States|  >50K|    1936.0|              0.0|\n",
            "|  5| 18|        ?|103497|Some-college|             10|     Never-married|                ?|   Own-child|White|Female|           0|           0|            30| United-States| <=50K|     324.0|              3.0|\n",
            "+---+---+---------+------+------------+---------------+------------------+-----------------+------------+-----+------+------------+------------+--------------+--------------+------+----------+-----------------+\n",
            "only showing top 5 rows\n",
            "\n"
          ]
        }
      ]
    },
    {
      "cell_type": "code",
      "source": [
        "#Create the new columns based on the group. \n",
        "#For instance, if there are 10 groups in the feature, \n",
        "#the new matrix will have 10 columns, one for each group.\n",
        "\n",
        "encoder = OneHotEncoder(dropLast=False, inputCol=\"workclass_encoded\", outputCol=\"workclass_vec\")"
      ],
      "metadata": {
        "id": "-ZkNu92C475C"
      },
      "execution_count": null,
      "outputs": []
    },
    {
      "cell_type": "code",
      "source": [
        "ohe = encoder.fit(indexed) \n",
        "encoded = ohe.transform(indexed)\n",
        "encoded.show(10)"
      ],
      "metadata": {
        "id": "34zOOqq05_9M",
        "colab": {
          "base_uri": "https://localhost:8080/"
        },
        "outputId": "898dbf7d-e08e-40cc-cb30-f37572badd3e"
      },
      "execution_count": null,
      "outputs": [
        {
          "output_type": "stream",
          "name": "stdout",
          "text": [
            "+---+---+----------------+------+------------+---------------+------------------+-----------------+-------------+-----+------+------------+------------+--------------+--------------+------+----------+-----------------+-------------+\n",
            "|  x|age|       workclass|fnlwgt|   education|educational-num|    marital-status|       occupation| relationship| race|gender|capital-gain|capital-loss|hours-per-week|native-country|income|age_square|workclass_encoded|workclass_vec|\n",
            "+---+---+----------------+------+------------+---------------+------------------+-----------------+-------------+-----+------+------------+------------+--------------+--------------+------+----------+-----------------+-------------+\n",
            "|  1| 25|         Private|226802|        11th|              7|     Never-married|Machine-op-inspct|    Own-child|Black|  Male|           0|           0|            40| United-States| <=50K|     625.0|              0.0|(9,[0],[1.0])|\n",
            "|  2| 38|         Private| 89814|     HS-grad|              9|Married-civ-spouse|  Farming-fishing|      Husband|White|  Male|           0|           0|            50| United-States| <=50K|    1444.0|              0.0|(9,[0],[1.0])|\n",
            "|  3| 28|       Local-gov|336951|  Assoc-acdm|             12|Married-civ-spouse|  Protective-serv|      Husband|White|  Male|           0|           0|            40| United-States|  >50K|     784.0|              2.0|(9,[2],[1.0])|\n",
            "|  4| 44|         Private|160323|Some-college|             10|Married-civ-spouse|Machine-op-inspct|      Husband|Black|  Male|        7688|           0|            40| United-States|  >50K|    1936.0|              0.0|(9,[0],[1.0])|\n",
            "|  5| 18|               ?|103497|Some-college|             10|     Never-married|                ?|    Own-child|White|Female|           0|           0|            30| United-States| <=50K|     324.0|              3.0|(9,[3],[1.0])|\n",
            "|  6| 34|         Private|198693|        10th|              6|     Never-married|    Other-service|Not-in-family|White|  Male|           0|           0|            30| United-States| <=50K|    1156.0|              0.0|(9,[0],[1.0])|\n",
            "|  7| 29|               ?|227026|     HS-grad|              9|     Never-married|                ?|    Unmarried|Black|  Male|           0|           0|            40| United-States| <=50K|     841.0|              3.0|(9,[3],[1.0])|\n",
            "|  8| 63|Self-emp-not-inc|104626| Prof-school|             15|Married-civ-spouse|   Prof-specialty|      Husband|White|  Male|        3103|           0|            32| United-States|  >50K|    3969.0|              1.0|(9,[1],[1.0])|\n",
            "|  9| 24|         Private|369667|Some-college|             10|     Never-married|    Other-service|    Unmarried|White|Female|           0|           0|            40| United-States| <=50K|     576.0|              0.0|(9,[0],[1.0])|\n",
            "| 10| 55|         Private|104996|     7th-8th|              4|Married-civ-spouse|     Craft-repair|      Husband|White|  Male|           0|           0|            10| United-States| <=50K|    3025.0|              0.0|(9,[0],[1.0])|\n",
            "+---+---+----------------+------+------------+---------------+------------------+-----------------+-------------+-----+------+------------+------------+--------------+--------------+------+----------+-----------------+-------------+\n",
            "only showing top 10 rows\n",
            "\n"
          ]
        }
      ]
    },
    {
      "cell_type": "markdown",
      "source": [
        "**Encode all categorical data**"
      ],
      "metadata": {
        "id": "1RAarG827hHt"
      }
    },
    {
      "cell_type": "code",
      "source": [
        "from pyspark.ml import Pipeline\n",
        "from pyspark.ml.feature import OneHotEncoder, VectorAssembler\n",
        "CATE_FEATURES = ['workclass', 'education', 'marital-status', 'occupation', 'relationship', 'race', 'gender', 'native-country']\n",
        "stages = [] # stages in our Pipeline\n",
        "for categoricalCol in CATE_FEATURES:\n",
        "    stringIndexer = StringIndexer(inputCol=categoricalCol, outputCol=categoricalCol + \"Index\")\n",
        "    encoder = OneHotEncoder(inputCols=[stringIndexer.getOutputCol()],\n",
        "                                     outputCols=[categoricalCol + \"classVec\"])\n",
        "    stages += [stringIndexer, encoder]"
      ],
      "metadata": {
        "id": "UrJtYCJq70VX"
      },
      "execution_count": null,
      "outputs": []
    },
    {
      "cell_type": "code",
      "source": [
        "# Convert label into label indices using the StringIndexer\n",
        "label_stringIdx =  StringIndexer(inputCol=\"income\", outputCol=\"newlabel\")\n",
        "stages += [label_stringIdx]"
      ],
      "metadata": {
        "id": "lsEPl-FL8WAs"
      },
      "execution_count": null,
      "outputs": []
    },
    {
      "cell_type": "markdown",
      "source": [
        "The inputCols of the VectorAssembler is a list of columns. You can create a new list containing all the new columns. The code below popluate the list with encoded categorical features and the continuous features."
      ],
      "metadata": {
        "id": "jrGxV_N68fBA"
      }
    },
    {
      "cell_type": "code",
      "source": [
        "# List of continuous features\n",
        "assemblerInputs = [c + \"classVec\" for c in CATE_FEATURES] + CONTI_FEATURES"
      ],
      "metadata": {
        "id": "eZChYp0t8aFs"
      },
      "execution_count": null,
      "outputs": []
    },
    {
      "cell_type": "code",
      "source": [
        "assembler = VectorAssembler(inputCols=assemblerInputs, outputCol=\"features\")\n",
        "stages += [assembler]"
      ],
      "metadata": {
        "id": "XNiKmoj69PGF"
      },
      "execution_count": null,
      "outputs": []
    },
    {
      "cell_type": "markdown",
      "source": [
        "In the line of code below, you will use the df_remove variable that you generated in **Challenge 5**. "
      ],
      "metadata": {
        "id": "iezsoxYN-Qh8"
      }
    },
    {
      "cell_type": "code",
      "source": [
        "df_remove.show()"
      ],
      "metadata": {
        "colab": {
          "base_uri": "https://localhost:8080/"
        },
        "id": "VmOsw1cq6dHB",
        "outputId": "bd4fd7cc-185b-4cf4-e43f-d8dc9d492f76"
      },
      "execution_count": null,
      "outputs": [
        {
          "output_type": "stream",
          "name": "stdout",
          "text": [
            "+---+---+----------------+------+------------+---------------+------------------+-----------------+-------------+------------------+------+------------+------------+--------------+--------------+------+----------+\n",
            "|  x|age|       workclass|fnlwgt|   education|educational-num|    marital-status|       occupation| relationship|              race|gender|capital-gain|capital-loss|hours-per-week|native-country|income|age_square|\n",
            "+---+---+----------------+------+------------+---------------+------------------+-----------------+-------------+------------------+------+------------+------------+--------------+--------------+------+----------+\n",
            "|  1| 25|         Private|226802|        11th|              7|     Never-married|Machine-op-inspct|    Own-child|             Black|  Male|           0|           0|            40| United-States| <=50K|     625.0|\n",
            "|  2| 38|         Private| 89814|     HS-grad|              9|Married-civ-spouse|  Farming-fishing|      Husband|             White|  Male|           0|           0|            50| United-States| <=50K|    1444.0|\n",
            "|  3| 28|       Local-gov|336951|  Assoc-acdm|             12|Married-civ-spouse|  Protective-serv|      Husband|             White|  Male|           0|           0|            40| United-States|  >50K|     784.0|\n",
            "|  4| 44|         Private|160323|Some-college|             10|Married-civ-spouse|Machine-op-inspct|      Husband|             Black|  Male|        7688|           0|            40| United-States|  >50K|    1936.0|\n",
            "|  5| 18|               ?|103497|Some-college|             10|     Never-married|                ?|    Own-child|             White|Female|           0|           0|            30| United-States| <=50K|     324.0|\n",
            "|  6| 34|         Private|198693|        10th|              6|     Never-married|    Other-service|Not-in-family|             White|  Male|           0|           0|            30| United-States| <=50K|    1156.0|\n",
            "|  7| 29|               ?|227026|     HS-grad|              9|     Never-married|                ?|    Unmarried|             Black|  Male|           0|           0|            40| United-States| <=50K|     841.0|\n",
            "|  8| 63|Self-emp-not-inc|104626| Prof-school|             15|Married-civ-spouse|   Prof-specialty|      Husband|             White|  Male|        3103|           0|            32| United-States|  >50K|    3969.0|\n",
            "|  9| 24|         Private|369667|Some-college|             10|     Never-married|    Other-service|    Unmarried|             White|Female|           0|           0|            40| United-States| <=50K|     576.0|\n",
            "| 10| 55|         Private|104996|     7th-8th|              4|Married-civ-spouse|     Craft-repair|      Husband|             White|  Male|           0|           0|            10| United-States| <=50K|    3025.0|\n",
            "| 11| 65|         Private|184454|     HS-grad|              9|Married-civ-spouse|Machine-op-inspct|      Husband|             White|  Male|        6418|           0|            40| United-States|  >50K|    4225.0|\n",
            "| 12| 36|     Federal-gov|212465|   Bachelors|             13|Married-civ-spouse|     Adm-clerical|      Husband|             White|  Male|           0|           0|            40| United-States| <=50K|    1296.0|\n",
            "| 13| 26|         Private| 82091|     HS-grad|              9|     Never-married|     Adm-clerical|Not-in-family|             White|Female|           0|           0|            39| United-States| <=50K|     676.0|\n",
            "| 14| 58|               ?|299831|     HS-grad|              9|Married-civ-spouse|                ?|      Husband|             White|  Male|           0|           0|            35| United-States| <=50K|    3364.0|\n",
            "| 15| 48|         Private|279724|     HS-grad|              9|Married-civ-spouse|Machine-op-inspct|      Husband|             White|  Male|        3103|           0|            48| United-States|  >50K|    2304.0|\n",
            "| 16| 43|         Private|346189|     Masters|             14|Married-civ-spouse|  Exec-managerial|      Husband|             White|  Male|           0|           0|            50| United-States|  >50K|    1849.0|\n",
            "| 17| 20|       State-gov|444554|Some-college|             10|     Never-married|    Other-service|    Own-child|             White|  Male|           0|           0|            25| United-States| <=50K|     400.0|\n",
            "| 18| 43|         Private|128354|     HS-grad|              9|Married-civ-spouse|     Adm-clerical|         Wife|             White|Female|           0|           0|            30| United-States| <=50K|    1849.0|\n",
            "| 19| 37|         Private| 60548|     HS-grad|              9|           Widowed|Machine-op-inspct|    Unmarried|             White|Female|           0|           0|            20| United-States| <=50K|    1369.0|\n",
            "| 20| 40|         Private| 85019|   Doctorate|             16|Married-civ-spouse|   Prof-specialty|      Husband|Asian-Pac-Islander|  Male|           0|           0|            45|             ?|  >50K|    1600.0|\n",
            "+---+---+----------------+------+------------+---------------+------------------+-----------------+-------------+------------------+------+------------+------------+--------------+--------------+------+----------+\n",
            "only showing top 20 rows\n",
            "\n"
          ]
        }
      ]
    },
    {
      "cell_type": "code",
      "source": [
        "# Create a Pipeline.\n",
        "pipeline = Pipeline(stages=stages)"
      ],
      "metadata": {
        "id": "b05_zyVn9inV"
      },
      "execution_count": null,
      "outputs": []
    },
    {
      "cell_type": "code",
      "source": [
        "pipelineModel = pipeline.fit(df_remove)\n"
      ],
      "metadata": {
        "id": "thNK4zzF6juQ"
      },
      "execution_count": null,
      "outputs": []
    },
    {
      "cell_type": "code",
      "source": [
        "model = pipelineModel.transform(df_remove)"
      ],
      "metadata": {
        "id": "VkhJAcjV6n22"
      },
      "execution_count": null,
      "outputs": []
    },
    {
      "cell_type": "markdown",
      "source": [
        "If you check the new dataset, you can see that it contains all the features, transformed and not transformed. You are only interested by the newlabel and features. The features includes all the transformed features and the continuous variables."
      ],
      "metadata": {
        "id": "o3UYqS11-oT7"
      }
    },
    {
      "cell_type": "code",
      "source": [
        "model.take(1)"
      ],
      "metadata": {
        "id": "0__BF_PP-jbf",
        "colab": {
          "base_uri": "https://localhost:8080/"
        },
        "outputId": "c14fcf21-606f-431a-b171-6a18a84a3420"
      },
      "execution_count": null,
      "outputs": [
        {
          "output_type": "execute_result",
          "data": {
            "text/plain": [
              "[Row(x=1, age=25, workclass='Private', fnlwgt=226802, education='11th', educational-num=7, marital-status='Never-married', occupation='Machine-op-inspct', relationship='Own-child', race='Black', gender='Male', capital-gain=0, capital-loss=0, hours-per-week=40, native-country='United-States', income='<=50K', age_square=625.0, workclassIndex=0.0, workclassclassVec=SparseVector(8, {0: 1.0}), educationIndex=5.0, educationclassVec=SparseVector(15, {5: 1.0}), marital-statusIndex=1.0, marital-statusclassVec=SparseVector(6, {1: 1.0}), occupationIndex=6.0, occupationclassVec=SparseVector(14, {6: 1.0}), relationshipIndex=2.0, relationshipclassVec=SparseVector(5, {2: 1.0}), raceIndex=1.0, raceclassVec=SparseVector(4, {1: 1.0}), genderIndex=0.0, genderclassVec=SparseVector(1, {0: 1.0}), native-countryIndex=0.0, native-countryclassVec=SparseVector(40, {0: 1.0}), newlabel=0.0, features=SparseVector(99, {0: 1.0, 13: 1.0, 24: 1.0, 35: 1.0, 45: 1.0, 49: 1.0, 52: 1.0, 53: 1.0, 93: 25.0, 94: 226802.0, 96: 7.0, 98: 40.0}))]"
            ]
          },
          "metadata": {},
          "execution_count": 75
        }
      ]
    },
    {
      "cell_type": "markdown",
      "source": [
        "**Build a Logistic Classifier**"
      ],
      "metadata": {
        "id": "e6_Dc3_tBpmh"
      }
    },
    {
      "cell_type": "markdown",
      "source": [
        "**Challenge 5:** Explain each line of the remaining blocks of code below. Please explain the results. "
      ],
      "metadata": {
        "id": "F3bC3HpgCfps"
      }
    },
    {
      "cell_type": "code",
      "source": [
        "from pyspark.ml.linalg import DenseVector\n",
        "input_data = model.rdd.map(lambda x: (x[\"newlabel\"], DenseVector(x[\"features\"])))\n",
        "input_data"
      ],
      "metadata": {
        "id": "YdEN2S1JBl3u",
        "colab": {
          "base_uri": "https://localhost:8080/"
        },
        "outputId": "5c80bbc2-4b65-447e-a4a3-9d42df0ec6d4"
      },
      "execution_count": null,
      "outputs": [
        {
          "output_type": "execute_result",
          "data": {
            "text/plain": [
              "PythonRDD[313] at RDD at PythonRDD.scala:53"
            ]
          },
          "metadata": {},
          "execution_count": 83
        }
      ]
    },
    {
      "cell_type": "markdown",
      "source": [
        "# Here we import DenseVector from the pyspark.ml.linalg and create a new model with Map and lambda functions."
      ],
      "metadata": {
        "id": "c73km3vbUVed"
      }
    },
    {
      "cell_type": "code",
      "source": [
        "df_train = sqlContext.createDataFrame(input_data, [\"income\", \"features\"])\n",
        "df_train"
      ],
      "metadata": {
        "colab": {
          "base_uri": "https://localhost:8080/"
        },
        "id": "pOpPIvW-92m-",
        "outputId": "079477e3-39e0-4f54-8687-4e8bed21f293"
      },
      "execution_count": null,
      "outputs": [
        {
          "output_type": "execute_result",
          "data": {
            "text/plain": [
              "DataFrame[income: double, features: vector]"
            ]
          },
          "metadata": {},
          "execution_count": 84
        }
      ]
    },
    {
      "cell_type": "markdown",
      "source": [
        "# From the code we are creating a training set from the 'input_data' creted above.  "
      ],
      "metadata": {
        "id": "nrLFNt_HYwWc"
      }
    },
    {
      "cell_type": "code",
      "source": [
        "df_train.show(2)"
      ],
      "metadata": {
        "id": "oC95l4m7By5g",
        "colab": {
          "base_uri": "https://localhost:8080/"
        },
        "outputId": "d316c1be-c857-4c1a-e779-31bed0ec4ccb"
      },
      "execution_count": null,
      "outputs": [
        {
          "output_type": "stream",
          "name": "stdout",
          "text": [
            "+------+--------------------+\n",
            "|income|            features|\n",
            "+------+--------------------+\n",
            "|   0.0|[1.0,0.0,0.0,0.0,...|\n",
            "|   0.0|[1.0,0.0,0.0,0.0,...|\n",
            "+------+--------------------+\n",
            "only showing top 2 rows\n",
            "\n"
          ]
        }
      ]
    },
    {
      "cell_type": "markdown",
      "source": [
        "# The code will show the characteristics of the features of the training data frame created"
      ],
      "metadata": {
        "id": "P6Kqq28YZn6Z"
      }
    },
    {
      "cell_type": "code",
      "source": [
        "train_data, test_data = df_train.randomSplit([.8,.2],seed=1234)\n",
        "train_data.groupby('income').agg({'income': 'count'}).show()"
      ],
      "metadata": {
        "id": "nN46qAJOB0kO",
        "colab": {
          "base_uri": "https://localhost:8080/"
        },
        "outputId": "2f220fda-f1bb-4d19-f46c-969249dde6b7"
      },
      "execution_count": null,
      "outputs": [
        {
          "output_type": "stream",
          "name": "stdout",
          "text": [
            "+------+-------------+\n",
            "|income|count(income)|\n",
            "+------+-------------+\n",
            "|   0.0|        29701|\n",
            "|   1.0|         9345|\n",
            "+------+-------------+\n",
            "\n"
          ]
        }
      ]
    },
    {
      "cell_type": "markdown",
      "source": [
        "# This code will split the data into training set and test set in a 80:20 ratio. The training data is grouped by income, the count of the two categories <50k and >50k are as shown above."
      ],
      "metadata": {
        "id": "E_RqjzCcZ2Pd"
      }
    },
    {
      "cell_type": "code",
      "source": [
        "test_data.groupby('income').agg({'income': 'count'}).show()"
      ],
      "metadata": {
        "id": "B1Y2GtKfB9Oh",
        "colab": {
          "base_uri": "https://localhost:8080/"
        },
        "outputId": "c481859a-fb07-4ad3-cf4c-ad6bfd543341"
      },
      "execution_count": null,
      "outputs": [
        {
          "output_type": "stream",
          "name": "stdout",
          "text": [
            "+------+-------------+\n",
            "|income|count(income)|\n",
            "+------+-------------+\n",
            "|   0.0|         7453|\n",
            "|   1.0|         2342|\n",
            "+------+-------------+\n",
            "\n"
          ]
        }
      ]
    },
    {
      "cell_type": "markdown",
      "source": [
        "# the code describes the test data grouped by income and the count of the two categosries <50k and >50k"
      ],
      "metadata": {
        "id": "s6WDTaIncg-Z"
      }
    },
    {
      "cell_type": "code",
      "source": [
        "from pyspark.ml.classification import LogisticRegression\n",
        "lr = LogisticRegression(labelCol=\"income\",\n",
        "                        featuresCol=\"features\",\n",
        "                        maxIter=10,\n",
        "                        regParam=0.3)\n",
        "linearModel = lr.fit(train_data)"
      ],
      "metadata": {
        "id": "i5xqurn_CKF_"
      },
      "execution_count": null,
      "outputs": []
    },
    {
      "cell_type": "markdown",
      "source": [
        "# Here we are importing the logistic regression library and creating the model. the y variable for this predictive model is 'income'. The model is linear and excuted with lr.fit()"
      ],
      "metadata": {
        "id": "poD91jsec-sz"
      }
    },
    {
      "cell_type": "code",
      "source": [
        "print(\"Coefficients: \" + str(linearModel.coefficients))\n",
        "print(\"Intercept: \" + str(linearModel.intercept))"
      ],
      "metadata": {
        "id": "XxJDXZCRCP4T",
        "colab": {
          "base_uri": "https://localhost:8080/"
        },
        "outputId": "0e9f91e7-6afa-493a-ac6e-21bf31cb54aa"
      },
      "execution_count": null,
      "outputs": [
        {
          "output_type": "stream",
          "name": "stdout",
          "text": [
            "Coefficients: [-0.012145059249910122,-0.0682386093476486,0.025909731768064315,-0.15292515783828675,-0.044840458857516995,0.27970562888971845,0.2464758083576431,-0.45604247127386094,-0.136522303197039,-0.03315220059099743,0.22625745712162806,0.3701547467909729,0.0037020958989733084,-0.22829460750029992,0.019811878548210732,-0.23459262516102142,-0.26076305920442827,0.5250358407234748,-0.2354378487742744,-0.19113553874878175,0.5107503253509816,-0.2281708617757241,-0.26101559318585477,0.4116069058874862,-0.31119334767374324,-0.18014793011827124,-0.18777770284996662,-0.15923275299794767,-0.1517441285020219,0.24989942019871192,-0.03146648002530864,0.33886264346132794,-0.09526103834724893,0.061295128791126974,-0.25564705012497213,-0.1686924264282359,-0.15344218378465108,-0.06958149377296688,-0.21803359540612732,-0.2754137819908856,0.10549640739397073,0.1107838557532812,-0.22011813710286268,0.3434580549808888,-0.19388305268234207,-0.27958466874037724,-0.2138644021840044,0.4479481504436874,0.08266063744191239,-0.09531545087539811,0.021102518841867902,-0.1371603530686074,0.18470417478812579,0.06502365577569026,-0.24407978734214072,-0.008616558367507332,0.1293423608037903,0.050404707622375707,-0.12368634936256355,0.1749344392241056,-0.1416137861482617,0.09275816076150184,-0.05279970244569304,0.17602868472075706,-0.049689402798563945,-0.12543845657689062,-0.012887808017863482,0.09689321063735613,-0.21058907263867727,0.13352718418824908,-0.18529650922567165,-0.05635127472698778,-0.25640530857992355,-0.3359478259190333,-0.1429081014402961,-0.0382783632664009,-0.009126263773042443,0.054231070301098055,-0.03999293082334102,-0.25567207230663314,-0.2128457387563625,-0.14638687143921314,0.33005095071498625,0.25621039920430866,-0.03638901231404318,-0.134581022478459,0.3042804632990657,-0.22939109038226282,-0.19622960981112422,-0.367178918057202,0.14720984792599637,-0.27189347314862583,-0.10720783699668687,0.008217865932492059,1.2568564369644246e-07,1.880747942064526e-05,0.06288286270452008,0.00021266099862597996,0.009297531057421655]\n",
            "Intercept: -3.1023313741665186\n"
          ]
        }
      ]
    },
    {
      "cell_type": "markdown",
      "source": [
        "#From the model we are printing the coefficients and the intercept from the model."
      ],
      "metadata": {
        "id": "zWwtzrZldoYL"
      }
    },
    {
      "cell_type": "code",
      "source": [
        "predictions = linearModel.transform(test_data)"
      ],
      "metadata": {
        "id": "S56H7RjGCTip"
      },
      "execution_count": null,
      "outputs": []
    },
    {
      "cell_type": "markdown",
      "source": [
        "# We are now testing the model using the test set to test its predictive power"
      ],
      "metadata": {
        "id": "rMRx6FYNd6rN"
      }
    },
    {
      "cell_type": "code",
      "source": [
        "cm = predictions.select(\"income\", \"prediction\")"
      ],
      "metadata": {
        "id": "C_scbox-CVS4"
      },
      "execution_count": null,
      "outputs": []
    },
    {
      "cell_type": "markdown",
      "source": [
        "# We create cm and it selects the variables 'income' and prediction"
      ],
      "metadata": {
        "id": "ss4paK0JeNp1"
      }
    },
    {
      "cell_type": "code",
      "source": [
        "cm.groupby('income').agg({'income': 'count'}).show()"
      ],
      "metadata": {
        "id": "09IHph1uCaOd",
        "colab": {
          "base_uri": "https://localhost:8080/"
        },
        "outputId": "d1b5676d-0961-41ee-ef37-8b82243395a7"
      },
      "execution_count": null,
      "outputs": [
        {
          "output_type": "stream",
          "name": "stdout",
          "text": [
            "+------+-------------+\n",
            "|income|count(income)|\n",
            "+------+-------------+\n",
            "|   0.0|         7453|\n",
            "|   1.0|         2342|\n",
            "+------+-------------+\n",
            "\n"
          ]
        }
      ]
    },
    {
      "cell_type": "markdown",
      "source": [
        "#The code takes the object cm and groups the data by income taking a tally of the individually grouped data."
      ],
      "metadata": {
        "id": "bPiT_ogqeilB"
      }
    },
    {
      "cell_type": "code",
      "source": [
        "cm.groupby('prediction').agg({'prediction': 'count'}).show()"
      ],
      "metadata": {
        "id": "gVbGzJMuCeBK",
        "colab": {
          "base_uri": "https://localhost:8080/"
        },
        "outputId": "9a61fd8d-40c9-4fe5-fd67-e869ead8e30c"
      },
      "execution_count": null,
      "outputs": [
        {
          "output_type": "stream",
          "name": "stdout",
          "text": [
            "+----------+-----------------+\n",
            "|prediction|count(prediction)|\n",
            "+----------+-----------------+\n",
            "|       0.0|             8768|\n",
            "|       1.0|             1027|\n",
            "+----------+-----------------+\n",
            "\n"
          ]
        }
      ]
    },
    {
      "cell_type": "markdown",
      "source": [
        "# Here we see the results of the predicted variables agreggated"
      ],
      "metadata": {
        "id": "0SSKUaIhe7rJ"
      }
    }
  ]
}